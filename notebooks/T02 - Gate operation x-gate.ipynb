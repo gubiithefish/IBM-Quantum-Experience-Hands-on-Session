{
 "cells": [
  {
   "cell_type": "markdown",
   "metadata": {},
   "source": [
    "# 1.2 Exercise 2 - [x]-gate operation on Qubit"
   ]
  },
  {
   "cell_type": "markdown",
   "metadata": {},
   "source": [
    "---\n",
    "## 1.2.0 Import of libraries for the program"
   ]
  },
  {
   "cell_type": "code",
   "execution_count": 2,
   "metadata": {},
   "outputs": [],
   "source": [
    "# Full import of Qiskit library\n",
    "from qiskit import *"
   ]
  },
  {
   "cell_type": "markdown",
   "metadata": {},
   "source": [
    "---\n",
    "## 1.2.1 The Quantum Circuit"
   ]
  },
  {
   "cell_type": "markdown",
   "metadata": {},
   "source": [
    "As before, we will start with 2x |0<b>⟩</b> Qubits, one of which, we will perfom an [x]-gate operation on, which in the end should yield the output: 01<br>\n",
    "\n",
    "<div class=\"alert alert-block alert-warning\">\n",
    "    <b>Note:</b> The [x]-gate flips the state of the Qubit, meaning that a Qubit with a value of |0<b>⟩</b> will be flipped to become a |1<b>⟩</b>, and vice versa.\n",
    "</div>\n",
    "\n",
    "<strong style=\"color: orange;\">Firstly</strong>, we initiate our quantum program with the three main compontents again:"
   ]
  },
  {
   "cell_type": "code",
   "execution_count": 15,
   "metadata": {},
   "outputs": [],
   "source": [
    "# Create a Quantum Register with 2 qubits.\n",
    "qr = QuantumRegister(2)\n",
    "\n",
    "# Create a classical register with 2 bits\n",
    "cr = ClassicalRegister(2)\n",
    "\n",
    "# Create a Quantum Circuit containing our QR and CR. \n",
    "circuit = QuantumCircuit(qr,cr)\n",
    "\n",
    "# Prepare the method to draw our quantum program\n",
    "circuit.draw();"
   ]
  },
  {
   "cell_type": "markdown",
   "metadata": {},
   "source": [
    "---\n",
    "## 1.2.2 Adding operations to the Quantum Circuit\n",
    "<strong style=\"color: orange;\">Secondly</strong>, we add not only the measurement operations, but the [x]-gate operations as well."
   ]
  },
  {
   "cell_type": "code",
   "execution_count": 16,
   "metadata": {},
   "outputs": [],
   "source": [
    "# Adding a single [x]-gate to one of the two Quantum Registers\n",
    "circuit.x(qr[0]);\n",
    "\n",
    "# Adding a barrier for visualising purposes\n",
    "circuit.barrier()\n",
    "\n",
    "# Adding the measurement operation to all Quantum Registers\n",
    "circuit.measure(qr, cr);"
   ]
  },
  {
   "cell_type": "markdown",
   "metadata": {},
   "source": [
    "---\n",
    "## 1.2.3 Visualising the Quantum Circuit \n",
    "<strong style=\"color: orange;\">Thirdly</strong>, we want to view our Quantum Circuit to see, if it resembles what we had in mind: One [x]-gate first, followed by two measurement operations."
   ]
  },
  {
   "cell_type": "code",
   "execution_count": 17,
   "metadata": {},
   "outputs": [
    {
     "data": {
      "image/png": "[encoded data removed]",
      "text/plain": [
       "<Figure size 421.4x258.86 with 1 Axes>"
      ]
     },
     "execution_count": 17,
     "metadata": {},
     "output_type": "execute_result"
    }
   ],
   "source": [
    "circuit.draw(output='mpl')"
   ]
  },
  {
   "cell_type": "markdown",
   "metadata": {},
   "source": [
    "---\n",
    "## 1.2.4 Run the Quantum Program\n",
    "<strong style=\"color: orange;\">Fourthly</strong>, "
   ]
  },
  {
   "cell_type": "code",
   "execution_count": 7,
   "metadata": {},
   "outputs": [
    {
     "data": {
      "text/plain": [
       "{'01': 1}"
      ]
     },
     "execution_count": 7,
     "metadata": {},
     "output_type": "execute_result"
    }
   ],
   "source": [
    "# Load the backend to run our Quantum Program\n",
    "backend = BasicAer.get_backend('statevector_simulator')\n",
    "\n",
    "# Execute the Quantum Program\n",
    "job = qiskit.execute(circuit, backend)\n",
    "\n",
    "# Get the results from the job\n",
    "result = job.result()\n",
    "\n",
    "# Print the result\n",
    "result.get_counts(circuit)"
   ]
  },
  {
   "cell_type": "markdown",
   "metadata": {},
   "source": [
    "---\n",
    "## 1.2.5 Visualize the Qubits and the Result!\n",
    "<strong style=\"color: orange;\">Lastly</strong>, to m"
   ]
  },
  {
   "cell_type": "code",
   "execution_count": null,
   "metadata": {},
   "outputs": [],
   "source": []
  },
  {
   "cell_type": "code",
   "execution_count": null,
   "metadata": {},
   "outputs": [],
   "source": []
  }
 ],
 "metadata": {
  "kernelspec": {
   "display_name": "Python 3",
   "language": "python",
   "name": "python3"
  },
  "language_info": {
   "codemirror_mode": {
    "name": "ipython",
    "version": 3
   },
   "file_extension": ".py",
   "mimetype": "text/x-python",
   "name": "python",
   "nbconvert_exporter": "python",
   "pygments_lexer": "ipython3",
   "version": "3.7.3"
  }
 },
 "nbformat": 4,
 "nbformat_minor": 2
}
