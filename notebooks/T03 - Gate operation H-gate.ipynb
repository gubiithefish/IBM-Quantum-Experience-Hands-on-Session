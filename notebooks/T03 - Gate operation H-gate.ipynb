{
 "cells": [
  {
   "cell_type": "markdown",
   "metadata": {},
   "source": [
    "# 1.3 Exercise 3 - [H]-gate operation on Qubit"
   ]
  },
  {
   "cell_type": "markdown",
   "metadata": {},
   "source": [
    "---\n",
    "## 1.3.0 Import of libraries for the program"
   ]
  },
  {
   "cell_type": "code",
   "execution_count": 1,
   "metadata": {},
   "outputs": [],
   "source": [
    "# Full import of Qiskit library\n",
    "import qiskit\n",
    "\n",
    "# Singular import of the attributes within the Qiskit library (Makes the code easier to read)\n",
    "from qiskit import BasicAer, QuantumRegister, ClassicalRegister, QuantumCircuit"
   ]
  },
  {
   "cell_type": "markdown",
   "metadata": {},
   "source": [
    "---\n",
    "## 1.3.1 The Quantum Circuit"
   ]
  },
  {
   "cell_type": "markdown",
   "metadata": {},
   "source": [
    "As before, we will start with 2x |0<b>⟩</b> Qubits, one of which, we will perfom an [H]-gate operation on, which in the end should yield the output: 01 **or** 00<br>\n",
    "\n",
    "<div class=\"alert alert-block alert-warning\">\n",
    "    <b>Note:</b> The [H]-gate sets the Qubit in a state called superposition. Superposition is a state where the Qubit is somewhere inbetween the value |0<b>⟩</b> and |1<b>⟩</b>. When measureing a Qubit in superposition you have an equal chance of reading a 0 or a 1.\n",
    "    \n",
    "![Image of Yaktocat](https://i.imgflip.com/2xhrnd.jpg)\n",
    "    \n",
    "It's more formal name is the Hadamard gate, and it's one of the most common gates used in quantum computing, and one that you surely will get more aquainted with as you explore quantum computing. The Hadamard gate transforms the state of a Qubit to and from superposition. This is often used at the start of quantum algorithms, as Qubits usually needs to be in a superposition for certain algorithms to work.\n",
    "\n",
    "</div>\n",
    "\n",
    "<strong style=\"color: orange;\">Firstly</strong>, we initiate our quantum program with the three main compontents again:"
   ]
  },
  {
   "cell_type": "code",
   "execution_count": 2,
   "metadata": {},
   "outputs": [],
   "source": [
    "# Create a Quantum Register with 2 qubits.\n",
    "qr = QuantumRegister(2)\n",
    "\n",
    "# Create a classical register with 2 bits\n",
    "cr = ClassicalRegister(2)\n",
    "\n",
    "# Create a Quantum Circuit containing our QR and CR. \n",
    "circuit = QuantumCircuit(qr,cr)\n",
    "\n",
    "# Prepare the method to draw our quantum program\n",
    "circuit.draw();"
   ]
  },
  {
   "cell_type": "markdown",
   "metadata": {},
   "source": [
    "---\n",
    "## 1.3.2 Adding operations to the Quantum Circuit\n",
    "<strong style=\"color: orange;\">Secondly</strong>, we add the measurement operations again, along with the [H]-gate operations."
   ]
  },
  {
   "cell_type": "code",
   "execution_count": 3,
   "metadata": {},
   "outputs": [],
   "source": [
    "# Adding a single [x]-gate to one of the two Quantum Registers\n",
    "circuit.h(qr[0]);\n",
    "\n",
    "# Adding a barrier for visualising purposes\n",
    "circuit.barrier()\n",
    "\n",
    "# Adding the measurement operation to all Quantum Registers\n",
    "circuit.measure(qr, cr);"
   ]
  },
  {
   "cell_type": "markdown",
   "metadata": {},
   "source": [
    "---\n",
    "## 1.3.3 Visualising the Quantum Circuit \n",
    "<strong style=\"color: orange;\">Thirdly</strong>, we want to view our Quantum Circuit to see, if it resembles what we had in mind: One [H]-gate first, followed by two measurement operations."
   ]
  },
  {
   "cell_type": "code",
   "execution_count": 4,
   "metadata": {},
   "outputs": [
    {
     "data": {
      "image/png": "[encoded data removed]",
      "text/plain": [
       "<Figure size 421.4x258.86 with 1 Axes>"
      ]
     },
     "execution_count": 4,
     "metadata": {},
     "output_type": "execute_result"
    }
   ],
   "source": [
    "circuit.draw(output='mpl')"
   ]
  },
  {
   "cell_type": "markdown",
   "metadata": {},
   "source": [
    "---\n",
    "## 1.3.4 Run the Quantum Program\n",
    "<strong style=\"color: orange;\">Fourthly</strong>, we run our circuit as we did in the previous exercises. Except, this time is a little different. The cell below contains the same code as in the previous example, but with a few different commands to let it run more than once. Specifically, we have added \"shots=24, memory=True\" to the execute() function. \n",
    "\n",
    "The number of shots is just the number of times we want this code to run. This is usefull because we want to demonstrate that when measuring a Qubit in superposition, sometimes it returns 0 and sometimes 1. We added \"memory=True\" as well to the let simulator know that it should remember the result from each of the shots. "
   ]
  },
  {
   "cell_type": "code",
   "execution_count": 5,
   "metadata": {},
   "outputs": [
    {
     "name": "stdout",
     "output_type": "stream",
     "text": [
      "{'01': 10, '00': 14}\n"
     ]
    }
   ],
   "source": [
    "# We load the backend to run our Quantum Program, as we did in the last example\n",
    "backend = BasicAer.get_backend('qasm_simulator')\n",
    "\n",
    "# We execute the Quantum Programwe, but have added \"shots=24, memory=True\" to the execute() function. \n",
    "job = qiskit.execute(circuit, backend, shots=24, memory=True)\n",
    "\n",
    "# Get the results from the job\n",
    "result = job.result().get_counts(circuit)\n",
    "\n",
    "# A quick print out of our result\n",
    "print(result)"
   ]
  },
  {
   "cell_type": "markdown",
   "metadata": {},
   "source": [
    "---\n",
    "## 1.3.5 Visualize the Qubits and the Result!\n",
    "<strong style=\"color: orange;\">Lastly</strong>, we should visualize our results. Above this cell you should see some kind of result like: {'00': 9, '01': 15}. In a case like that there would be 9 cases with the result 00 and 15 cases with the result 01. \n",
    "\n",
    "To visualize this a little better we need to import the plot_histogram tool:"
   ]
  },
  {
   "cell_type": "code",
   "execution_count": 6,
   "metadata": {},
   "outputs": [
    {
     "data": {
      "image/png": "[encoded data removed]",
      "text/plain": [
       "<Figure size 504x360 with 1 Axes>"
      ]
     },
     "execution_count": 6,
     "metadata": {},
     "output_type": "execute_result"
    }
   ],
   "source": [
    "from qiskit.tools.visualization import plot_histogram\n",
    "\n",
    "plot_histogram(result)"
   ]
  },
  {
   "cell_type": "markdown",
   "metadata": {},
   "source": [
    "That's it, a simple demonstration of what results you might expect when you measure a Qubit in the superposition state."
   ]
  },
  {
   "cell_type": "markdown",
   "metadata": {},
   "source": [
    "---\n",
    "# Next notebook is about the C-NOT gate!\n",
    "[4. Exercise - The CNOT-Gate](./T04%20-%20Gate%20operations%20-%20CNOT-Gate.ipynb)"
   ]
  },
  {
   "cell_type": "code",
   "execution_count": null,
   "metadata": {},
   "outputs": [],
   "source": []
  }
 ],
 "metadata": {
  "kernelspec": {
   "display_name": "Python 3",
   "language": "python",
   "name": "python3"
  },
  "language_info": {
   "codemirror_mode": {
    "name": "ipython",
    "version": 3
   },
   "file_extension": ".py",
   "mimetype": "text/x-python",
   "name": "python",
   "nbconvert_exporter": "python",
   "pygments_lexer": "ipython3",
   "version": "3.7.2"
  }
 },
 "nbformat": 4,
 "nbformat_minor": 2
}
