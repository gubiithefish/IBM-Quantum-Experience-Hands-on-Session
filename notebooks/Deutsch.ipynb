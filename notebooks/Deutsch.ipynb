{
 "cells": [
  {
   "cell_type": "code",
   "execution_count": 1,
   "metadata": {
    "hideCode": false
   },
   "outputs": [],
   "source": [
    "# This is a cell to hide all Code cells that has the string \"hide_this_cell\" from displaying\n",
    "# This code must be inserted into the first cell to work properly\n",
    "\n",
    "from IPython.display import HTML, display, Image\n",
    "\n",
    "hide_this_cell = ''\n",
    "HTML('''<script>\n",
    "code_show=true; \n",
    "function code_toggle() {\n",
    "  if (code_show) {\n",
    "    $('div.input').each(function(id) {\n",
    "      el = $(this).find('.cm-variable:first');\n",
    "      if (id == 0 || el.text() == 'hide_this_cell') {\n",
    "        $(this).hide();\n",
    "      }\n",
    "    });\n",
    "    $('div.output_prompt').css('opacity', 0);\n",
    "  } else {\n",
    "    $('div.input').each(function(id) {\n",
    "      $(this).show();\n",
    "    });\n",
    "    $('div.output_prompt').css('opacity', 1);\n",
    "  }\n",
    "  code_show = !code_show\n",
    "} \n",
    "$( document ).ready(code_toggle);\n",
    "</script>\n",
    "<form action=\"javascript:code_toggle()\">\n",
    "<input style=\"opacity:0.2\" type=\"submit\" value=\"Show/hide the code running under the hood\">\n",
    "</form>''')"
   ]
  },
  {
   "cell_type": "code",
   "execution_count": 2,
   "metadata": {},
   "outputs": [],
   "source": [
    "# This cell is used for importing essential libraries that is not used to understand Qiskit and is therefore hidden\n",
    "hide_this_cell\n",
    "\n",
    "from IPython.display import clear_output, Markdown, HTML\n",
    "from IPython.core.display import SVG, HTML, Image\n",
    "from ipywidgets import widgets"
   ]
  },
  {
   "cell_type": "markdown",
   "metadata": {},
   "source": [
    "# Everything you need to know about The Deutsch–Jozsa algorithm\n",
    "## Intro (Skal laves lidt om, da det er Deutsch-Jozsa og ikke kun Deutsch)\n",
    "During the beginning of the 20th century, Alan Turing created the foundation to so much of computer science, making it hard to do anything with computers that isn't some way influenced by his work. The same applies to David Deutsch, who in 1985 considered computing devices based upon the principles of quantum mechanics, which ultimately led us to the modern conception of a quantum computer[QC-6].\n",
    "\n",
    "This remarkable first step taken by Deutsch was improved in the subsequent decade by many people, culminating in a list of quantum algorithms, where the majority of these may provide exponential speedup over their classical counterparts and the others, like Grover's algorithm, _may only_ provide a quadratic speedup[QC-38].\n",
    "\n",
    "It is a fun fact to know - but knowing is not as awesome as trying it yourself, hence why we will go forth with diving into the first _problem_ Deutsch created an algorithm for, which the quantum computer can solve faster than a traditional computer, although not exponentially faster.\n",
    "\n",
    "The problem that Deutsch's algorithm solves is not an important problem in Computer Science. However, it is a great beginners problem to see how quantum computers can be used and it is presented here with that purpose. _If you are familiar with programming, you can see this as your “hello world” ;-)._"
   ]
  },
  {
   "cell_type": "markdown",
   "metadata": {},
   "source": [
    "---\n",
    "## Classical prerequisite knowledge  (Stuff you need to know for it to make sense)\n",
    "#### Bits and operations\n",
    "Given you have a *single bit*, the traditional logic considers this bit either of two values: True $(1)$ or False $(0)$.<br>\n",
    "\n",
    "There are four different bitwise operations which can be used to manipulate this bit. For an example, _negation_ is one of the four operations, which is an operation on one logical value that switches the value to the opposite value e.g. from False $(0)$ to True $(1)$. \n",
    "\n",
    "All four of the operationens and the way they operate on a logical value can be seen on the picture below: "
   ]
  },
  {
   "cell_type": "code",
   "execution_count": 3,
   "metadata": {},
   "outputs": [],
   "source": [
    "hide_this_cell\n",
    "SVG(filename='../images/deutsch/ClassicInput2.svg')"
   ]
  },
  {
   "cell_type": "markdown",
   "metadata": {},
   "source": [
    "#### Two types of functions\n",
    "Another piece of information to understand is that the the functions for the abovementioned operations are either _balanced_ or _constant_.<br>\n",
    "A _balanced_ function is if its output is 0 half the time and 1 the other half (Identity and Negation).<br>\n",
    "A _constant_ function is if its output is a constant (1 or 0) regardless of the input (Constant-0 and Constant-1). \n",
    "\n",
    "#### Reversible Computing\n",
    "And the last piece of information to wrap your head around is a principle of reversible computing. <br>\n",
    "It basically means that if I tell you which operation I use and the output of that operation, you will always be able to tell the input of that operation.<br> \n",
    "There is a lot more to it, but the most important principle to understand is that reversible operations can be reversed, or undone.<br><br>\n",
    "\n",
    "<strong style=\"color: orange;\">Question 1:</strong> Now, take a moment to think: which of the four operations seen on the picture above are reversible and which are not reversible?"
   ]
  },
  {
   "cell_type": "code",
   "execution_count": 4,
   "metadata": {},
   "outputs": [],
   "source": [
    "hide_this_cell\n",
    "\n",
    "tooltiptext = \"The button will disappear when pressed and consequently reveals the answer\"\n",
    "buttonDisappear1 = widgets.Button(description='Reveal the answer', tooltip=tooltiptext, disabled=False)\n",
    "\n",
    "def handleClickDisappear1(b):\n",
    "    clear_output()\n",
    "    display(Markdown('''Operations which permute **are** reversible:<br>\n",
    "                         <span>&#8627;</span>  Identity and negation are therefore reversible.<br><br>\n",
    "                        Operations which erase and overwrite **are not** reversible:<br>\n",
    "                         <span>&#8627;</span>   Constant-0 and Constant-1 are therefore not reversible.<br>\n",
    "                        <div class=\"alert alert-block alert-warning\">\n",
    "                        <b>Important info:</b> Quantum Computers only use reversible operations - as all quantum operators are their own inverses.<br>\n",
    "                        Therefore, if you apply the same quantum operation twice, it will have the same state as it had initially. <br>\n",
    "                        </div>'''))\n",
    "\n",
    "buttonDisappear1.on_click(handleClickDisappear1)\n",
    "\n",
    "display(buttonDisappear1)"
   ]
  },
  {
   "cell_type": "markdown",
   "metadata": {},
   "source": [
    "---\n",
    "## The Oracle \n",
    "The old greeks say that an Oracle is an object containing mysterious answers to life's question, which in this context is simply an answer to which function it is hiding. Hence we can't see what is inside the Oracle, it can and will be regarded as a \"black box\".\n",
    "\n",
    "Now, imagine someone gives this \"black box\" to you as seen below and all you can do is supply it with inputs $|x>$ and receive outputs $f(|x>)$."
   ]
  },
  {
   "cell_type": "code",
   "execution_count": 5,
   "metadata": {},
   "outputs": [],
   "source": [
    "hide_this_cell\n",
    "SVG(filename='../images/deutsch/ClassicBlackBox.svg')"
   ]
  },
  {
   "cell_type": "markdown",
   "metadata": {},
   "source": [
    "<strong style=\"color: orange;\">Question 2:</strong> Based on the four functions mentioned on the first picture - How many different input will you have to send through the black box to determine the function inside the black box on a **classical** computer?"
   ]
  },
  {
   "cell_type": "code",
   "execution_count": 6,
   "metadata": {},
   "outputs": [
    {
     "data": {
      "application/vnd.jupyter.widget-view+json": {
       "model_id": "58f6a4072bbc432ca892a1102ca63c14",
       "version_major": 2,
       "version_minor": 0
      },
      "text/plain": [
       "Button(description='Reveal the answer', style=ButtonStyle(), tooltip='The button will disappear when pressed a…"
      ]
     },
     "metadata": {},
     "output_type": "display_data"
    }
   ],
   "source": [
    "hide_this_cell\n",
    "\n",
    "tooltiptext = \"The button will disappear when pressed and consequently reveals the answer\"\n",
    "buttonDisappear2 = widgets.Button(description='Reveal the answer', tooltip=tooltiptext, disabled=False)\n",
    "\n",
    "def handleClickDisappear2(b):\n",
    "    clear_output()\n",
    "    display(Markdown('**Answer: Two** - By sending in a one and a zero, their output uniquely identifies which function it is'))\n",
    "    \n",
    "buttonDisappear2.on_click(handleClickDisappear2)\n",
    "\n",
    "display(buttonDisappear2)"
   ]
  },
  {
   "cell_type": "markdown",
   "metadata": {},
   "source": [
    "<strong style=\"color: orange;\">Question 3:</strong> Based on your intuition and your collected knowledge about quantum computers - How many different input will you have to send through the black box to determine the function inside the black box on a **quantum** computer?"
   ]
  },
  {
   "cell_type": "code",
   "execution_count": 7,
   "metadata": {
    "hidePrompt": false
   },
   "outputs": [
    {
     "data": {
      "application/vnd.jupyter.widget-view+json": {
       "model_id": "1e022598e02d4d6892c0a61d5c7b7656",
       "version_major": 2,
       "version_minor": 0
      },
      "text/plain": [
       "Button(description='Reveal the answer', style=ButtonStyle(), tooltip='The button will disappear when pressed a…"
      ]
     },
     "metadata": {},
     "output_type": "display_data"
    }
   ],
   "source": [
    "hide_this_cell\n",
    "\n",
    "tooltiptext = \"The button will disappear when pressed and consequently reveals the answer\"\n",
    "buttonDisappear3 = widgets.Button(description='Reveal the answer', tooltip=tooltiptext, disabled=False)\n",
    "\n",
    "def handleClickDisappear3(b):\n",
    "    clear_output()\n",
    "    display(Markdown('**_Trick question_ - Answer: Two** - When the Qubit has been sent through the Black Box, it still collapses to a single bit of information, so to uniquely identify which function that has been used on the qubit, we still need to send through two different inputs (1 and 0)'))\n",
    "    \n",
    "buttonDisappear3.on_click(handleClickDisappear3)\n",
    "\n",
    "display(buttonDisappear3)"
   ]
  },
  {
   "cell_type": "markdown",
   "metadata": {},
   "source": [
    "<strong style=\"color: orange;\">Question 4:</strong> What if we, instead of trying to determine which function is inside the oracle, want to determine whether the function is _balanced_ or _constant_. How many input will you have to send through the black box **classical** computer to figure that out?"
   ]
  },
  {
   "cell_type": "code",
   "execution_count": 8,
   "metadata": {},
   "outputs": [
    {
     "data": {
      "application/vnd.jupyter.widget-view+json": {
       "model_id": "cc905eb6613645e7a6aed30f96598ccc",
       "version_major": 2,
       "version_minor": 0
      },
      "text/plain": [
       "Button(description='Reveal the answer', style=ButtonStyle(), tooltip='The button will disappear when pressed a…"
      ]
     },
     "metadata": {},
     "output_type": "display_data"
    }
   ],
   "source": [
    "hide_this_cell\n",
    "\n",
    "tooltiptext = \"The button will disappear when pressed and consequently reveals the answer\"\n",
    "buttonDisappear4 = widgets.Button(description='Reveal the answer', tooltip=tooltiptext, disabled=False)\n",
    "\n",
    "def handleClickDisappear4(b):\n",
    "    clear_output()\n",
    "    display(Markdown('''**Answer: Two different input**<br>\n",
    "                     If we send a 1 bit through and get 1 out, we can't be sure if it's identity or constant-1.<br>\n",
    "                     If we send a 1 bit through and get 0 out, we can't be sure if it's negation or constant-0.<br>\n",
    "                     Hence why we need to send it through twice to determine this as well.\n",
    "                     '''))\n",
    "\n",
    "buttonDisappear4.on_click(handleClickDisappear4)\n",
    "\n",
    "display(buttonDisappear4)"
   ]
  },
  {
   "cell_type": "markdown",
   "metadata": {},
   "source": [
    "<strong style=\"color: orange;\">Question 5:</strong> And the same structure again as before - The same question for a classical computer and a quantum computer: How many input will you have to send through the black box to determine whether the function is _balanced_ or _constant_ inside the black box on a **quantum** computer?"
   ]
  },
  {
   "cell_type": "code",
   "execution_count": 9,
   "metadata": {},
   "outputs": [
    {
     "data": {
      "application/vnd.jupyter.widget-view+json": {
       "model_id": "d8e707248aa44c47895f4647737f8c8f",
       "version_major": 2,
       "version_minor": 0
      },
      "text/plain": [
       "Button(description='Reveal the answer', style=ButtonStyle(), tooltip='The button will disappear when pressed a…"
      ]
     },
     "metadata": {},
     "output_type": "display_data"
    }
   ],
   "source": [
    "hide_this_cell\n",
    "\n",
    "tooltiptext = \"The button will disappear when pressed and consequently reveals the answer\"\n",
    "buttonDisappear5 = widgets.Button(description='Reveal the answer', tooltip=tooltiptext, disabled=False)\n",
    "buttonShowBloch1 = widgets.Button(description='Superposition Bloch', disabled=False)\n",
    "buttonShowGraph1 = widgets.Button(description='Superposition Graph', disabled=False)\n",
    "\n",
    "def handleClickDisappear5(b):\n",
    "    clear_output()\n",
    "    display(Markdown('''**Answer: One single input being either 0 or 1!**\n",
    "                        <div class=\"alert alert-block alert-warning\">\n",
    "                        <b>important info:</b> It is an undeniable fact that this outperforms a classical computer.<br>\n",
    "                        We can achieve this by taking advantage of Superposition - With that, we can use more than the limitation of two states we know from classical computing, which, for the purpose of understanding it, has been super simplified in the picture below. \n",
    "                        </div>'''))\n",
    "    display(buttonShowBloch1)\n",
    "    \n",
    "def handleShowBloch1(b):\n",
    "    clear_output()\n",
    "    display(Markdown('''**Answer: One single input being either 0 or 1!**\n",
    "                        <div class=\"alert alert-block alert-warning\">\n",
    "                        <b>important info:</b> It is an undeniable fact that this outperforms a classical computer.<br>\n",
    "                        We can achieve this by taking advantage of Superposition - With that, we can use more than the limitation of two states we know from classical computing, which, for the purpose of understanding it, has been super simplified in the picture below. \n",
    "                        </div>'''))\n",
    "    display(buttonShowGraph1)\n",
    "    display(Image(filename = \"../images/deutsch/StateBloch.png\"))\n",
    "\n",
    "\n",
    "def handleShowGraph1(b):\n",
    "    clear_output()\n",
    "    display(Markdown('''**Answer: One single input being either 0 or 1!**\n",
    "                        <div class=\"alert alert-block alert-warning\">\n",
    "                        <b>important info:</b> It is an undeniable fact that this outperforms a classical computer.<br>\n",
    "                        We can achieve this by taking advantage of Superposition - With that, we can use more than the limitation of two states we know from classical computing, which, for the purpose of understanding it, has been super simplified in the picture below. \n",
    "                        </div>'''))\n",
    "    display(buttonShowBloch1)\n",
    "    display(Image(filename = \"../images/deutsch/StateGraph.png\"))\n",
    "    \n",
    "\n",
    "buttonDisappear5.on_click(handleClickDisappear5)\n",
    "buttonShowBloch1.on_click(handleShowBloch1)\n",
    "buttonShowGraph1.on_click(handleShowGraph1)\n",
    "\n",
    "display(buttonDisappear5)"
   ]
  },
  {
   "cell_type": "markdown",
   "metadata": {},
   "source": [
    "---\n",
    "# The Oracle in a Quantum Context"
   ]
  },
  {
   "cell_type": "markdown",
   "metadata": {},
   "source": [
    "#### The operations in quantum\n",
    "\n",
    "- Identity\n",
    "\n",
    "- Negation\n",
    "\n",
    "- Constant-0\n",
    "\n",
    "- Constant-1\n",
    "\n",
    "- Make the functions yourself - Tasks\n",
    "-- Massere af opgaver med Qiskit, import, lav circuit osv. osv. osv.\n",
    "\n",
    "#### The full Quantum Deutsch Oracle\n",
    "\n",
    "- Show the full algorithm\n",
    "\n",
    "- Answer which function is the right one for the following oracles\n",
    "\n"
   ]
  },
  {
   "cell_type": "markdown",
   "metadata": {
    "hidePrompt": false
   },
   "source": [
    "---\n",
    "# TRASH BELOW\n",
    "## Quantum Operators (And tasks)"
   ]
  },
  {
   "cell_type": "markdown",
   "metadata": {},
   "source": [
    "Operations which permute are reversible;<br>\n",
    "-- Identity and negation are reversible<br><br>\n",
    "Operations which erase and overwrite are not<br>\n",
    "--  Constant-0 and Constant-1 are not reversible<br>"
   ]
  },
  {
   "cell_type": "markdown",
   "metadata": {},
   "source": [
    "#TODO <br>\n",
    "\n",
    "For reversible operations, given the operation $A$ and output value $b$, you can always find the input value $x$.<br>\n",
    ">$\n",
    "\\begin{align}\n",
    "A \\cdot x = b\n",
    "\\end{align}\n",
    "$\n",
    "\n",
    "\n",
    "Operations which permute are reversible;<br>\n",
    "-- Identity and negation are reversible<br>\n",
    "Operations which erase and overwrite are not<br>\n",
    "--  Constant-0 and Constant-1 are not reversible<br>\n",
    "Quantum computers use only revserible operations, so we will only care about those<br>\n",
    "--  In fact, all quantum operators are their own inverses<br>\n",
    "\n",
    "\n",
    "Quantum computers use only revserible operations, so we will only care about those<br>\n",
    "--  In fact, all quantum operators are their own inverses<br>\n",
    "### Questions\n",
    "\n",
    "imagine someone gives you a black box containing one of the functions illustrated above on one bit<br>\n",
    "you don't know which function is inside the box, but you can try inputs and see outputs<br>"
   ]
  },
  {
   "cell_type": "code",
   "execution_count": null,
   "metadata": {},
   "outputs": [],
   "source": []
  },
  {
   "cell_type": "code",
   "execution_count": null,
   "metadata": {},
   "outputs": [],
   "source": []
  },
  {
   "cell_type": "code",
   "execution_count": null,
   "metadata": {},
   "outputs": [],
   "source": []
  },
  {
   "cell_type": "code",
   "execution_count": null,
   "metadata": {},
   "outputs": [],
   "source": []
  },
  {
   "cell_type": "code",
   "execution_count": 10,
   "metadata": {},
   "outputs": [
    {
     "data": {
      "application/vnd.jupyter.widget-view+json": {
       "model_id": "001e00e3e3f84bd39c8579fe2e4638de",
       "version_major": 2,
       "version_minor": 0
      },
      "text/plain": [
       "Button(description='Show answer', style=ButtonStyle(), tooltip='Click me to show the answer')"
      ]
     },
     "metadata": {},
     "output_type": "display_data"
    }
   ],
   "source": [
    "hide_this_cell\n",
    "\n",
    "buttonShow = widgets.Button(description='Show answer', tooltip='Click me to show the answer')\n",
    "buttonHide = widgets.Button(description='Hide answer', tooltip='Click me to hide the answer')\n",
    "\n",
    "def handleClickShow(b):\n",
    "    clear_output()\n",
    "    display(buttonHide)\n",
    "    display(Markdown('*Her er markdown* - Markdown med LaTeX $\\phi$'))\n",
    "    display(Markdown('<center> Her har vi LaTeX centreret $\\phi$ med tekst</center>'))\n",
    "    \n",
    "def handleClickHide(b):\n",
    "    clear_output()\n",
    "    display(buttonShow)\n",
    "    \n",
    "buttonShow.on_click(handleClickShow)\n",
    "buttonHide.on_click(handleClickHide)\n",
    "\n",
    "\n",
    "\n",
    "display(buttonShow)"
   ]
  },
  {
   "cell_type": "code",
   "execution_count": null,
   "metadata": {},
   "outputs": [],
   "source": []
  },
  {
   "cell_type": "code",
   "execution_count": 11,
   "metadata": {},
   "outputs": [
    {
     "data": {
      "application/vnd.jupyter.widget-view+json": {
       "model_id": "0d7b32a3abca45008e0632d422634523",
       "version_major": 2,
       "version_minor": 0
      },
      "text/plain": [
       "Button(description='Reveal the answer', style=ButtonStyle(), tooltip='The button will disappear when pressed a…"
      ]
     },
     "metadata": {},
     "output_type": "display_data"
    }
   ],
   "source": [
    "hide_this_cell\n",
    "\n",
    "tooltiptext = \"The button will disappear when pressed and consequently reveals the answer\"\n",
    "buttonDisappear = widgets.Button(description='Reveal the answer', tooltip=tooltiptext, disabled=False)\n",
    "\n",
    "def handleClickDisappear(b):\n",
    "    clear_output()\n",
    "    display(Markdown('*Her er markdown* - Markdown med LaTeX $\\phi$'))\n",
    "    display(Markdown('<center> Her har vi LaTeX centreret $\\phi$ med tekst</center>'))\n",
    "    print(\"Money In The Bank\")\n",
    "\n",
    "    \n",
    "buttonDisappear.on_click(handleClickDisappear)\n",
    "\n",
    "display(buttonDisappear)"
   ]
  },
  {
   "cell_type": "code",
   "execution_count": null,
   "metadata": {},
   "outputs": [],
   "source": []
  },
  {
   "cell_type": "code",
   "execution_count": null,
   "metadata": {},
   "outputs": [],
   "source": []
  },
  {
   "cell_type": "code",
   "execution_count": null,
   "metadata": {},
   "outputs": [],
   "source": []
  },
  {
   "cell_type": "code",
   "execution_count": null,
   "metadata": {},
   "outputs": [],
   "source": []
  },
  {
   "cell_type": "code",
   "execution_count": 12,
   "metadata": {},
   "outputs": [],
   "source": [
    "# This is the same cell as seen at the beginning to hide code snippets from displaying\n",
    "# This must be the last cell in the jupyter notebook!\n",
    "\n",
    "hide_this_cell = ''\n",
    "HTML('''<script>\n",
    "code_show=true; \n",
    "function code_toggle() {\n",
    "  if (code_show) {\n",
    "    $('div.input').each(function(id) {\n",
    "      el = $(this).find('.cm-variable:first');\n",
    "      if (id == 0 || el.text() == 'hide_this_cell') {\n",
    "        $(this).hide();\n",
    "      }\n",
    "    });\n",
    "    $('div.output_prompt').css('opacity', 0);\n",
    "  } else {\n",
    "    $('div.input').each(function(id) {\n",
    "      $(this).show();\n",
    "    });\n",
    "    $('div.output_prompt').css('opacity', 1);\n",
    "  }\n",
    "  code_show = !code_show\n",
    "} \n",
    "</script>''');"
   ]
  },
  {
   "cell_type": "code",
   "execution_count": null,
   "metadata": {},
   "outputs": [],
   "source": []
  },
  {
   "cell_type": "code",
   "execution_count": null,
   "metadata": {},
   "outputs": [],
   "source": []
  }
 ],
 "metadata": {
  "kernelspec": {
   "display_name": "Python 3",
   "language": "python",
   "name": "python3"
  },
  "language_info": {
   "codemirror_mode": {
    "name": "ipython",
    "version": 3
   },
   "file_extension": ".py",
   "mimetype": "text/x-python",
   "name": "python",
   "nbconvert_exporter": "python",
   "pygments_lexer": "ipython3",
   "version": "3.7.1"
  }
 },
 "nbformat": 4,
 "nbformat_minor": 2
}
