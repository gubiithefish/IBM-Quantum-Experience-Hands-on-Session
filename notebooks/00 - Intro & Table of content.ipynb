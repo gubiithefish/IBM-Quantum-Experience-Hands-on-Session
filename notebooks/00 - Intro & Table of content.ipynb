{
 "cells": [
  {
   "cell_type": "markdown",
   "metadata": {},
   "source": [
    "# Welcome\n",
    "\n",
    "Thank you for joining us in this workshop! Today we will do our best to help you understand qunatum computing and IBMQ a little better. First of all we know that quantum computing can be diffucult to understand and we assume no previous knowledge of the matter in our workshop. We have prepared several guides and exercises for you to get familiar with Jupyter and most importnatly qiskit, the open-source quantum computing framework.\n",
    "\n",
    "Here you will find an agenda for the day. The exercises is listed in chronological order and we suggest you start from the top and work your way towards the bottom.. but you can do as you please, we're not your mom. "
   ]
  },
  {
   "cell_type": "markdown",
   "metadata": {},
   "source": [
    "## [1. Introduciton to Jupyter Notebook, Qunatum computing and Qiskit](./01%20-%20intro.ipynb)\n",
    "\n",
    "- [1.1 What is a Qubit?](./01%20-%20intro.ipynb#What-is-a-Qubit?)\n",
    "\n",
    "    - [1.1.1 Superposition](./01%20-%20intro.ipynb#Super-position)\n",
    "   \n",
    "    - [1.1.2 Entanglement](./01%20-%20intro.ipynb#Entanglement)\n",
    "    \n",
    "- [1.2 Setting up your Quantum circuit](./01%20-%20intro.ipynb#Setting-up-your-quantum-circuit)\n",
    "\n",
    "- [1.3 Gates](./01%20-%20intro.ipynb#Gates)\n",
    "\n",
    "     - [1.3.1 The X gate](./01%20-%20intro.ipynb#The-X-Gate)\n",
    "     - [1.3.2 The H gate](./01%20-%20intro.ipynb#The-Hadamard-gate-(H-gate))\n",
    "     - [1.3.3 The C-NOT gate](./01%20-%20intro.ipynb#The-C-NOT-(Controlled-NOT)-gate)\n",
    "     \n",
    "- [1.4 Using C-NOT gate in superposition (Entanglement)](./01%20-%20intro.ipynb#Using-C-NOT-gates-while-in-superposition.)\n",
    "\n",
    "- [1.5 Running code on a real quantum computer](./01%20-%20intro.ipynb#Running-code-on-a-real-Quantum-Computer)\n",
    "\n",
    "    - [1.5.1 Choosing a backend](./01%20-%20intro.ipynb#Choosing-a-backend)\n",
    "    \n",
    "- [1.6 Quantum algorithms](./01%20-%20intro.ipynb#Quantum-algorithms)\n",
    "\n",
    "    - [1.6.1 Random number generator](./01%20-%20intro.ipynb#Random-number-generation)"
   ]
  },
  {
   "cell_type": "markdown",
   "metadata": {},
   "source": [
    "## [2. Everything you need to know about Deutsch's algorithm](./02%20-%20Deutsch.ipynb#1.-Everything-you-need-to-know-about-Deutsch's-algorithm)\n",
    "\n",
    "- [1.1 Intro](./02%20-%20Deutsch.ipynb#1.1-Intro)\n",
    "\n",
    "- [1.2 Classical prerequisite knowledge](./02%20-%20Deutsch.ipynb#1.2.-Classical-prerequisite-knowledge-(Gives-you-a-deeper-understanding))\n",
    "    - [1.2.1 Bits and operations](./02%20-%20Deutsch.ipynb#Bits-and-operations)\n",
    "    - [1.2.2 Two types of functions](./02%20-%20Deutsch.ipynb#Two-types-of-functions)\n",
    "    - [1.2.3 Reversible Computing](./02%20-%20Deutsch.ipynb#Reversible-Computing)\n",
    "\n",
    "- [1.3 The Oracle](./02%20-%20Deutsch.ipynb#1.3.-The-Oracle)\n",
    "\n",
    "- [1.4 The Black Box in a Quantum Context](./02%20-%20Deutsch.ipynb#1.4.-The-Black-Box-in-a-Quantum-Context)\n",
    "    - [1.4.1 Quantum operations](./02%20-%20Deutsch.ipynb#Quantum-operations)\n",
    "\n",
    "- [1.5. The Deutsch Oracle](./02%20-%20Deutsch.ipynb#1.5.-The-Deutsch-Oracle---Last-section-standing-before-coding!)\n",
    "\n",
    "- [2 Coding time](http://localhost:8888/notebooks/IBM-Quantum-Experience-Hands-on-Session/notebooks/02%20-%20Deutsch.ipynb#2.-Coding-time!)\n",
    "    - [2.1 The Deutsch Oracle](./02%20-%20Deutsch.ipynb#%E2%9C%85-2.1-The-Deutsch-Oracle-(This-one-is-given-to-you))\n",
    "    - [2.2 The Deutsch Oracle - Constant 0](./02%20-%20Deutsch.ipynb#%E2%9A%A0%EF%B8%8F-2.2-The-Deutsch-Oracle---Constant-0)\n",
    "    - [2.3 The Deutsch Oracle - Constant 1](./02%20-%20Deutsch.ipynb#%E2%9A%A0%EF%B8%8F-2.3-The-Deutsch-Oracle---Constant-1)\n",
    "    - [2.4 The Deutsch Oracle - Identity](./02%20-%20Deutsch.ipynb#%E2%9A%A0%EF%B8%8F-2.4-The-Deutsch-Oracle---Identity)\n",
    "    - [2.5 The Deutsch Oracle - Negation](./02%20-%20Deutsch.ipynb#2.5-The-Deutsch-Oracle---Negation)\n",
    "\n",
    "- [3. Sending the code to our real Quantum Computer](./02%20-%20Deutsch.ipynb#3.-Sending-the-code-to-our-real-Quantum-Computer)"
   ]
  },
  {
   "cell_type": "code",
   "execution_count": null,
   "metadata": {},
   "outputs": [],
   "source": []
  }
 ],
 "metadata": {
  "kernelspec": {
   "display_name": "Python 3",
   "language": "python",
   "name": "python3"
  },
  "language_info": {
   "codemirror_mode": {
    "name": "ipython",
    "version": 3
   },
   "file_extension": ".py",
   "mimetype": "text/x-python",
   "name": "python",
   "nbconvert_exporter": "python",
   "pygments_lexer": "ipython3",
   "version": "3.7.2"
  }
 },
 "nbformat": 4,
 "nbformat_minor": 2
}
