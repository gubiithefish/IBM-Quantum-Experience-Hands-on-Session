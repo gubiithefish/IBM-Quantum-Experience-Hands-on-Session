{
 "cells": [
  {
   "cell_type": "code",
   "execution_count": 49,
   "metadata": {},
   "outputs": [],
   "source": [
    "from IPython.display import Image"
   ]
  },
  {
   "cell_type": "markdown",
   "metadata": {
    "nbpresent": {
     "id": "175cfc79-86b6-4c90-96d5-1d958eedb55e"
    }
   },
   "source": [
    "# Grover's Algorithm"
   ]
  },
  {
   "cell_type": "markdown",
   "metadata": {},
   "source": [
    "Devised by Lov Grover in 1996, Gover's algorithm finds with high probability the unique input that produces a particular output value, using just $O(\\sqrt(N))$ evaluations of the function, where $N$ is the size of the function's domain.\n",
    "\n",
    "Using classical computation the same problem cannot be solved in fewer than $O(N)$ evaluations (because, in the worst case, the $N$-th member of the domain might be the correct member).\n",
    "\n",
    "You can picture the algorithm in a context of a query in a database. With a Quantum computer, you would be able to find a given object in a database in $O(\\sqrt(N))$ time. Using a traditional computer, the same operation would take $O(N)$ time. The quantum-computer is therefore exponentially faster than a traditional computer."
   ]
  },
  {
   "cell_type": "markdown",
   "metadata": {},
   "source": [
    "Let us look at a problem in classical computing. Here we have a list of numbers with length N. "
   ]
  },
  {
   "cell_type": "markdown",
   "metadata": {},
   "source": [
    "![My Title](../images/grover/NormalDB.jpg)"
   ]
  },
  {
   "cell_type": "markdown",
   "metadata": {},
   "source": [
    "In this case we are trying to find the figure 8. Given a function F we want to give a number \"t\" as input so as f(t) = 8. "
   ]
  },
  {
   "cell_type": "markdown",
   "metadata": {},
   "source": [
    "![My Title](../images/grover/SortedArray.jpg)"
   ]
  },
  {
   "cell_type": "markdown",
   "metadata": {},
   "source": [
    "In classical computing there are several ways of doing this. One way is linar search which takes $O(N)$ time."
   ]
  },
  {
   "cell_type": "markdown",
   "metadata": {},
   "source": [
    "![My Title](../images/grover/LinearSearch.jpg)"
   ]
  },
  {
   "cell_type": "markdown",
   "metadata": {},
   "source": [
    "Another more optimised way is the binary search, which in turn takes $O(log_n)$ time."
   ]
  },
  {
   "cell_type": "markdown",
   "metadata": {},
   "source": [
    "![My Title](../images/grover/BinarySearch.jpg)"
   ]
  },
  {
   "cell_type": "markdown",
   "metadata": {},
   "source": [
    "But what if we have an unsorted array, and we want to do it even faster?"
   ]
  },
  {
   "cell_type": "markdown",
   "metadata": {},
   "source": [
    "![My Title](../images/grover/UnsortedArray.jpg)"
   ]
  },
  {
   "cell_type": "markdown",
   "metadata": {},
   "source": [
    "Before we start programming a real quantum computer, we first need to make sure we have all the tools needed.\n",
    "Below are a few scripts that you should run in order to download before mentioned tools.\n",
    "Click the box below and press the \"Run\" button, located at the top of this notebook."
   ]
  },
  {
   "cell_type": "code",
   "execution_count": 3,
   "metadata": {
    "nbpresent": {
     "id": "83c443de-8e47-4ca1-a4d4-10b123ff29b7"
    }
   },
   "outputs": [],
   "source": [
    "#import pip\n",
    "#!pip install qiskit\n",
    "#!pip install matplotlib\n",
    "import numpy as np\n",
    "from qiskit import QuantumCircuit, ClassicalRegister, QuantumRegister\n",
    "from qiskit import execute"
   ]
  },
  {
   "cell_type": "markdown",
   "metadata": {},
   "source": [
    "To make quantum computations, we first need to create a quantum circuit.\n",
    "\n",
    "If you followed the instructions above, you should now know how to run a script in Jupyter. Go ahead and run the next script as well, located below this message:"
   ]
  },
  {
   "cell_type": "code",
   "execution_count": 4,
   "metadata": {
    "nbpresent": {
     "id": "ff374b64-6323-4025-afb2-3c833eec87da"
    }
   },
   "outputs": [],
   "source": [
    "# Create a Quantum Register with 3 qubits.\n",
    "qr = QuantumRegister(3,'q1')\n",
    "# We also need to create a classical register to measure our values\n",
    "cr = ClassicalRegister(3)\n",
    "# Create a Quantum Circuit, combining our two registers.\n",
    "circ = QuantumCircuit(qr,cr)"
   ]
  },
  {
   "cell_type": "markdown",
   "metadata": {},
   "source": [
    "By running the two previous scripts, you should now have 1.) installed the tools needed to proceed in this notebook, 2.) have created a quantum- and a classical-register.\n",
    "By running the next script, you will be able to see if everything got installed correctly. The output should be a printout of all our newly created registers:\n",
    "\n",
    "q1_0: |0>\n",
    "         \n",
    "q1_1: |0>\n",
    "         \n",
    "q1_2: |0>\n",
    "         \n",
    " c2_0: 0 \n",
    "         \n",
    " c2_1: 0 \n",
    "         \n",
    " c2_2: 0 "
   ]
  },
  {
   "cell_type": "code",
   "execution_count": 5,
   "metadata": {
    "nbpresent": {
     "id": "e97a8a8d-1556-4e40-9025-47b42c939def"
    }
   },
   "outputs": [
    {
     "data": {
      "text/html": [
       "<pre style=\"word-wrap: normal;white-space: pre;line-height: 15px;\">         \n",
       "q1_0: |0>\n",
       "         \n",
       "q1_1: |0>\n",
       "         \n",
       "q1_2: |0>\n",
       "         \n",
       " c0_0: 0 \n",
       "         \n",
       " c0_1: 0 \n",
       "         \n",
       " c0_2: 0 \n",
       "         </pre>"
      ],
      "text/plain": [
       "<qiskit.tools.visualization._text.TextDrawing at 0xa1dee5b70>"
      ]
     },
     "execution_count": 5,
     "metadata": {},
     "output_type": "execute_result"
    }
   ],
   "source": [
    "circ.draw()"
   ]
  },
  {
   "cell_type": "markdown",
   "metadata": {
    "nbpresent": {
     "id": "091ad072-1021-4bc4-98fe-0257d0b88d9c"
    }
   },
   "source": [
    "# Oracle function"
   ]
  },
  {
   "cell_type": "markdown",
   "metadata": {
    "nbpresent": {
     "id": "07f22ca6-2d5d-48b3-ad27-86074381d5c0"
    }
   },
   "source": [
    "The oracle funtion is a sort of computer. It operates concurently on a certain amount of quibits which are given as an input and returned after a sat amount of time. "
   ]
  },
  {
   "cell_type": "code",
   "execution_count": 6,
   "metadata": {
    "nbpresent": {
     "id": "be5f2e9a-288d-44ad-8122-f4d4a09fe32a"
    }
   },
   "outputs": [],
   "source": [
    "#Init\n",
    "circ.h(qr)\n",
    "circ.barrier()\n",
    "\n",
    "#Oracle operator for binary 110\n",
    "circ.x(qr[0])\n",
    "circ.h(qr[2])\n",
    "circ.ccx(qr[0],qr[1],qr[2])\n",
    "circ.x(qr[0])\n",
    "circ.h(qr[2])\n",
    "circ.barrier()\n",
    "\n",
    "\n",
    "#Measure\n",
    "circ.measure(qr,cr)\n",
    "\n",
    "#Prepare draw\n",
    "circ.draw();"
   ]
  },
  {
   "cell_type": "markdown",
   "metadata": {},
   "source": [
    "We can then implement Grover's algorithm."
   ]
  },
  {
   "cell_type": "code",
   "execution_count": 7,
   "metadata": {},
   "outputs": [
    {
     "data": {
      "text/plain": [
       "<qiskit.extensions.standard.barrier.Barrier at 0xa1dee5898>"
      ]
     },
     "execution_count": 7,
     "metadata": {},
     "output_type": "execute_result"
    }
   ],
   "source": [
    "#Grover\n",
    "circ.h(qr)\n",
    "circ.x(qr)\n",
    "circ.h(qr[2])\n",
    "circ.ccx(qr[0],qr[1],qr[2])\n",
    "circ.h(qr[2])\n",
    "circ.x(qr)\n",
    "circ.h(qr)\n",
    "circ.barrier()\n"
   ]
  },
  {
   "cell_type": "markdown",
   "metadata": {},
   "source": [
    "And then we are able to draw the output"
   ]
  },
  {
   "cell_type": "code",
   "execution_count": 8,
   "metadata": {
    "nbpresent": {
     "id": "6fbe0439-d394-4202-92d5-33a5a1a336bc"
    }
   },
   "outputs": [
    {
     "data": {
      "image/png": "[encoded data removed]",
      "text/plain": [
       "<Figure size 1384.6x800.66 with 1 Axes>"
      ]
     },
     "execution_count": 8,
     "metadata": {},
     "output_type": "execute_result"
    }
   ],
   "source": [
    "circ.draw(output='mpl')"
   ]
  },
  {
   "cell_type": "markdown",
   "metadata": {},
   "source": [
    "# Running Grover' algorithm on a Quantum Simulator"
   ]
  },
  {
   "cell_type": "markdown",
   "metadata": {},
   "source": [
    "Running algorithms on a quantum computer can be very time consuming, depending on the time in which you do it. \n",
    "Therefor we suggest that you run your algorithm on a simulater to see the results, and then if you have time to wait, run it on a Quantum Computer."
   ]
  },
  {
   "cell_type": "code",
   "execution_count": 9,
   "metadata": {},
   "outputs": [],
   "source": [
    "from qiskit import execute, IBMQ\n",
    "from qiskit.tools.visualization import plot_histogram"
   ]
  },
  {
   "cell_type": "code",
   "execution_count": null,
   "metadata": {},
   "outputs": [
    {
     "name": "stderr",
     "output_type": "stream",
     "text": [
      "/Users/jacob/anaconda/lib/python3.5/site-packages/qiskit/providers/ibmq/ibmqprovider.py:251: UserWarning: Credentials are already in use.\n",
      "  warnings.warn('Credentials are already in use.')\n"
     ]
    }
   ],
   "source": [
    "IBMQ.load_accounts()\n",
    "#backend = Aer.get_backend('qasm_simulator')\n",
    "#IBMQ.backends()\n",
    "device = IBMQ.get_backend('ibmq_qasm_simulator')\n",
    "result = execute(circ, device ,shots=1024).result()"
   ]
  },
  {
   "cell_type": "code",
   "execution_count": null,
   "metadata": {},
   "outputs": [],
   "source": [
    "counts = result.get_counts(circ)"
   ]
  },
  {
   "cell_type": "code",
   "execution_count": null,
   "metadata": {},
   "outputs": [],
   "source": [
    "plot_histogram(counts)"
   ]
  },
  {
   "cell_type": "markdown",
   "metadata": {},
   "source": [
    "# Running Grovers algorithm on a Quantum Computer"
   ]
  },
  {
   "cell_type": "code",
   "execution_count": 6,
   "metadata": {
    "nbpresent": {
     "id": "d635931f-36e2-423e-a98d-66044eedb818"
    }
   },
   "outputs": [],
   "source": [
    "from qiskit import IBMQ\n",
    "#%run credentials.py\n",
    "# We now save the account so we can use it with IBMQ\n",
    "#IBMQ.save_account(\"de8b458767c048db841ebbbc7a7b1bb2a4004c5086812ca496261e6b89f02653814ae8f1db62e5108cd86a2edb6630d101a4df03ab6526de8c7fa55129c5770f\")\n",
    "# And now we register which account we are using.\n",
    "IBMQ.load_accounts()"
   ]
  },
  {
   "cell_type": "code",
   "execution_count": 44,
   "metadata": {
    "nbpresent": {
     "id": "59528362-5c0c-4055-bf4c-93a434e0fdb9"
    }
   },
   "outputs": [],
   "source": [
    "from qiskit.providers.ibmq import least_busy\n",
    "\n",
    "device = least_busy(IBMQ.backends())\n",
    "#device = IBMQ.get_backend('ibmq_16_melbourne')"
   ]
  },
  {
   "cell_type": "code",
   "execution_count": 45,
   "metadata": {
    "nbpresent": {
     "id": "bc22088c-c220-4c90-9366-46bc7f6bdb5d"
    }
   },
   "outputs": [],
   "source": [
    "# We excecute the job on the choosen device\n",
    "job_sim = execute(circ, device,shots=1024)"
   ]
  },
  {
   "cell_type": "code",
   "execution_count": 46,
   "metadata": {},
   "outputs": [
    {
     "data": {
      "application/vnd.jupyter.widget-view+json": {
       "model_id": "e1343725d15649d390e00f2d9f079cde",
       "version_major": 2,
       "version_minor": 0
      },
      "text/plain": [
       "HTML(value=\"<p style='font-size:16px;'>Job Status: job is being initialized </p>\")"
      ]
     },
     "metadata": {},
     "output_type": "display_data"
    }
   ],
   "source": [
    "# The job monitor makes it possible for us to monitor our job in real time\n",
    "from qiskit.tools.monitor import job_monitor\n",
    "job_monitor(job_sim, monitor_async=True)"
   ]
  },
  {
   "cell_type": "code",
   "execution_count": 9,
   "metadata": {
    "nbpresent": {
     "id": "7335db31-63da-451c-b176-924d3ee7b2f4"
    }
   },
   "outputs": [],
   "source": [
    "# When the job is done, the results can be showed below.\n",
    "sim_result = job_sim.result()\n",
    "counts = sim_result.get_counts(circ)"
   ]
  },
  {
   "cell_type": "code",
   "execution_count": 10,
   "metadata": {
    "nbpresent": {
     "id": "ce0a25ce-332b-4209-bd55-742bf3dd97aa"
    }
   },
   "outputs": [
    {
     "data": {
      "image/png": "[encoded data removed]",
      "text/plain": [
       "<Figure size 504x360 with 1 Axes>"
      ]
     },
     "execution_count": 10,
     "metadata": {},
     "output_type": "execute_result"
    }
   ],
   "source": [
    "plot_histogram(counts)"
   ]
  },
  {
   "cell_type": "code",
   "execution_count": 11,
   "metadata": {
    "nbpresent": {
     "id": "638711c1-1e68-4bfe-b625-58b0ddcd0180"
    }
   },
   "outputs": [
    {
     "data": {
      "text/plain": [
       "{'011': 93,\n",
       " '010': 116,\n",
       " '101': 67,\n",
       " '110': 336,\n",
       " '111': 101,\n",
       " '100': 108,\n",
       " '000': 94,\n",
       " '001': 109}"
      ]
     },
     "execution_count": 11,
     "metadata": {},
     "output_type": "execute_result"
    }
   ],
   "source": [
    "counts"
   ]
  },
  {
   "cell_type": "code",
   "execution_count": null,
   "metadata": {},
   "outputs": [],
   "source": []
  }
 ],
 "metadata": {
  "kernelspec": {
   "display_name": "Python [default]",
   "language": "python",
   "name": "python3"
  },
  "language_info": {
   "codemirror_mode": {
    "name": "ipython",
    "version": 3
   },
   "file_extension": ".py",
   "mimetype": "text/x-python",
   "name": "python",
   "nbconvert_exporter": "python",
   "pygments_lexer": "ipython3",
   "version": "3.5.6"
  },
  "nbpresent": {
   "slides": {
    "112cc10d-a047-4f97-82b4-afcdc869db4d": {
     "id": "112cc10d-a047-4f97-82b4-afcdc869db4d",
     "prev": "d0ecb80d-e46f-485c-9a89-b2cc64ff9126",
     "regions": {
      "dbd05859-bddf-4e21-87f8-305dff64a8fa": {
       "attrs": {
        "height": 0.8,
        "width": 0.8,
        "x": 0.1,
        "y": 0.1
       },
       "content": {
        "cell": "091ad072-1021-4bc4-98fe-0257d0b88d9c",
        "part": "whole"
       },
       "id": "dbd05859-bddf-4e21-87f8-305dff64a8fa"
      }
     }
    },
    "268e2b09-eadd-40b9-b54f-d5283d6ec9b8": {
     "id": "268e2b09-eadd-40b9-b54f-d5283d6ec9b8",
     "prev": "e0ab0203-a5a2-4c74-98e6-3327ad259904",
     "regions": {
      "67920597-afb3-45f9-a214-9ba595489079": {
       "attrs": {
        "height": 0.8,
        "width": 0.8,
        "x": 0.1,
        "y": 0.1
       },
       "content": {
        "cell": "7335db31-63da-451c-b176-924d3ee7b2f4",
        "part": "whole"
       },
       "id": "67920597-afb3-45f9-a214-9ba595489079"
      }
     }
    },
    "2e877dcf-8c08-4ebe-8aa8-20fc45d52ddc": {
     "id": "2e877dcf-8c08-4ebe-8aa8-20fc45d52ddc",
     "prev": "a08ea9ac-d0b2-4718-bcec-609e44e8bb84",
     "regions": {
      "c0f9f555-215b-4177-9642-af759eecaf93": {
       "attrs": {
        "height": 0.8,
        "width": 0.8,
        "x": 0.1,
        "y": 0.1
       },
       "content": {
        "cell": "59528362-5c0c-4055-bf4c-93a434e0fdb9",
        "part": "whole"
       },
       "id": "c0f9f555-215b-4177-9642-af759eecaf93"
      }
     }
    },
    "3f404d1a-70b5-48b2-98b0-e44cba0d69a0": {
     "id": "3f404d1a-70b5-48b2-98b0-e44cba0d69a0",
     "prev": "268e2b09-eadd-40b9-b54f-d5283d6ec9b8",
     "regions": {
      "2928c575-816e-46e0-8080-fc3aa1d938c1": {
       "attrs": {
        "height": 0.8,
        "width": 0.8,
        "x": 0.1,
        "y": 0.1
       },
       "content": {
        "cell": "ce0a25ce-332b-4209-bd55-742bf3dd97aa",
        "part": "whole"
       },
       "id": "2928c575-816e-46e0-8080-fc3aa1d938c1"
      }
     }
    },
    "3f51c6d1-ae97-45f3-b46f-78021814cd2c": {
     "id": "3f51c6d1-ae97-45f3-b46f-78021814cd2c",
     "prev": "83c4590e-baf4-404d-ad0d-f3feabc2938d",
     "regions": {
      "d93ff65d-3351-448f-a8b0-70c482e0b401": {
       "attrs": {
        "height": 0.8,
        "width": 0.8,
        "x": 0.1,
        "y": 0.1
       },
       "content": {
        "cell": "f7ad7025-fa6e-4607-9bee-a9cd3295ab7c",
        "part": "whole"
       },
       "id": "d93ff65d-3351-448f-a8b0-70c482e0b401"
      }
     }
    },
    "5dad2ba5-7a73-496d-91b1-afba044dea8b": {
     "id": "5dad2ba5-7a73-496d-91b1-afba044dea8b",
     "prev": null,
     "regions": {
      "b7370e0b-4274-4b34-861a-81cb4c5ea61d": {
       "attrs": {
        "height": 0.8,
        "width": 0.8,
        "x": 0.1,
        "y": 0.1
       },
       "content": {
        "cell": "83c443de-8e47-4ca1-a4d4-10b123ff29b7",
        "part": "whole"
       },
       "id": "b7370e0b-4274-4b34-861a-81cb4c5ea61d"
      }
     }
    },
    "5ebf2bb0-7bca-4a04-8591-a6f3330a1ff3": {
     "id": "5ebf2bb0-7bca-4a04-8591-a6f3330a1ff3",
     "prev": "112cc10d-a047-4f97-82b4-afcdc869db4d",
     "regions": {
      "7ec87220-eba5-4379-b14b-532a2850ac2e": {
       "attrs": {
        "height": 0.8,
        "width": 0.8,
        "x": 0.1,
        "y": 0.1
       },
       "content": {
        "cell": "07f22ca6-2d5d-48b3-ad27-86074381d5c0",
        "part": "whole"
       },
       "id": "7ec87220-eba5-4379-b14b-532a2850ac2e"
      }
     }
    },
    "6f54980b-2211-431b-ab77-74744f7c4854": {
     "id": "6f54980b-2211-431b-ab77-74744f7c4854",
     "prev": "c8f1f6df-4344-4dd9-a8b2-917821c34486",
     "regions": {
      "f6e71b5f-c7a9-45bc-b23d-220dfef533e5": {
       "attrs": {
        "height": 0.8,
        "width": 0.8,
        "x": 0.1,
        "y": 0.1
       },
       "content": {
        "cell": "6fbe0439-d394-4202-92d5-33a5a1a336bc",
        "part": "whole"
       },
       "id": "f6e71b5f-c7a9-45bc-b23d-220dfef533e5"
      }
     }
    },
    "7bffd719-5d6c-4808-a1c4-be801f6f370e": {
     "id": "7bffd719-5d6c-4808-a1c4-be801f6f370e",
     "prev": "3f404d1a-70b5-48b2-98b0-e44cba0d69a0",
     "regions": {
      "ea633f42-90e9-46ea-b93a-acec1d1b4290": {
       "attrs": {
        "height": 0.8,
        "width": 0.8,
        "x": 0.1,
        "y": 0.1
       },
       "content": {
        "cell": "638711c1-1e68-4bfe-b625-58b0ddcd0180",
        "part": "whole"
       },
       "id": "ea633f42-90e9-46ea-b93a-acec1d1b4290"
      }
     }
    },
    "83c4590e-baf4-404d-ad0d-f3feabc2938d": {
     "id": "83c4590e-baf4-404d-ad0d-f3feabc2938d",
     "prev": "5ebf2bb0-7bca-4a04-8591-a6f3330a1ff3",
     "regions": {
      "dea96c31-2497-4906-8fa9-83faec82b75e": {
       "attrs": {
        "height": 0.8,
        "width": 0.8,
        "x": 0.1,
        "y": 0.1
       },
       "content": {
        "cell": "a8a8592d-26d3-41cd-9e6e-918ce633eb75",
        "part": "whole"
       },
       "id": "dea96c31-2497-4906-8fa9-83faec82b75e"
      }
     }
    },
    "a08ea9ac-d0b2-4718-bcec-609e44e8bb84": {
     "id": "a08ea9ac-d0b2-4718-bcec-609e44e8bb84",
     "prev": "6f54980b-2211-431b-ab77-74744f7c4854",
     "regions": {
      "f199a172-61a5-4ed5-b158-09fa18c98ae1": {
       "attrs": {
        "height": 0.8,
        "width": 0.8,
        "x": 0.1,
        "y": 0.1
       },
       "content": {
        "cell": "d635931f-36e2-423e-a98d-66044eedb818",
        "part": "whole"
       },
       "id": "f199a172-61a5-4ed5-b158-09fa18c98ae1"
      }
     }
    },
    "c8f1f6df-4344-4dd9-a8b2-917821c34486": {
     "id": "c8f1f6df-4344-4dd9-a8b2-917821c34486",
     "prev": "3f51c6d1-ae97-45f3-b46f-78021814cd2c",
     "regions": {
      "eff447a7-7e59-4af7-9066-06c5aa514e73": {
       "attrs": {
        "height": 0.8,
        "width": 0.8,
        "x": 0.1,
        "y": 0.1
       },
       "content": {
        "cell": "be5f2e9a-288d-44ad-8122-f4d4a09fe32a",
        "part": "whole"
       },
       "id": "eff447a7-7e59-4af7-9066-06c5aa514e73"
      }
     }
    },
    "d0ecb80d-e46f-485c-9a89-b2cc64ff9126": {
     "id": "d0ecb80d-e46f-485c-9a89-b2cc64ff9126",
     "prev": "f8e103f9-3309-4180-ad29-728fe8d9967b",
     "regions": {
      "d96b6390-a3bf-420e-bb78-f8bdf9fb4811": {
       "attrs": {
        "height": 0.8,
        "width": 0.8,
        "x": 0.1,
        "y": 0.1
       },
       "content": {
        "cell": "e97a8a8d-1556-4e40-9025-47b42c939def",
        "part": "whole"
       },
       "id": "d96b6390-a3bf-420e-bb78-f8bdf9fb4811"
      }
     }
    },
    "e0ab0203-a5a2-4c74-98e6-3327ad259904": {
     "id": "e0ab0203-a5a2-4c74-98e6-3327ad259904",
     "prev": "2e877dcf-8c08-4ebe-8aa8-20fc45d52ddc",
     "regions": {
      "45b7361a-9f60-4677-a151-b9767cd8decd": {
       "attrs": {
        "height": 0.8,
        "width": 0.8,
        "x": 0.1,
        "y": 0.1
       },
       "content": {
        "cell": "bc22088c-c220-4c90-9366-46bc7f6bdb5d",
        "part": "whole"
       },
       "id": "45b7361a-9f60-4677-a151-b9767cd8decd"
      }
     }
    },
    "f8e103f9-3309-4180-ad29-728fe8d9967b": {
     "id": "f8e103f9-3309-4180-ad29-728fe8d9967b",
     "prev": "5dad2ba5-7a73-496d-91b1-afba044dea8b",
     "regions": {
      "aaa04184-df6f-40b1-bdad-d5fb1951b2cb": {
       "attrs": {
        "height": 0.8,
        "width": 0.8,
        "x": 0.1,
        "y": 0.1
       },
       "content": {
        "cell": "ff374b64-6323-4025-afb2-3c833eec87da",
        "part": "whole"
       },
       "id": "aaa04184-df6f-40b1-bdad-d5fb1951b2cb"
      }
     }
    }
   },
   "themes": {}
  }
 },
 "nbformat": 4,
 "nbformat_minor": 2
}
