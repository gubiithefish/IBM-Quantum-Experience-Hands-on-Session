{
 "cells": [
  {
   "cell_type": "markdown",
   "metadata": {
    "slideshow": {
     "slide_type": "-"
    }
   },
   "source": [
    "# Quantum Computing In Qiskit With Examples"
   ]
  },
  {
   "cell_type": "code",
   "execution_count": 1,
   "metadata": {},
   "outputs": [],
   "source": [
    "#Outcomment to install dependencies.\n",
    "#import pip\n",
    "#! pip3 install qiskit\n",
    "#! pip3 install matplotlib\n",
    "import numpy as np\n",
    "from qiskit import QuantumCircuit, ClassicalRegister, QuantumRegister\n",
    "from qiskit import execute\n",
    "from IPython.display import Math\n",
    "from IPython.display import Image\n",
    "from IPython.core.display import HTML "
   ]
  },
  {
   "cell_type": "markdown",
   "metadata": {},
   "source": [
    "# Introduction\n",
    "This notebook is constructed as a part of the Quantum Experience Hands-on session.<br>\n",
    "The purpose of this notebook is to give an introduction to the most commonly used functions available in the Qiskit framework.<br>\n",
    "\n",
    "Before we start, it is important to have som basic knowledge about how the mechanics of a quantum computers work, what we can expect from them and how they can be utilized."
   ]
  },
  {
   "cell_type": "markdown",
   "metadata": {},
   "source": [
    "## What is a Qubit?\n",
    "<strike>Before we begin it is important to first talk a bit about Qubits. Qubits are used in quantum computers, like classical bits are used in classical computers. Quibits are like traditional bits in the way that they can either be 1 or 0, represented in quantum-lingo as: |0> and |1>. </strike>\n",
    "\n",
    "When we talk about classical computing, we often hear the word 'bit' and _bit_ can refer to zero and one - You can also think it as a binary state, where you have a switch that can be turn off and it can be turned on - either 0 or 1. A quantum computer uses quantum bits, or _qubits_, where the two corresponding states for a qubit are the states |0<b>⟩</b> and |1<b>⟩</b>. \n",
    "\n",
    "However, qubits are not restrict to being either |0<b>⟩</b> or |1<b>⟩</b>, but can be either combination of a zero or a one with a quantum mechanical principel called Superposition.\n",
    "\n",
    "<div class=\"alert alert-block alert-warning\">\n",
    "    <b>Note:</b> Notation like ‘| ⟩’ is called the Dirac notation, and we’ll be seeing it often, as it’s the standard notation for states in quantum mechanics.\n",
    "</div>"
   ]
  },
  {
   "cell_type": "markdown",
   "metadata": {},
   "source": [
    "## Superposition\n",
    "\n",
    "<strike> One of the main differences between Qubits and traditional bits is that Qubits are able to be in a superposition between 1 and 0, represented mathematically as: α|0⟩ + β|1⟩\n",
    "\n",
    "A classical computer uses bits to represent the values it is operating on; a quantum computer uses quantum bits, or qubits. A bit can either be 0 or 1, while a qubit can represent the values 0 or 1, or some combination of both at the same time (known as a “superposition”).\n",
    "\n",
    "Where α and β are numbers which when added together is something no more than 1 and no less than 0. A Qubit in the superposition state is simutainiouly 0 and 1, and only when mesured, can it take the form of one of the two values</strike>\n",
    "\n",
    "When a _qubit_ is in the state |0<b>⟩</b>, the result of measuring the _qubit_ will be 0 with a probability of 100 %, which is what happens with a classical bit.<br>\n",
    "Similarly, the result of measuring a _qubit_ in state |1<b>⟩</b> will yield an outcome of 1 with a probability of 100 %.<br>\n",
    "\n",
    "For a qubit in a superposition state, the outcome becomes less simple - the outcome of measuring a _qubit_ in superposition, even of a known state, cannot be predicted with certainty. Even for the most simple superposition state, when we use a quantum gate to flip the _qubit_ into superposition (which we will cover later), the superposition state has an equal probability (50 %) of yielding an outcome of either 0 or 1.\n",
    "\n",
    "This is, however, not the only superpositional state it can obtain, as it in reality can obtain any probability of being either one of them (10%/90%, 25%/75% etc.), which allows us to do more tricks."
   ]
  },
  {
   "cell_type": "markdown",
   "metadata": {},
   "source": [
    "## Entanglement\n",
    "<strike>Entanglement can be induced in Qubits, and means that the entanglet Qubits have an effect on each other. \n",
    "If two Qubits are entangled, their values are strictly related to each other. This means that if one of the entangled Qubits is manipulated in some way it will effect the other. This also means that if we measure one of the two we have information about the state of both of them.</strike>\n",
    "\n",
    "Entanglement is a very special form of superposition, which is key to the power of quantum computing. What that means, is that we have the ability to have two or more _qubits_ in a superposition state, which are inherently linked, such that measurement of one changes the possible measurement outcomes for another, regardless of how far apart the two objects are.<br>\n",
    "\n",
    "In the quantum computer, we can use this interlinked interaction to do all sorts of interesting tupes of calculations, where different _qubits_ have a persistent ghostly connection with eachother. This means, that if one of the entangled _qubits_ are flipped around, the other entangled _qubit_ will be flipped as well."
   ]
  },
  {
   "cell_type": "markdown",
   "metadata": {},
   "source": [
    "# Setting up your quantum circuit"
   ]
  },
  {
   "cell_type": "markdown",
   "metadata": {},
   "source": [
    "Okay. So now that we have covered the basics, it's time to make some quantum algorithms. The first thing that we need to do is to create a quantum register, a classical register and a circuit. A Quantum Register holds our Qubits, in this example we only define a single Qubit. We also need a Classical Register because when measuring a Qubit, it will always be either 1 or 0, this information is stored in the Classical Register. Finally we need a Quantum Circuit to bind the Quantum Register and the Classical Register."
   ]
  },
  {
   "cell_type": "code",
   "execution_count": 2,
   "metadata": {},
   "outputs": [],
   "source": [
    "# Creates a Quantum Register with 1 qubit.\n",
    "qr = QuantumRegister(1)\n",
    "\n",
    "# Creates a classical register to hold our measured values\n",
    "cr = ClassicalRegister(1)\n",
    "\n",
    "# Creates a Quantum Circuit \n",
    "circ = QuantumCircuit(qr,cr)"
   ]
  },
  {
   "cell_type": "markdown",
   "metadata": {},
   "source": [
    "To view our circuit, we can call the circ.draw() function. This functions prints two things:\n",
    "\n",
    "    1: q0_0: |0>    q0_0 is our single Qubit.             |0> is the value of the Qubit. \n",
    "    2: c0_0: 0      c0_0 is a classical bit.              0 is the value of the bit.\n",
    "    \n",
    "Qubits' always starts as a |0>."
   ]
  },
  {
   "cell_type": "code",
   "execution_count": 3,
   "metadata": {},
   "outputs": [
    {
     "data": {
      "text/html": [
       "<pre style=\"word-wrap: normal;white-space: pre;line-height: 15px;\">         \n",
       "q0_0: |0>\n",
       "         \n",
       " c0_0: 0 \n",
       "         </pre>"
      ],
      "text/plain": [
       "<qiskit.tools.visualization._text.TextDrawing at 0x105a01f28>"
      ]
     },
     "execution_count": 3,
     "metadata": {},
     "output_type": "execute_result"
    }
   ],
   "source": [
    "circ.draw()"
   ]
  },
  {
   "cell_type": "markdown",
   "metadata": {},
   "source": [
    "Below is a picture of the IBMQ Composer. This is a tool used for programming Quantum computers. It too has a Quantum Register with Qubits in it (seen as q[0], q[1], q[2] etc.) and a Classical Register that stores the measured values. (seen here as the bottom line with a \"c\" in front of it)\n",
    "\n",
    "You might have noticed the colorful boxes with letters in it, to the right. These are called Gates a each one is a speciffic command that can be applied to a Qubit."
   ]
  },
  {
   "cell_type": "code",
   "execution_count": 4,
   "metadata": {},
   "outputs": [
    {
     "data": {
      "text/html": [
       "<img src=\"https://cdn-images-1.medium.com/max/2000/1*c5NCMQAmGOQqIvRK9aiaCg.png\"/>"
      ],
      "text/plain": [
       "<IPython.core.display.Image object>"
      ]
     },
     "execution_count": 4,
     "metadata": {},
     "output_type": "execute_result"
    }
   ],
   "source": [
    "Image(url=\"https://cdn-images-1.medium.com/max/2000/1*c5NCMQAmGOQqIvRK9aiaCg.png\")"
   ]
  },
  {
   "cell_type": "markdown",
   "metadata": {},
   "source": [
    "# Gates"
   ]
  },
  {
   "cell_type": "markdown",
   "metadata": {},
   "source": [
    "## The X Gate\n",
    "The X gate flips the state of the Qubit. Meaning that a Qubit with a value of 1 becomes a 0, and vice versa. In traditional computing this can be directly related to that of a NOT gate. We can add an X gate to our circuit like so:"
   ]
  },
  {
   "cell_type": "code",
   "execution_count": 5,
   "metadata": {},
   "outputs": [
    {
     "data": {
      "image/png": "[encoded data removed]",
      "text/plain": [
       "<Figure size 240.8x138.46 with 1 Axes>"
      ]
     },
     "execution_count": 5,
     "metadata": {},
     "output_type": "execute_result"
    }
   ],
   "source": [
    "# We use our Qunatum Circuit from earlier and call it measure_x\n",
    "measure_x = QuantumCircuit(qr,cr)\n",
    "measure_x.draw();\n",
    "\n",
    "# Here we apply the X gate to our first and only Qubit in the Quantum Register(qr)\n",
    "measure_x.x(qr[0])\n",
    "\n",
    "# Yes, we call draw twice. \n",
    "measure_x.draw(output='mpl')"
   ]
  },
  {
   "cell_type": "markdown",
   "metadata": {},
   "source": [
    "Now if we measure our Qubit it should have a value of |1>, because the Qubit was flipped from it's default state of |0> to |1>."
   ]
  },
  {
   "cell_type": "markdown",
   "metadata": {},
   "source": [
    "To measure the Qubit, we first need to run the circuit using a tool from Qiskit called the BasicAer module. Here we are using a Quantum simulator.. The real thing comes later."
   ]
  },
  {
   "cell_type": "code",
   "execution_count": 6,
   "metadata": {},
   "outputs": [],
   "source": [
    "# Import Aer framework\n",
    "from qiskit import BasicAer\n",
    "from qiskit.quantum_info import state_fidelity, basis_state"
   ]
  },
  {
   "cell_type": "code",
   "execution_count": 148,
   "metadata": {},
   "outputs": [],
   "source": [
    "# Run the quantum circuit on a statevector simulator backend\n",
    "backend = BasicAer.get_backend('qasm_simulator')"
   ]
  },
  {
   "cell_type": "markdown",
   "metadata": {},
   "source": [
    "Now our circuit has run and should have flipped our Qubit. Like we added the X gate earlier we need to add a measure to the circuit."
   ]
  },
  {
   "cell_type": "code",
   "execution_count": 149,
   "metadata": {},
   "outputs": [],
   "source": [
    "# Here we append a measure to our circuit\n",
    "measure_x.measure(qr[0], cr[0]);"
   ]
  },
  {
   "cell_type": "code",
   "execution_count": 150,
   "metadata": {},
   "outputs": [
    {
     "data": {
      "image/png": "[encoded data removed]",
      "text/plain": [
       "<Figure size 541.8x138.46 with 1 Axes>"
      ]
     },
     "execution_count": 150,
     "metadata": {},
     "output_type": "execute_result"
    }
   ],
   "source": [
    "# Here is the circuit again, wiht the (M)easure at the end.\n",
    "measure_x.draw(output='mpl')"
   ]
  },
  {
   "cell_type": "markdown",
   "metadata": {},
   "source": [
    "Now we have added a measure to our circuit and we are ready to run our complete circuit. \n",
    "\n",
    "The measure will store the state of the Qubit ( |1> ) into the Classical Register, which we can view by calling the following methods:"
   ]
  },
  {
   "cell_type": "code",
   "execution_count": 151,
   "metadata": {},
   "outputs": [],
   "source": [
    "result = execute(measure_x, backend).result()"
   ]
  },
  {
   "cell_type": "code",
   "execution_count": 152,
   "metadata": {},
   "outputs": [
    {
     "data": {
      "text/plain": [
       "{'0': 1024}"
      ]
     },
     "execution_count": 152,
     "metadata": {},
     "output_type": "execute_result"
    }
   ],
   "source": [
    "result.get_counts(measure_x)"
   ]
  },
  {
   "cell_type": "markdown",
   "metadata": {},
   "source": [
    "You should see \"{'1': 1024}\" printed above. This is a printout of the Classical Register. \n",
    "All this means is that our algorithm had a 100% chance of returning a 1, as we predicted.\n",
    "\n",
    "(why does it say 1024?: long story short, this is the computers way of telling us how certain it is of the outcome in a range from 0 to 1024. 0 = 0%, 512 = 50%, 1024 = 100%)"
   ]
  },
  {
   "cell_type": "markdown",
   "metadata": {},
   "source": [
    "### Visualizing the output"
   ]
  },
  {
   "cell_type": "markdown",
   "metadata": {},
   "source": [
    "Now, lets try drawing the output as a histogram, to visualize our result a little better. For this we need a few more tools:"
   ]
  },
  {
   "cell_type": "code",
   "execution_count": 153,
   "metadata": {},
   "outputs": [],
   "source": [
    "from qiskit.tools.visualization import plot_histogram"
   ]
  },
  {
   "cell_type": "code",
   "execution_count": 154,
   "metadata": {},
   "outputs": [
    {
     "data": {
      "image/png": "[encoded data removed]",
      "text/plain": [
       "<Figure size 504x360 with 1 Axes>"
      ]
     },
     "execution_count": 154,
     "metadata": {},
     "output_type": "execute_result"
    }
   ],
   "source": [
    "plot_histogram(result.get_counts(measure_x))"
   ]
  },
  {
   "cell_type": "markdown",
   "metadata": {},
   "source": [
    "Again you should see a 100% probalility of a 1. Don't worry if this isn't clear yet, you will get more familiar with displaying the results later."
   ]
  },
  {
   "cell_type": "markdown",
   "metadata": {},
   "source": [
    "## The Hadamard gate (H gate)\n",
    "The hadamard gate is one of the most common gates used in quantum computing, and one that you surely will get more aquainted with as you explore quantum computing. The hadamard gate transforms the state of a Qubit to and from superposition. This is often used at the start of quantum algorithms, as Qubits usually needs to be in a superposition for certain algorithms to work."
   ]
  },
  {
   "cell_type": "code",
   "execution_count": 155,
   "metadata": {},
   "outputs": [
    {
     "data": {
      "text/html": [
       "<pre style=\"word-wrap: normal;white-space: pre;line-height: 15px;\">         ┌───┐\n",
       "q0_0: |0>┤ H ├\n",
       "         └───┘\n",
       " c0_0: 0 ═════\n",
       "              </pre>"
      ],
      "text/plain": [
       "<qiskit.tools.visualization._text.TextDrawing at 0x12a01a128>"
      ]
     },
     "execution_count": 155,
     "metadata": {},
     "output_type": "execute_result"
    }
   ],
   "source": [
    "# We make a new Qunatum Circuite, as we did earlier, and call it measure_h\n",
    "measure_h = QuantumCircuit(qr,cr)\n",
    "\n",
    "# We append a H gate to the circuit and then draw it\n",
    "measure_h.h(qr[0])\n",
    "measure_h.draw()"
   ]
  },
  {
   "cell_type": "code",
   "execution_count": 156,
   "metadata": {},
   "outputs": [],
   "source": [
    "# Lets measure the Qubit after the H gate has put it in superposition\n",
    "\n",
    "# Here we append a measure\n",
    "measure_h.measure(qr[0], cr[0])\n",
    "\n",
    "# Here we run our circuit\n",
    "result = execute(measure_h, backend).result()"
   ]
  },
  {
   "cell_type": "code",
   "execution_count": 157,
   "metadata": {},
   "outputs": [],
   "source": [
    "counts = result.get_counts(measure_h)"
   ]
  },
  {
   "cell_type": "code",
   "execution_count": 158,
   "metadata": {},
   "outputs": [
    {
     "data": {
      "text/plain": [
       "{'0': 504, '1': 520}"
      ]
     },
     "execution_count": 158,
     "metadata": {},
     "output_type": "execute_result"
    }
   ],
   "source": [
    "counts"
   ]
  },
  {
   "cell_type": "markdown",
   "metadata": {},
   "source": [
    "Last time we got the result: {'1': 1024}, now we got {'0': 512, '1': 512}, why is this?\n",
    "\n",
    "Putting a Qubit in superposition makes it have a 50% chance of being a 1 or a 0 when measured. \n",
    "\n",
    "    {'1': 1024}              = 100% chance of the result being a 1.\n",
    "    {'0': 512, '1': 512}     = 50% chance of 0, 50% chance of 1.\n",
    "    \n",
    "Lets visualize the result:"
   ]
  },
  {
   "cell_type": "code",
   "execution_count": 159,
   "metadata": {},
   "outputs": [
    {
     "data": {
      "image/png": "[encoded data removed]",
      "text/plain": [
       "<Figure size 504x360 with 1 Axes>"
      ]
     },
     "execution_count": 159,
     "metadata": {},
     "output_type": "execute_result"
    }
   ],
   "source": [
    "plot_histogram(counts)"
   ]
  },
  {
   "cell_type": "markdown",
   "metadata": {},
   "source": [
    "## The C-NOT (Controlled-NOT) gate\n",
    "This gate is known as a two-Qubit gate, which means that it needs two Qubits to function.\n",
    "\n",
    "The C-NOT gate acts as an X gate, flipping the value of a certain Qubit, but only if another Qubit has the value of 1. One Qubit is the \"control\" Qubit and the other is the \"target\" Qubit. \n",
    "\n",
    "If the \"control\" Qubit is in the state |0> nothing happens to the \"target\", but if the \"control\" Qubit is in state |1> an X gate operation is applied to the \"target\" Qubit.\n",
    "\n",
    "Lets demonstrate:"
   ]
  },
  {
   "cell_type": "code",
   "execution_count": 160,
   "metadata": {},
   "outputs": [
    {
     "data": {
      "text/html": [
       "<pre style=\"word-wrap: normal;white-space: pre;line-height: 15px;\">                 ┌─┐\n",
       "q2_0: |0>──■─────┤M├\n",
       "         ┌─┴─┐┌─┐└╥┘\n",
       "q2_1: |0>┤ X ├┤M├─╫─\n",
       "         └───┘└╥┘ ║ \n",
       " c2_0: 0 ══════╬══╩═\n",
       "               ║    \n",
       " c2_1: 0 ══════╩════\n",
       "                    </pre>"
      ],
      "text/plain": [
       "<qiskit.tools.visualization._text.TextDrawing at 0x12a1a3160>"
      ]
     },
     "execution_count": 160,
     "metadata": {},
     "output_type": "execute_result"
    }
   ],
   "source": [
    "# We create a new Quantum Register with 2 qubits.\n",
    "qr2 = QuantumRegister(2)\n",
    "\n",
    "# We also need to create a classical register to hold our measured values\n",
    "cr2 = ClassicalRegister(2)\n",
    "\n",
    "# Finally the circuit:\n",
    "measure_CX = QuantumCircuit(qr2,cr2)\n",
    "\n",
    "# Here we append a C-NOT (CX) gate to our circuit\n",
    "measure_CX.cx(qr2[0],qr2[1])\n",
    "\n",
    "# Lastly the measure\n",
    "measure_CX.measure(qr2, cr2)\n",
    "\n",
    "measure_CX.draw()"
   ]
  },
  {
   "cell_type": "code",
   "execution_count": 161,
   "metadata": {},
   "outputs": [],
   "source": [
    "result = execute(measure_CX, backend).result()"
   ]
  },
  {
   "cell_type": "code",
   "execution_count": 162,
   "metadata": {},
   "outputs": [
    {
     "data": {
      "image/png": "[encoded data removed]",
      "text/plain": [
       "<Figure size 504x360 with 1 Axes>"
      ]
     },
     "execution_count": 162,
     "metadata": {},
     "output_type": "execute_result"
    }
   ],
   "source": [
    "counts = result.get_counts(measure_CX)\n",
    "plot_histogram(counts)"
   ]
  },
  {
   "cell_type": "markdown",
   "metadata": {},
   "source": [
    "### What happened?"
   ]
  },
  {
   "cell_type": "markdown",
   "metadata": {},
   "source": [
    "Well. not much. Remember that the default state of a Qubit is 0, and that C-NOT gates only flip Qubits when the \"control\" Qubit is 1? Since our input was 00 (0 for both Qubits in our Quantum Register), our output was 00 as well.\n",
    "\n",
    "Let's try again, but this time lets add an X gate to one of out Qubits."
   ]
  },
  {
   "cell_type": "code",
   "execution_count": 163,
   "metadata": {},
   "outputs": [
    {
     "data": {
      "text/html": [
       "<pre style=\"word-wrap: normal;white-space: pre;line-height: 15px;\">         ┌───┐        ┌─┐\n",
       "q2_0: |0>┤ X ├──■─────┤M├\n",
       "         └───┘┌─┴─┐┌─┐└╥┘\n",
       "q2_1: |0>─────┤ X ├┤M├─╫─\n",
       "              └───┘└╥┘ ║ \n",
       " c2_0: 0 ═══════════╬══╩═\n",
       "                    ║    \n",
       " c2_1: 0 ═══════════╩════\n",
       "                         </pre>"
      ],
      "text/plain": [
       "<qiskit.tools.visualization._text.TextDrawing at 0x12a27c390>"
      ]
     },
     "execution_count": 163,
     "metadata": {},
     "output_type": "execute_result"
    }
   ],
   "source": [
    "# Starting over we build a new Quantum Circuit\n",
    "measure_CX = QuantumCircuit(qr2,cr2)\n",
    "\n",
    "# This time we add an X gate to the circuits first Qubit (qr2[0] = the first Qubit)\n",
    "measure_CX.x(qr2[0])\n",
    "\n",
    "# We also add the C-NOT gate to the first Qubit (qr2[0]) which is then considered the \"control\". The second Qubit (qr2[1]) is regarded as the target.\n",
    "measure_CX.cx(qr2[0],qr2[1])\n",
    "\n",
    "# We add a measure of the Qubits\n",
    "measure_CX.measure(qr2, cr2)\n",
    "\n",
    "# Lastly we draw the circuit\n",
    "measure_CX.draw()"
   ]
  },
  {
   "cell_type": "code",
   "execution_count": 164,
   "metadata": {},
   "outputs": [],
   "source": [
    "\n",
    "result = execute(measure_CX, backend).result()\n",
    "counts = result.get_counts(measure_CX)"
   ]
  },
  {
   "cell_type": "code",
   "execution_count": 165,
   "metadata": {},
   "outputs": [
    {
     "data": {
      "image/png": "[encoded data removed]",
      "text/plain": [
       "<Figure size 504x360 with 1 Axes>"
      ]
     },
     "execution_count": 165,
     "metadata": {},
     "output_type": "execute_result"
    }
   ],
   "source": [
    "plot_histogram(counts)"
   ]
  },
  {
   "cell_type": "markdown",
   "metadata": {},
   "source": [
    "## What happend?\n",
    "\n",
    "Well. something. This time our input was 01, after the X gate flipped the state of the first Qubit, and our output was 11.\n",
    "\n",
    "Firstly, the result (11) visualized above should be read from **right** to **left**, as in binary.\n",
    "    \n",
    "    11 = First Qubit value = 1, Second Qubit value = 1\n",
    "    \n",
    "Secondly, our result ended up as 11, since our first Qubit is fliped by the X gate from it's default value of 0 to a value of 1. Since the first Qubit is the \"control\" Qubit in our C-NOT gate, and the value of said Qubit is 1, it flips the \"target\" Qubit, the second Qubit. Giving us a result of 11. \n",
    "\n",
    "Now lets talk about entanglement."
   ]
  },
  {
   "cell_type": "markdown",
   "metadata": {},
   "source": [
    "### Using C-NOT gates while in superposition."
   ]
  },
  {
   "cell_type": "markdown",
   "metadata": {},
   "source": [
    "If we try to apply the C-NOT gate to our Qubits while the control Qubit is in a superposition, the two Qubits becomes entangled. This means that the stocastic outcomes between the two Qubits become correlated in all future operations."
   ]
  },
  {
   "cell_type": "code",
   "execution_count": 166,
   "metadata": {},
   "outputs": [
    {
     "data": {
      "text/html": [
       "<pre style=\"word-wrap: normal;white-space: pre;line-height: 15px;\">         ┌───┐┌───┐     ┌───┐ ░    ┌─┐\n",
       "q2_0: |0>┤ H ├┤ X ├──■──┤ H ├─░────┤M├\n",
       "         └───┘└───┘┌─┴─┐└───┘ ░ ┌─┐└╥┘\n",
       "q2_1: |0>──────────┤ X ├──────░─┤M├─╫─\n",
       "                   └───┘      ░ └╥┘ ║ \n",
       " c2_0: 0 ════════════════════════╬══╩═\n",
       "                                 ║    \n",
       " c2_1: 0 ════════════════════════╩════\n",
       "                                      </pre>"
      ],
      "text/plain": [
       "<qiskit.tools.visualization._text.TextDrawing at 0x12a099198>"
      ]
     },
     "execution_count": 166,
     "metadata": {},
     "output_type": "execute_result"
    }
   ],
   "source": [
    "# We build a new circuit with two Qubits\n",
    "measure_CX_SP = QuantumCircuit(qr2,cr2)\n",
    "\n",
    "# We add a hadamard gate to put our first Qubit in a superposition\n",
    "measure_CX_SP.h(qr2[0])\n",
    "\n",
    "# We add a X gate to flip the Qubit we just put in superposition\n",
    "measure_CX_SP.x(qr2[0])\n",
    "\n",
    "# A C-NOT gate with Qubit 0 as the control, and Qubit 1 as the target.\n",
    "measure_CX_SP.cx(qr2[0],qr2[1])\n",
    "\n",
    "# To pull our first Qubit out of superposition, we add a second H gate to calncle out the first one.\n",
    "measure_CX_SP.h(qr2[0])\n",
    "\n",
    "# This is a barrier, it dosent do anything, but it helps allign the drawing\n",
    "measure_CX_SP.barrier();\n",
    "\n",
    "# We then add a measurement on the two Qubits\n",
    "measure_CX_SP.measure(qr2, cr2)\n",
    "\n",
    "# We draw the circuit\n",
    "measure_CX_SP.draw()"
   ]
  },
  {
   "cell_type": "code",
   "execution_count": 167,
   "metadata": {},
   "outputs": [
    {
     "data": {
      "image/png": "[encoded data removed]",
      "text/plain": [
       "<Figure size 504x360 with 1 Axes>"
      ]
     },
     "execution_count": 167,
     "metadata": {},
     "output_type": "execute_result"
    }
   ],
   "source": [
    "result = execute(measure_CX_SP, backend).result()\n",
    "counts = result.get_counts(measure_CX_SP)\n",
    "plot_histogram(counts)"
   ]
  },
  {
   "cell_type": "markdown",
   "metadata": {},
   "source": [
    "### What happened? "
   ]
  },
  {
   "cell_type": "markdown",
   "metadata": {},
   "source": [
    "We entangled the Qubits by adding the C-NOT gate to a circuit with a Qubit in superposition as the \"control\". Because the Qubit in superposition has equal chances of being 0 and 1, the \"target\" Qubit has similar chances, as it is entangled with the \"control\". Therefore, the measurement of one bit will give the result of the other. \n",
    "\n",
    "The properbility of a outcome is defined as 1/n where n = amount of entagled Qubits."
   ]
  },
  {
   "cell_type": "markdown",
   "metadata": {},
   "source": [
    "# Running code on a real Quantum Computer"
   ]
  },
  {
   "cell_type": "markdown",
   "metadata": {},
   "source": [
    "As you may have noticed, all our tests up until now have only been running on a simulation. This is known as the 'qasm_simulator', which is defined in our backend."
   ]
  },
  {
   "cell_type": "code",
   "execution_count": 171,
   "metadata": {},
   "outputs": [],
   "source": [
    "BasicAer.get_backend('qasm_simulator');"
   ]
  },
  {
   "cell_type": "markdown",
   "metadata": {},
   "source": [
    "The simulator is fine for running most basic quantum circuits, since the outcomes of these calculations are already known. But if you want to develop new algorithms or try out the later example we will need to run them on a real machine. \n",
    "\n",
    "To run our calculations on a existing quantum computer, we must first import IBMQ "
   ]
  },
  {
   "cell_type": "code",
   "execution_count": 169,
   "metadata": {},
   "outputs": [],
   "source": [
    "from qiskit import IBMQ"
   ]
  },
  {
   "cell_type": "markdown",
   "metadata": {},
   "source": [
    "To run any algorithm on IBMQ you need a user, or more specifically you need an API Token. Getting one is easy, just follow this link: https://quantumexperience.ng.bluemix.net/qx/account/advanced.\n",
    "\n",
    "1. Put your API Token in the section marked Your_Key_Here in the cell below. \n",
    "2. Don't delete the \"\".\n",
    "3. Remember to outcomment the cell (remove the # at the start of the line)"
   ]
  },
  {
   "cell_type": "code",
   "execution_count": 170,
   "metadata": {},
   "outputs": [],
   "source": [
    "# API_Token = \"de8b458767c048db841ebbbc7a7b1bb2a4004c5086812ca496261e6b89f02653814ae8f1db62e5108cd86a2edb6630d101a4df03ab6526de8c7fa55129c5770f\""
   ]
  },
  {
   "cell_type": "code",
   "execution_count": 30,
   "metadata": {},
   "outputs": [
    {
     "ename": "NameError",
     "evalue": "name 'API_Token' is not defined",
     "output_type": "error",
     "traceback": [
      "\u001b[0;31m---------------------------------------------------------------------------\u001b[0m",
      "\u001b[0;31mNameError\u001b[0m                                 Traceback (most recent call last)",
      "\u001b[0;32m<ipython-input-30-c2990f7711ab>\u001b[0m in \u001b[0;36m<module>\u001b[0;34m\u001b[0m\n\u001b[1;32m      1\u001b[0m \u001b[0;31m# We now save the account so we can use it with IBMQ\u001b[0m\u001b[0;34m\u001b[0m\u001b[0;34m\u001b[0m\u001b[0;34m\u001b[0m\u001b[0m\n\u001b[0;32m----> 2\u001b[0;31m \u001b[0mIBMQ\u001b[0m\u001b[0;34m.\u001b[0m\u001b[0msave_account\u001b[0m\u001b[0;34m(\u001b[0m\u001b[0mAPI_Token\u001b[0m\u001b[0;34m)\u001b[0m\u001b[0;34m\u001b[0m\u001b[0;34m\u001b[0m\u001b[0m\n\u001b[0m\u001b[1;32m      3\u001b[0m \u001b[0;31m# And now we register which account we are using.\u001b[0m\u001b[0;34m\u001b[0m\u001b[0;34m\u001b[0m\u001b[0;34m\u001b[0m\u001b[0m\n\u001b[1;32m      4\u001b[0m \u001b[0mIBMQ\u001b[0m\u001b[0;34m.\u001b[0m\u001b[0mload_accounts\u001b[0m\u001b[0;34m(\u001b[0m\u001b[0;34m)\u001b[0m\u001b[0;34m\u001b[0m\u001b[0;34m\u001b[0m\u001b[0m\n",
      "\u001b[0;31mNameError\u001b[0m: name 'API_Token' is not defined"
     ]
    }
   ],
   "source": [
    "# We now save the account so we can use it with IBMQ\n",
    "IBMQ.save_account(API_Token)\n",
    "# And now we register which account we are using.\n",
    "IBMQ.load_accounts()"
   ]
  },
  {
   "cell_type": "markdown",
   "metadata": {},
   "source": [
    "### Choosing a backend\n",
    "The qasm simulator is only one of a handfull of available backends to use for running our quantum programs. Too see all available backends, we can run the following code."
   ]
  },
  {
   "cell_type": "code",
   "execution_count": null,
   "metadata": {},
   "outputs": [],
   "source": [
    "# Get list of available backends\n",
    "IBMQ.backends()"
   ]
  },
  {
   "cell_type": "code",
   "execution_count": null,
   "metadata": {},
   "outputs": [],
   "source": [
    "# But for the sake of speed we will use the least busy one\n",
    "from qiskit.providers.ibmq import least_busy\n",
    "device = least_busy(IBMQ.backends(simulator=False))"
   ]
  },
  {
   "cell_type": "code",
   "execution_count": null,
   "metadata": {},
   "outputs": [],
   "source": [
    "# We can now Generate a quantum circuit like before.\n",
    "q = QuantumRegister(1)\n",
    "c = ClassicalRegister(1)\n",
    "qc = QuantumCircuit(q, c)"
   ]
  },
  {
   "cell_type": "code",
   "execution_count": null,
   "metadata": {},
   "outputs": [],
   "source": [
    "# We add an x gate at q0\n",
    "qc.x(q[0])\n",
    "\n",
    "# And add a measure to our Qubit.\n",
    "measure = qc.measure(q, c)"
   ]
  },
  {
   "cell_type": "code",
   "execution_count": null,
   "metadata": {},
   "outputs": [],
   "source": [
    "qc.draw()"
   ]
  },
  {
   "cell_type": "code",
   "execution_count": null,
   "metadata": {},
   "outputs": [],
   "source": [
    "from qiskit.tools.monitor import job_monitor\n",
    "\n",
    "# We excecute the job on the choosen backend\n",
    "job_sim = execute(qc, device)\n",
    "\n",
    "# The job monitor makes it possible for us to monitor our job in real time\n",
    "job_monitor(job_sim, monitor_async=True)"
   ]
  },
  {
   "cell_type": "markdown",
   "metadata": {},
   "source": [
    "After a couple of seconds you should see an output with the status of your job in the cell above. This can take some time depending on how busy the machines are. So grab a cup of coffee, or continue on while we wait."
   ]
  },
  {
   "cell_type": "code",
   "execution_count": null,
   "metadata": {},
   "outputs": [],
   "source": [
    "# When the job is done, the results can be showed below.\n",
    "sim_result = job_sim.result()\n",
    "counts = sim_result.get_counts(qc)"
   ]
  },
  {
   "cell_type": "code",
   "execution_count": null,
   "metadata": {},
   "outputs": [],
   "source": [
    "plot_histogram(counts)"
   ]
  },
  {
   "cell_type": "markdown",
   "metadata": {},
   "source": [
    "# Quantum algorithms"
   ]
  },
  {
   "cell_type": "markdown",
   "metadata": {},
   "source": [
    "## Random number generation"
   ]
  },
  {
   "cell_type": "markdown",
   "metadata": {},
   "source": [
    "Now let's try using the quantum computer for something usefull! Generating random numbers!!\n",
    "\n",
    "It's funny but generating truly random numbers are not as easy as you might think, but quantum computers can help us making our random a little more random."
   ]
  },
  {
   "cell_type": "code",
   "execution_count": null,
   "metadata": {},
   "outputs": [],
   "source": [
    "from qiskit import BasicAer, execute"
   ]
  },
  {
   "cell_type": "code",
   "execution_count": null,
   "metadata": {},
   "outputs": [],
   "source": [
    "# You should know by now that this is how you build a Quantum Circuit\n",
    "q = QuantumRegister(1)\n",
    "c = ClassicalRegister(1)\n",
    "circ = QuantumCircuit(q, c)\n",
    "\n",
    "# Here we add an H gate, the one that puts Qubits in superposition\n",
    "circ.h(q)\n",
    "# Lastly a measure of the Qubit\n",
    "circ.measure(q, c)"
   ]
  },
  {
   "cell_type": "code",
   "execution_count": null,
   "metadata": {},
   "outputs": [],
   "source": [
    "# We choose a backend, like before. To save you from waiting we have chosen the simulator backend. \n",
    "# ...If you're smart enough you can set up the real Qunatum Computer, if you want to.\n",
    "backend = BasicAer.get_backend('qasm_simulator')\n",
    "\n",
    "# We run our circuit. You might notice that it says \"shots=8\" and \"memory=True\"\n",
    "# Shots is the amount of times the circuit should be run.\n",
    "# Memory=True just tells the computer to store the result from each Shot.\n",
    "job = execute(circ, backend, shots=8, memory=True)"
   ]
  },
  {
   "cell_type": "markdown",
   "metadata": {},
   "source": [
    "When you run the cell below you will see a line with the same amount of bits as the number of Shots we defined above. "
   ]
  },
  {
   "cell_type": "code",
   "execution_count": null,
   "metadata": {},
   "outputs": [],
   "source": [
    "data = job.result().get_memory()\n",
    "print(data)"
   ]
  },
  {
   "cell_type": "code",
   "execution_count": null,
   "metadata": {},
   "outputs": [],
   "source": [
    "# Here we take each bit from each shot, and put them in an object called \"s\", which we then print.\n",
    "s = \"\"\n",
    "for x in range (0,len(data)):\n",
    "    s += data[x]\n",
    "print(s)"
   ]
  },
  {
   "cell_type": "code",
   "execution_count": null,
   "metadata": {},
   "outputs": [],
   "source": [
    "# Run this cell to take the object \"s\" from before, which is now a binary number, and display it as a real number.\n",
    "int(s, 2)"
   ]
  },
  {
   "cell_type": "markdown",
   "metadata": {},
   "source": [
    "You just made a random number! :P "
   ]
  },
  {
   "cell_type": "code",
   "execution_count": null,
   "metadata": {},
   "outputs": [],
   "source": []
  }
 ],
 "metadata": {
  "kernelspec": {
   "display_name": "Python 3",
   "language": "python",
   "name": "python3"
  },
  "language_info": {
   "codemirror_mode": {
    "name": "ipython",
    "version": 3
   },
   "file_extension": ".py",
   "mimetype": "text/x-python",
   "name": "python",
   "nbconvert_exporter": "python",
   "pygments_lexer": "ipython3",
   "version": "3.7.1"
  }
 },
 "nbformat": 4,
 "nbformat_minor": 2
}
