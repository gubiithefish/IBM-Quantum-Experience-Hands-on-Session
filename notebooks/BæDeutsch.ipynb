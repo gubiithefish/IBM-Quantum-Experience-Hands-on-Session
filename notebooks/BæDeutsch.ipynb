{
 "cells": [
  {
   "cell_type": "code",
   "execution_count": 1,
   "metadata": {},
   "outputs": [],
   "source": [
    "from IPython.core.display import display, HTML"
   ]
  },
  {
   "cell_type": "code",
   "execution_count": 16,
   "metadata": {},
   "outputs": [],
   "source": [
    "toggle_code_str = '''\n",
    "<form action=\"javascript:code_toggle()\"><input type=\"submit\" id=\"toggleButton\" value=\"Show answer\"></form>\n",
    "'''\n",
    "\n",
    "toggle_code_prepare_str = '''\n",
    "    <script>\n",
    "    function code_toggle() {\n",
    "        if ($('div.cell.code_cell.rendered.selected div.input').css('display')!='none'){\n",
    "            $('div.cell.code_cell.rendered.selected div.input').hide();\n",
    "        } else {\n",
    "            $('div.cell.code_cell.rendered.selected div.input').show();\n",
    "        }\n",
    "    }\n",
    "    </script>\n",
    "'''\n",
    "\n",
    "def toggle_code():\n",
    "    display(HTML(toggle_code_str))"
   ]
  },
  {
   "cell_type": "code",
   "execution_count": 15,
   "metadata": {},
   "outputs": [
    {
     "data": {
      "text/html": [
       "\n",
       "<form action=\"javascript:code_toggle()\"><input type=\"submit\" id=\"toggleButton\" value=\"Show answer\"></form>\n"
      ],
      "text/plain": [
       "<IPython.core.display.HTML object>"
      ]
     },
     "metadata": {},
     "output_type": "display_data"
    }
   ],
   "source": [
    "\"derp\"\n",
    "toggle_code()"
   ]
  },
  {
   "cell_type": "markdown",
   "metadata": {},
   "source": [
    "---\n",
    "# Deutsch\n",
    "## Intro\n",
    "During the beginning of the 20th century, Alan Turing created the foundation to so much of computer science that it is hard to do anything with computers that isn't some way influenced by his work. The same applies to David Deutsch, who in 1985 considered computing devices based upon the principles of quantum mechanics, which ultimately led us to the modern conception of a quantum computer[QC-6].\n",
    "\n",
    "This remarkable first step taken by Deutsch was improved in the subsequent decade by many people, culminating in a list of quantum algorithms, where the majority of these may provide exponential speedup over their classical counterparts and the others, like Grover's algorithm, _may only_ provide a quadratic speedup[QC-38].\n",
    "\n",
    "It is a fun fact to know - but knowing is not as awesome as trying it yourself, hence why we will go forth with diving into the first problem Deutsch discovered which which the quantum computer can solve faster than a traditional computer, although not exponentially faster. \n",
    "\n",
    "The problem that Deutsch's algorithm solves is not an important problem in Computer Science. However, it is a great beginners problem to see how quantum computers can be used and it is presented here with that purpose. _If you are familiar with programming, you can see this as your “hello world” ;-)._\n",
    "\n",
    "But before we start, we need to be on the same page regarding the understading of four classical operators -...\n",
    "\n"
   ]
  },
  {
   "cell_type": "markdown",
   "metadata": {},
   "source": [
    "## Classic operators"
   ]
  },
  {
   "cell_type": "markdown",
   "metadata": {},
   "source": [
    "Indsæt billede omkring klassiske operatører\n",
    "#TODO Grafisk design\n",
    "\n",
    "<table>\n",
    "<tr>\n",
    "<th>Balanced</th>\n",
    "<th>Constant</th>\n",
    "</tr>\n",
    "<tr>\n",
    "<td>Identity</td>\n",
    "<td>Constant 0</td>\n",
    "</tr>\n",
    "<tr>\n",
    "<td>Negation</td>\n",
    "<td>Constant 1</td>\n",
    "</tr>\n",
    "</table>"
   ]
  },
  {
   "cell_type": "markdown",
   "metadata": {},
   "source": [
    "## The difference between classic and Quantum operators"
   ]
  },
  {
   "cell_type": "markdown",
   "metadata": {
    "tags": [
     "asb"
    ]
   },
   "source": [
    "#TODO <br>\n",
    "\n",
    "For reversible operations, given the operation A and output value b, you can always find the input value x.<br>\n",
    "$\n",
    "\\begin{align}\n",
    "A \\cdot x = b\n",
    "\\end{align}\n",
    "$\n",
    "\n",
    "\n",
    "Operations which permute are reversible;<br>\n",
    "-- Identity and negation are reversible<br>\n",
    "Operations which erase and overwrite are not<br>\n",
    "--  Constant-0 and Constant-1 are not reversible<br>\n",
    "Quantum computers use only revserible operations, so we will only care about those<br>\n",
    "--  In fact, all quantum operators are their own inverses<br>\n",
    "\n",
    "### Questions\n",
    "\n",
    "imagine someone gives you a black box containing one of the functions illustrated above on one bit<br>\n",
    "you don't know which function is inside the box, but you can try inputs and see outputs<br>"
   ]
  },
  {
   "cell_type": "markdown",
   "metadata": {},
   "source": [
    "**Question 1:**\n",
    "How many queries will it take to determine the function inside the black box on a **classical** computer?"
   ]
  },
  {
   "cell_type": "code",
   "execution_count": 17,
   "metadata": {
    "tags": [
     "toggle_code()"
    ]
   },
   "outputs": [
    {
     "data": {
      "text/html": [
       "\n",
       "<form action=\"javascript:code_toggle()\"><input type=\"submit\" id=\"toggleButton\" value=\"Show answer\"></form>\n"
      ],
      "text/plain": [
       "<IPython.core.display.HTML object>"
      ]
     },
     "metadata": {},
     "output_type": "display_data"
    }
   ],
   "source": [
    "\"Two queries\"\n",
    "toggle_code()"
   ]
  },
  {
   "cell_type": "markdown",
   "metadata": {},
   "source": [
    "**Question 2:** \n",
    "How many queries will it take to determine the function inside the black box on a **quantum** computer?"
   ]
  },
  {
   "cell_type": "code",
   "execution_count": 13,
   "metadata": {},
   "outputs": [
    {
     "data": {
      "text/html": [
       "\n",
       "<form action=\"javascript:code_toggle()\"><input type=\"submit\" id=\"toggleButton\" value=\"Show answer\"></form>\n"
      ],
      "text/plain": [
       "<IPython.core.display.HTML object>"
      ]
     },
     "metadata": {},
     "output_type": "display_data"
    }
   ],
   "source": [
    "\"Two queries\"\n",
    "toggle_code()"
   ]
  },
  {
   "cell_type": "markdown",
   "metadata": {},
   "source": [
    "## Quantum Operators (And tasks)"
   ]
  },
  {
   "cell_type": "markdown",
   "metadata": {},
   "source": [
    "<div class=\"alert alert-block alert-warning\">\n",
    "<b>Example:</b> Shiiiiet\n",
    "</div>"
   ]
  },
  {
   "cell_type": "code",
   "execution_count": null,
   "metadata": {},
   "outputs": [],
   "source": []
  }
 ],
 "metadata": {
  "kernelspec": {
   "display_name": "Python 3",
   "language": "python",
   "name": "python3"
  },
  "language_info": {
   "codemirror_mode": {
    "name": "ipython",
    "version": 3
   },
   "file_extension": ".py",
   "mimetype": "text/x-python",
   "name": "python",
   "nbconvert_exporter": "python",
   "pygments_lexer": "ipython3",
   "version": "3.7.1"
  }
 },
 "nbformat": 4,
 "nbformat_minor": 2
}
