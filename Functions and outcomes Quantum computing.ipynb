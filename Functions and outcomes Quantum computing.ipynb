{
 "cells": [
  {
   "cell_type": "markdown",
   "metadata": {
    "slideshow": {
     "slide_type": "-"
    }
   },
   "source": [
    "# Quantum Computing In Qiskit With Examples"
   ]
  },
  {
   "cell_type": "code",
   "execution_count": 65,
   "metadata": {},
   "outputs": [],
   "source": [
    "#Outcomment to install dependencies.\n",
    "#import pip\n",
    "#! pip3 install qiskit\n",
    "#! pip3 install matplotlib\n",
    "import numpy as np\n",
    "from qiskit import QuantumCircuit, ClassicalRegister, QuantumRegister\n",
    "from qiskit import execute\n",
    "from IPython.display import Math\n",
    "from IPython.display import Image\n",
    "from IPython.core.display import HTML "
   ]
  },
  {
   "cell_type": "markdown",
   "metadata": {},
   "source": [
    "# Introduction\n",
    "This notebook is constructed as a part of the Bluesmartie Quantum Experience Hands-on session.\n",
    "The purpose of this notebook is to give an introduction to all functions available in the Qiskit framework as well as give an introduction to how Quantum Computers work.\n",
    "\n",
    "Before we start, it is important to have som basic knowledge about how quantum computers work, what we can expect from them and how they can be utilized."
   ]
  },
  {
   "cell_type": "markdown",
   "metadata": {},
   "source": [
    "# What is a Qubit?"
   ]
  },
  {
   "cell_type": "markdown",
   "metadata": {},
   "source": [
    "Before we begin it is important to first talk a bit about Qubits. Quibits are like traditional bits in a computer in the way thtat they can either be 1 or 0 (|0>,|1>) the notation of the Qubits just tell us that we are talking about quantum objects."
   ]
  },
  {
   "cell_type": "markdown",
   "metadata": {},
   "source": [
    "But there are also ways in which it does not act like a typical computer. One of the main differences between Qubits and traditional bits is that Qubits are able to be in a superposition between 1 and 0 (α|0⟩+β|1⟩)."
   ]
  },
  {
   "cell_type": "markdown",
   "metadata": {},
   "source": [
    "Where α and β are complex numbers which are related to the probability of obtaining a certain outcome. A Qubit state is simutainiouly 0 and 1, and only when mesured, can it take the form of one of two values"
   ]
  },
  {
   "cell_type": "markdown",
   "metadata": {},
   "source": [
    "$$ r'|\\alpha^2| or |\\beta^2|' $$"
   ]
  },
  {
   "cell_type": "markdown",
   "metadata": {},
   "source": [
    "## Entanglement\n",
    "\n",
    "The ideá of intanglement is one which is unique to quantum computing. It is the idea that Qubits can have an effect on each others state. \n",
    "If two Qubits are entangled, their values are strictly related to each other. This means that one value taken from one Qubit will have some relation to the Qubit(s) in which it is entangled."
   ]
  },
  {
   "cell_type": "markdown",
   "metadata": {},
   "source": [
    "# Setting up your quantum circuit"
   ]
  },
  {
   "cell_type": "markdown",
   "metadata": {},
   "source": [
    "Okay. So now that we have covered the basics, it is time to start making quantum algorithms. The first thing that we need to do to get started with qiskit is to create a quantum register as well as a circuit. For this case we will use a Quantum Register with 3 quibits named q1, and a Quantum Circuit which takes the register as a parameter"
   ]
  },
  {
   "cell_type": "code",
   "execution_count": 4,
   "metadata": {},
   "outputs": [],
   "source": [
    "# Create a Quantum Register with 3 qubits.\n",
    "qr = QuantumRegister(1,'q1')\n",
    "# We also need to create a classical register to measure our values\n",
    "cr = ClassicalRegister(1)\n",
    "# Create a Quantum Circuit acting o<n the q register\n",
    "circ = QuantumCircuit(qr,cr)"
   ]
  },
  {
   "cell_type": "markdown",
   "metadata": {},
   "source": [
    "To view our circuit, we can call the circ.draw() function"
   ]
  },
  {
   "cell_type": "code",
   "execution_count": 5,
   "metadata": {},
   "outputs": [
    {
     "data": {
      "text/html": [
       "<pre style=\"word-wrap: normal;white-space: pre;line-height: 15px;\">         \n",
       "q1_0: |0>\n",
       "         \n",
       " c0_0: 0 \n",
       "         </pre>"
      ],
      "text/plain": [
       "<qiskit.tools.visualization._text.TextDrawing at 0x111e76898>"
      ]
     },
     "execution_count": 5,
     "metadata": {},
     "output_type": "execute_result"
    }
   ],
   "source": [
    "circ.draw()"
   ]
  },
  {
   "cell_type": "markdown",
   "metadata": {},
   "source": [
    "If you have used the IBMQ composer you should be familiar with this drawing, as it's layout mimics this structure. "
   ]
  },
  {
   "cell_type": "code",
   "execution_count": 6,
   "metadata": {},
   "outputs": [
    {
     "data": {
      "text/html": [
       "<img src=\"https://cdn-images-1.medium.com/max/2000/1*c5NCMQAmGOQqIvRK9aiaCg.png\"/>"
      ],
      "text/plain": [
       "<IPython.core.display.Image object>"
      ]
     },
     "execution_count": 6,
     "metadata": {},
     "output_type": "execute_result"
    }
   ],
   "source": [
    "Image(url=\"https://cdn-images-1.medium.com/max/2000/1*c5NCMQAmGOQqIvRK9aiaCg.png\")"
   ]
  },
  {
   "cell_type": "markdown",
   "metadata": {},
   "source": [
    "# Looking at gates"
   ]
  },
  {
   "cell_type": "markdown",
   "metadata": {},
   "source": [
    "## X Gates\n",
    "The X gates flips the state of the bit. In traditional computing this can be directly related to that of a NOT gate. We can add an X gate to our circuit like so:"
   ]
  },
  {
   "cell_type": "code",
   "execution_count": 7,
   "metadata": {},
   "outputs": [
    {
     "data": {
      "text/html": [
       "<pre style=\"word-wrap: normal;white-space: pre;line-height: 15px;\">         ┌───┐\n",
       "q1_0: |0>┤ X ├\n",
       "         └───┘\n",
       " c0_0: 0 ═════\n",
       "              </pre>"
      ],
      "text/plain": [
       "<qiskit.tools.visualization._text.TextDrawing at 0x122778a58>"
      ]
     },
     "execution_count": 7,
     "metadata": {},
     "output_type": "execute_result"
    }
   ],
   "source": [
    "measure_x = QuantumCircuit(qr,cr)\n",
    "\n",
    "measure_x.x(qr[0])\n",
    "measure_x.draw()"
   ]
  },
  {
   "cell_type": "markdown",
   "metadata": {},
   "source": [
    "Now if we try to measure the Qubit in position 0, we should recive a |1>"
   ]
  },
  {
   "cell_type": "markdown",
   "metadata": {},
   "source": [
    "To measure the Qubits, we need to use the BasicAer module"
   ]
  },
  {
   "cell_type": "code",
   "execution_count": 8,
   "metadata": {},
   "outputs": [],
   "source": [
    "# Import Aer framework\n",
    "from qiskit import BasicAer\n",
    "from qiskit.quantum_info import state_fidelity, basis_state"
   ]
  },
  {
   "cell_type": "code",
   "execution_count": 9,
   "metadata": {},
   "outputs": [],
   "source": [
    "# Run the quantum circuit on a statevector simulator backend\n",
    "backend = BasicAer.get_backend('qasm_simulator')"
   ]
  },
  {
   "cell_type": "markdown",
   "metadata": {},
   "source": [
    "Now we need to add a measure from our quantum register qr[0] to our register cr[0]"
   ]
  },
  {
   "cell_type": "code",
   "execution_count": 10,
   "metadata": {},
   "outputs": [
    {
     "data": {
      "text/plain": [
       "<qiskit.circuit.measure.Measure at 0x1227e29b0>"
      ]
     },
     "execution_count": 10,
     "metadata": {},
     "output_type": "execute_result"
    }
   ],
   "source": [
    "measure_x.measure(qr[0], cr[0])"
   ]
  },
  {
   "cell_type": "code",
   "execution_count": 11,
   "metadata": {},
   "outputs": [
    {
     "data": {
      "text/html": [
       "<pre style=\"word-wrap: normal;white-space: pre;line-height: 15px;\">         ┌───┐┌─┐\n",
       "q1_0: |0>┤ X ├┤M├\n",
       "         └───┘└╥┘\n",
       " c0_0: 0 ══════╩═\n",
       "                 </pre>"
      ],
      "text/plain": [
       "<qiskit.tools.visualization._text.TextDrawing at 0x122778f98>"
      ]
     },
     "execution_count": 11,
     "metadata": {},
     "output_type": "execute_result"
    }
   ],
   "source": [
    "measure_x.draw()"
   ]
  },
  {
   "cell_type": "markdown",
   "metadata": {},
   "source": [
    "Now, when we excecute a job, we can measure the result on our register. "
   ]
  },
  {
   "cell_type": "code",
   "execution_count": 12,
   "metadata": {},
   "outputs": [],
   "source": [
    "result = execute(measure_x, backend).result()"
   ]
  },
  {
   "cell_type": "code",
   "execution_count": 13,
   "metadata": {},
   "outputs": [
    {
     "data": {
      "text/plain": [
       "{'1': 1024}"
      ]
     },
     "execution_count": 13,
     "metadata": {},
     "output_type": "execute_result"
    }
   ],
   "source": [
    "result.get_counts(measure_x)"
   ]
  },
  {
   "cell_type": "markdown",
   "metadata": {},
   "source": [
    "As predicted, our quantum circuit now shows 1 as the result. The other number that we see is the certainty of the outcome."
   ]
  },
  {
   "cell_type": "markdown",
   "metadata": {},
   "source": [
    "### Visualizing the output"
   ]
  },
  {
   "cell_type": "markdown",
   "metadata": {},
   "source": [
    "Now, lets try drawing the output as a histogram."
   ]
  },
  {
   "cell_type": "code",
   "execution_count": 14,
   "metadata": {},
   "outputs": [],
   "source": [
    "from qiskit.tools.visualization import plot_histogram"
   ]
  },
  {
   "cell_type": "code",
   "execution_count": 15,
   "metadata": {},
   "outputs": [
    {
     "data": {
      "image/png": "[encoded data removed]",
      "text/plain": [
       "<Figure size 504x360 with 1 Axes>"
      ]
     },
     "execution_count": 15,
     "metadata": {},
     "output_type": "execute_result"
    }
   ],
   "source": [
    "plot_histogram(result.get_counts(measure_x))"
   ]
  },
  {
   "cell_type": "markdown",
   "metadata": {},
   "source": [
    "## The Hadamard gate\n",
    "The hadamard gate is one of the most common gates used in quantum computing, and one that you surely will get more aquainted with as you explore quantum computing. The hadamar gate transform the quantum state to superpositions, from 0 to |+> and 1 to |->. This is often used at the start of "
   ]
  },
  {
   "cell_type": "code",
   "execution_count": 16,
   "metadata": {},
   "outputs": [
    {
     "data": {
      "text/html": [
       "<pre style=\"word-wrap: normal;white-space: pre;line-height: 15px;\">         ┌───┐\n",
       "q1_0: |0>┤ H ├\n",
       "         └───┘\n",
       " c0_0: 0 ═════\n",
       "              </pre>"
      ],
      "text/plain": [
       "<qiskit.tools.visualization._text.TextDrawing at 0x1248a6ba8>"
      ]
     },
     "execution_count": 16,
     "metadata": {},
     "output_type": "execute_result"
    }
   ],
   "source": [
    "measure_h = QuantumCircuit(qr,cr)\n",
    "\n",
    "measure_h.h(qr[0])\n",
    "measure_h.draw()"
   ]
  },
  {
   "cell_type": "code",
   "execution_count": 17,
   "metadata": {},
   "outputs": [],
   "source": [
    "measure_h.measure(qr[0], cr[0])\n",
    "result = execute(measure_h, backend).result()"
   ]
  },
  {
   "cell_type": "code",
   "execution_count": 18,
   "metadata": {},
   "outputs": [],
   "source": [
    "counts = result.get_counts(measure_h)"
   ]
  },
  {
   "cell_type": "code",
   "execution_count": 19,
   "metadata": {},
   "outputs": [
    {
     "data": {
      "text/plain": [
       "{'0': 518, '1': 506}"
      ]
     },
     "execution_count": 19,
     "metadata": {},
     "output_type": "execute_result"
    }
   ],
   "source": [
    "counts"
   ]
  },
  {
   "cell_type": "code",
   "execution_count": 20,
   "metadata": {},
   "outputs": [
    {
     "data": {
      "image/png": "[encoded data removed]",
      "text/plain": [
       "<Figure size 504x360 with 1 Axes>"
      ]
     },
     "execution_count": 20,
     "metadata": {},
     "output_type": "execute_result"
    }
   ],
   "source": [
    "plot_histogram(counts)"
   ]
  },
  {
   "cell_type": "markdown",
   "metadata": {},
   "source": [
    "Since we measured the states in a superposition, we receive a complex number."
   ]
  },
  {
   "cell_type": "markdown",
   "metadata": {},
   "source": [
    "## The Z gate\n",
    "The purpose of the Z gate is to flip the phase of the Qubit thereby shifting the relative signs from α to β and vice versa. "
   ]
  },
  {
   "cell_type": "markdown",
   "metadata": {},
   "source": [
    "Let's try and add a Z gate to our second register"
   ]
  },
  {
   "cell_type": "code",
   "execution_count": 21,
   "metadata": {},
   "outputs": [
    {
     "data": {
      "text/html": [
       "<pre style=\"word-wrap: normal;white-space: pre;line-height: 15px;\">         ┌───┐\n",
       "q1_0: |0>┤ Z ├\n",
       "         └───┘\n",
       " c0_0: 0 ═════\n",
       "              </pre>"
      ],
      "text/plain": [
       "<qiskit.tools.visualization._text.TextDrawing at 0x124906198>"
      ]
     },
     "execution_count": 21,
     "metadata": {},
     "output_type": "execute_result"
    }
   ],
   "source": [
    "measure_z = QuantumCircuit(qr,cr)\n",
    "\n",
    "measure_z.z(qr[0])\n",
    "measure_z.draw()"
   ]
  },
  {
   "cell_type": "markdown",
   "metadata": {},
   "source": [
    "Now let's try to measure it."
   ]
  },
  {
   "cell_type": "code",
   "execution_count": 22,
   "metadata": {},
   "outputs": [
    {
     "data": {
      "text/plain": [
       "<qiskit.circuit.measure.Measure at 0x124906668>"
      ]
     },
     "execution_count": 22,
     "metadata": {},
     "output_type": "execute_result"
    }
   ],
   "source": [
    "measure_z.measure(qr[0], cr[0])"
   ]
  },
  {
   "cell_type": "code",
   "execution_count": 23,
   "metadata": {},
   "outputs": [],
   "source": [
    "result = execute(measure_z, backend).result()"
   ]
  },
  {
   "cell_type": "code",
   "execution_count": 24,
   "metadata": {},
   "outputs": [
    {
     "data": {
      "text/plain": [
       "{'0': 1024}"
      ]
     },
     "execution_count": 24,
     "metadata": {},
     "output_type": "execute_result"
    }
   ],
   "source": [
    "result.get_counts(measure_z)"
   ]
  },
  {
   "cell_type": "markdown",
   "metadata": {},
   "source": [
    "This does not say much, but if we combine the result with a hadamard gate to put the Qubit into a superposition, we get can observe the shift in action"
   ]
  },
  {
   "cell_type": "code",
   "execution_count": 25,
   "metadata": {},
   "outputs": [
    {
     "data": {
      "text/plain": [
       "<qiskit.extensions.standard.h.HGate at 0x1248c8780>"
      ]
     },
     "execution_count": 25,
     "metadata": {},
     "output_type": "execute_result"
    }
   ],
   "source": [
    "measure_zh = QuantumCircuit(qr,cr)\n",
    "\n",
    "measure_zh.h(qr[0])"
   ]
  },
  {
   "cell_type": "code",
   "execution_count": 26,
   "metadata": {},
   "outputs": [
    {
     "data": {
      "text/html": [
       "<pre style=\"word-wrap: normal;white-space: pre;line-height: 15px;\">         ┌───┐┌───┐┌───┐┌─┐\n",
       "q1_0: |0>┤ H ├┤ Z ├┤ H ├┤M├\n",
       "         └───┘└───┘└───┘└╥┘\n",
       " c0_0: 0 ════════════════╩═\n",
       "                           </pre>"
      ],
      "text/plain": [
       "<qiskit.tools.visualization._text.TextDrawing at 0x1248c8588>"
      ]
     },
     "execution_count": 26,
     "metadata": {},
     "output_type": "execute_result"
    }
   ],
   "source": [
    "measure_zh.z(qr[0])\n",
    "measure_zh.h(qr[0])\n",
    "measure_zh.measure(qr[0], cr[0])\n",
    "result = execute(measure_zh, backend).result()\n",
    "measure_zh.draw()"
   ]
  },
  {
   "cell_type": "code",
   "execution_count": 27,
   "metadata": {},
   "outputs": [
    {
     "data": {
      "text/plain": [
       "{'1': 1024}"
      ]
     },
     "execution_count": 27,
     "metadata": {},
     "output_type": "execute_result"
    }
   ],
   "source": [
    "result.get_counts(measure_zh)"
   ]
  },
  {
   "cell_type": "markdown",
   "metadata": {},
   "source": [
    "As we can see, the phase shift of the Qubit while in superposition has shifted the result of the measure from 0 to 1"
   ]
  },
  {
   "cell_type": "markdown",
   "metadata": {},
   "source": [
    "## The Y gate.\n",
    "The Y gate shifts both the phase and state of the Qubit. "
   ]
  },
  {
   "cell_type": "markdown",
   "metadata": {},
   "source": [
    "## The CX (Controlled-NOT) gate\n",
    "This gate is known as a two-Qubit gate, which means that it needs two Qubits to function.\n",
    "\n",
    "One Qubit is taken as a control Qubit (and is not affected by the gate) while the other is used as a \"target\" Qubit. If the control Qubit is in the state |0> then nothing is done to the target, but if the control Qubit is in state |1> a X gate operation is applied to the target Qubit."
   ]
  },
  {
   "cell_type": "code",
   "execution_count": 28,
   "metadata": {},
   "outputs": [
    {
     "data": {
      "text/html": [
       "<pre style=\"word-wrap: normal;white-space: pre;line-height: 15px;\">              \n",
       "q1_0: |0>──■──\n",
       "         ┌─┴─┐\n",
       "q1_1: |0>┤ X ├\n",
       "         └───┘\n",
       " c1_0: 0 ═════\n",
       "              \n",
       " c1_1: 0 ═════\n",
       "              </pre>"
      ],
      "text/plain": [
       "<qiskit.tools.visualization._text.TextDrawing at 0x12491ae10>"
      ]
     },
     "execution_count": 28,
     "metadata": {},
     "output_type": "execute_result"
    }
   ],
   "source": [
    "# Create a Quantum Register with 2 qubits.\n",
    "qr2 = QuantumRegister(2,'q1')\n",
    "# We also need to create a classical register to measure our values\n",
    "cr2 = ClassicalRegister(2)\n",
    "measure_CX = QuantumCircuit(qr2,cr2)\n",
    "\n",
    "measure_CX.cx(qr2[0],qr2[1])\n",
    "measure_CX.draw()"
   ]
  },
  {
   "cell_type": "code",
   "execution_count": 29,
   "metadata": {},
   "outputs": [
    {
     "data": {
      "text/plain": [
       "<qiskit.circuit.instructionset.InstructionSet at 0x124906c18>"
      ]
     },
     "execution_count": 29,
     "metadata": {},
     "output_type": "execute_result"
    }
   ],
   "source": [
    "measure_CX.measure(qr2, cr2)"
   ]
  },
  {
   "cell_type": "code",
   "execution_count": 30,
   "metadata": {},
   "outputs": [],
   "source": [
    "result = execute(measure_CX, backend).result()"
   ]
  },
  {
   "cell_type": "code",
   "execution_count": 31,
   "metadata": {},
   "outputs": [
    {
     "data": {
      "text/plain": [
       "{'00': 1024}"
      ]
     },
     "execution_count": 31,
     "metadata": {},
     "output_type": "execute_result"
    }
   ],
   "source": [
    "result.get_counts(measure_CX)"
   ]
  },
  {
   "cell_type": "markdown",
   "metadata": {},
   "source": [
    "### What happened?"
   ]
  },
  {
   "cell_type": "markdown",
   "metadata": {},
   "source": [
    "Well. not much. As we can see, since our control Qubit has not been flipped, there is not a noticable difference in the output. Let's try again, but this time adding a x gate to our control Qubit."
   ]
  },
  {
   "cell_type": "code",
   "execution_count": 32,
   "metadata": {},
   "outputs": [
    {
     "data": {
      "text/html": [
       "<pre style=\"word-wrap: normal;white-space: pre;line-height: 15px;\">         ┌───┐     \n",
       "q1_0: |0>┤ X ├──■──\n",
       "         └───┘┌─┴─┐\n",
       "q1_1: |0>─────┤ X ├\n",
       "              └───┘\n",
       " c1_0: 0 ══════════\n",
       "                   \n",
       " c1_1: 0 ══════════\n",
       "                   </pre>"
      ],
      "text/plain": [
       "<qiskit.tools.visualization._text.TextDrawing at 0x1248c8ba8>"
      ]
     },
     "execution_count": 32,
     "metadata": {},
     "output_type": "execute_result"
    }
   ],
   "source": [
    "measure_CX = QuantumCircuit(qr2,cr2)\n",
    "measure_CX.x(qr2[0])\n",
    "# A Controlled-NOT gate with Qubit 0 as the control, and Qubit 1 as the target.\n",
    "measure_CX.cx(qr2[0],qr2[1])\n",
    "# We draw the circuit\n",
    "measure_CX.draw()"
   ]
  },
  {
   "cell_type": "code",
   "execution_count": 33,
   "metadata": {},
   "outputs": [
    {
     "data": {
      "text/plain": [
       "{'11': 1024}"
      ]
     },
     "execution_count": 33,
     "metadata": {},
     "output_type": "execute_result"
    }
   ],
   "source": [
    "measure_CX.measure(qr2, cr2)\n",
    "result = execute(measure_CX, backend).result()\n",
    "result.get_counts(measure_CX)"
   ]
  },
  {
   "cell_type": "markdown",
   "metadata": {},
   "source": [
    "As we can see since the control Qubit (q[0]) is 1, the target Qubit becomes 1 as well. \n",
    "Now lets talk about entanglement."
   ]
  },
  {
   "cell_type": "markdown",
   "metadata": {},
   "source": [
    "### Using C-NOT gates while in superposition."
   ]
  },
  {
   "cell_type": "markdown",
   "metadata": {},
   "source": [
    "If we try to apply the C-NOT gate to our Qubits while the control Qubit is in a superposition, the two Qubits becomes entangled. This means that the stocastic outcomes between the two Qubits become correlated in all future operations."
   ]
  },
  {
   "cell_type": "code",
   "execution_count": 39,
   "metadata": {},
   "outputs": [
    {
     "data": {
      "text/html": [
       "<pre style=\"word-wrap: normal;white-space: pre;line-height: 15px;\">         ┌───┐┌───┐     \n",
       "q1_0: |0>┤ H ├┤ X ├──■──\n",
       "         └───┘└───┘┌─┴─┐\n",
       "q1_1: |0>──────────┤ X ├\n",
       "                   └───┘\n",
       " c1_0: 0 ═══════════════\n",
       "                        \n",
       " c1_1: 0 ═══════════════\n",
       "                        </pre>"
      ],
      "text/plain": [
       "<qiskit.tools.visualization._text.TextDrawing at 0x124935748>"
      ]
     },
     "execution_count": 39,
     "metadata": {},
     "output_type": "execute_result"
    }
   ],
   "source": [
    "measure_CX_SP = QuantumCircuit(qr2,cr2)\n",
    "# We add a hadamard gate to place our control Qubit in a superposition\n",
    "measure_CX_SP.h(qr2[0])\n",
    "# We add a X gate to flip the control bit\n",
    "measure_CX_SP.x(qr2[0])\n",
    "# A Controlled-NOT gate with Qubit 0 as the control, and Qubit 1 as the target.\n",
    "measure_CX_SP.cx(qr2[0],qr2[1])\n",
    "# We draw the circuit\n",
    "measure_CX_SP.draw()"
   ]
  },
  {
   "cell_type": "markdown",
   "metadata": {},
   "source": []
  },
  {
   "cell_type": "code",
   "execution_count": 40,
   "metadata": {},
   "outputs": [
    {
     "data": {
      "text/html": [
       "<pre style=\"word-wrap: normal;white-space: pre;line-height: 15px;\">         ┌───┐┌───┐     ┌───┐\n",
       "q1_0: |0>┤ H ├┤ X ├──■──┤ H ├\n",
       "         └───┘└───┘┌─┴─┐└───┘\n",
       "q1_1: |0>──────────┤ X ├─────\n",
       "                   └───┘     \n",
       " c1_0: 0 ════════════════════\n",
       "                             \n",
       " c1_1: 0 ════════════════════\n",
       "                             </pre>"
      ],
      "text/plain": [
       "<qiskit.tools.visualization._text.TextDrawing at 0x12492af98>"
      ]
     },
     "execution_count": 40,
     "metadata": {},
     "output_type": "execute_result"
    }
   ],
   "source": [
    "measure_CX_SP.h(qr2[0])\n",
    "measure_CX_SP.draw()"
   ]
  },
  {
   "cell_type": "code",
   "execution_count": 41,
   "metadata": {},
   "outputs": [
    {
     "data": {
      "text/plain": [
       "{'10': 238, '00': 264, '11': 273, '01': 249}"
      ]
     },
     "execution_count": 41,
     "metadata": {},
     "output_type": "execute_result"
    }
   ],
   "source": [
    "measure_CX_SP.measure(qr2, cr2)\n",
    "result = execute(measure_CX_SP, backend).result()\n",
    "result.get_counts(measure_CX_SP)"
   ]
  },
  {
   "cell_type": "markdown",
   "metadata": {},
   "source": [
    "### What happened? "
   ]
  },
  {
   "cell_type": "markdown",
   "metadata": {},
   "source": [
    "The entaglement of the bits are closely related, and therefore the measurement of one bit will give the result of the other. Therefor the properbility of one outcome is defined as 1/n where n = entagled Qubits."
   ]
  },
  {
   "cell_type": "markdown",
   "metadata": {},
   "source": [
    "# Running your code on a real Quantum Computer"
   ]
  },
  {
   "cell_type": "markdown",
   "metadata": {},
   "source": [
    "As you may have noticed, all our tests up until now have only been running on a simulation. This is known as the 'qasm_simulator', which is defined in our backend."
   ]
  },
  {
   "cell_type": "code",
   "execution_count": 42,
   "metadata": {},
   "outputs": [
    {
     "data": {
      "text/plain": [
       "<QasmSimulatorPy('qasm_simulator') from BasicAer()>"
      ]
     },
     "execution_count": 42,
     "metadata": {},
     "output_type": "execute_result"
    }
   ],
   "source": [
    "BasicAer.get_backend('qasm_simulator')"
   ]
  },
  {
   "cell_type": "markdown",
   "metadata": {},
   "source": [
    "The simulator is fine for running most basic quantum circuits, since the outcomes of these calculations are already known. But if you want to develop new algorithms or try out the later example we will need to run them on a real machine. \n",
    "\n",
    "To run our calculations on a existing quantum computer, we must first import IBMQ "
   ]
  },
  {
   "cell_type": "code",
   "execution_count": 43,
   "metadata": {},
   "outputs": [],
   "source": [
    "from qiskit import IBMQ"
   ]
  },
  {
   "cell_type": "markdown",
   "metadata": {},
   "source": [
    "In the root of your directory, a file can be found named \"credentials.py\", this is where you write the your API key credentials which can be found at https://quantumexperience.ng.bluemix.net/qx/account/advanced."
   ]
  },
  {
   "cell_type": "code",
   "execution_count": 52,
   "metadata": {},
   "outputs": [
    {
     "data": {
      "text/plain": [
       "'30a72676694a5a841734c158109bd5e8cc9d5c4a09af52d041ba14a1bd9ae1054adcb2b88ed854ef6e02c5d9cf98a53b96ffcd92b8defa297be6194cd5c5bd89'"
      ]
     },
     "execution_count": 52,
     "metadata": {},
     "output_type": "execute_result"
    }
   ],
   "source": [
    "%run credentials.py\n",
    "API_Token"
   ]
  },
  {
   "cell_type": "markdown",
   "metadata": {},
   "source": [
    "If you are running this in a container, or it for some reason does not work, please remove the comments from the following and paste in your api key."
   ]
  },
  {
   "cell_type": "code",
   "execution_count": 53,
   "metadata": {},
   "outputs": [],
   "source": [
    "# API_Token = \"<Your_Key_Here>\""
   ]
  },
  {
   "cell_type": "code",
   "execution_count": 57,
   "metadata": {},
   "outputs": [],
   "source": [
    "# We now save the account so we can use it with IBMQ\n",
    "IBMQ.save_account(API_Token)\n",
    "# And now we register which account we are using.\n",
    "IBMQ.load_accounts()"
   ]
  },
  {
   "cell_type": "markdown",
   "metadata": {},
   "source": [
    "### Choosing a backend\n",
    "As mentioned before, the qasm simulator is only one of a handfull of available backends to use for running our quantum programs. Too see all available backends, we can run the following code."
   ]
  },
  {
   "cell_type": "code",
   "execution_count": 63,
   "metadata": {},
   "outputs": [
    {
     "data": {
      "text/plain": [
       "[<IBMQBackend('ibmqx4') from IBMQ()>,\n",
       " <IBMQBackend('ibmqx2') from IBMQ()>,\n",
       " <IBMQBackend('ibmq_16_melbourne') from IBMQ()>,\n",
       " <IBMQBackend('ibmq_qasm_simulator') from IBMQ()>]"
      ]
     },
     "execution_count": 63,
     "metadata": {},
     "output_type": "execute_result"
    }
   ],
   "source": [
    "# Get list of available backends\n",
    "IBMQ.backends()"
   ]
  },
  {
   "cell_type": "code",
   "execution_count": 88,
   "metadata": {},
   "outputs": [
    {
     "data": {
      "text/plain": [
       "<IBMQBackend('ibmqx4') from IBMQ()>"
      ]
     },
     "execution_count": 88,
     "metadata": {},
     "output_type": "execute_result"
    }
   ],
   "source": [
    "# We choose the backend that we want to use.\n",
    "#device = IBMQ.get_backend('ibmqx4')\n",
    "# But for the sake of speed we will use the least busy one\n",
    "from qiskit.providers.ibmq import least_busy\n",
    "device = least_busy(IBMQ.backends(simulator=False))\n",
    "device"
   ]
  },
  {
   "cell_type": "code",
   "execution_count": 89,
   "metadata": {},
   "outputs": [],
   "source": [
    "# We can now Generate a quantum circuit like before.\n",
    "q = QuantumRegister(1)\n",
    "c = ClassicalRegister(1)\n",
    "qc = QuantumCircuit(q, c)"
   ]
  },
  {
   "cell_type": "code",
   "execution_count": 90,
   "metadata": {},
   "outputs": [
    {
     "data": {
      "text/plain": [
       "<qiskit.extensions.standard.x.XGate at 0x124ae43c8>"
      ]
     },
     "execution_count": 90,
     "metadata": {},
     "output_type": "execute_result"
    }
   ],
   "source": [
    "# We add an x gate at q0\n",
    "qc.x(q[0])"
   ]
  },
  {
   "cell_type": "code",
   "execution_count": 91,
   "metadata": {},
   "outputs": [],
   "source": [
    "# And add a measure to our Qubit.\n",
    "measure = qc.measure(q, c)"
   ]
  },
  {
   "cell_type": "code",
   "execution_count": 92,
   "metadata": {},
   "outputs": [
    {
     "data": {
      "text/html": [
       "<pre style=\"word-wrap: normal;white-space: pre;line-height: 15px;\">         ┌───┐┌─┐\n",
       "q3_0: |0>┤ X ├┤M├\n",
       "         └───┘└╥┘\n",
       " c5_0: 0 ══════╩═\n",
       "                 </pre>"
      ],
      "text/plain": [
       "<qiskit.tools.visualization._text.TextDrawing at 0x124b1d0f0>"
      ]
     },
     "execution_count": 92,
     "metadata": {},
     "output_type": "execute_result"
    }
   ],
   "source": [
    "qc.draw()"
   ]
  },
  {
   "cell_type": "code",
   "execution_count": 93,
   "metadata": {},
   "outputs": [
    {
     "data": {
      "application/vnd.jupyter.widget-view+json": {
       "model_id": "0c51b131031447dbb25c180592f190b3",
       "version_major": 2,
       "version_minor": 0
      },
      "text/plain": [
       "HTML(value=\"<p style='font-size:16px;'>Job Status: job is being initialized </p>\")"
      ]
     },
     "metadata": {},
     "output_type": "display_data"
    }
   ],
   "source": [
    "from qiskit.tools.monitor import job_monitor\n",
    "\n",
    "# We excecute the job on the choosen device\n",
    "job_sim = execute(qc, device)\n",
    "# The job monitor makes it possible for us to monitor our job in real time\n",
    "job_monitor(job_sim, monitor_async=True)"
   ]
  },
  {
   "cell_type": "markdown",
   "metadata": {},
   "source": [
    "After a couple of seconds you should see an output with the status of your job in the cell above. this can take some time depending on how busy the machines are. So grab a cup of coffee, or continue on while we wait."
   ]
  },
  {
   "cell_type": "code",
   "execution_count": 94,
   "metadata": {},
   "outputs": [],
   "source": [
    "# When the job is done, the results can be showed below.\n",
    "sim_result = job_sim.result()\n",
    "counts = sim_result.get_counts(qc)"
   ]
  },
  {
   "cell_type": "code",
   "execution_count": 95,
   "metadata": {},
   "outputs": [
    {
     "data": {
      "image/png": "[encoded data removed]",
      "text/plain": [
       "<Figure size 504x360 with 1 Axes>"
      ]
     },
     "execution_count": 95,
     "metadata": {},
     "output_type": "execute_result"
    }
   ],
   "source": [
    "plot_histogram(counts)"
   ]
  },
  {
   "cell_type": "markdown",
   "metadata": {},
   "source": [
    "# Quantum algorithms"
   ]
  },
  {
   "cell_type": "markdown",
   "metadata": {},
   "source": [
    "## Random number generation"
   ]
  },
  {
   "cell_type": "code",
   "execution_count": null,
   "metadata": {},
   "outputs": [],
   "source": []
  }
 ],
 "metadata": {
  "kernelspec": {
   "display_name": "Python 3",
   "language": "python",
   "name": "python3"
  },
  "language_info": {
   "codemirror_mode": {
    "name": "ipython",
    "version": 3
   },
   "file_extension": ".py",
   "mimetype": "text/x-python",
   "name": "python",
   "nbconvert_exporter": "python",
   "pygments_lexer": "ipython3",
   "version": "3.7.1"
  }
 },
 "nbformat": 4,
 "nbformat_minor": 2
}
