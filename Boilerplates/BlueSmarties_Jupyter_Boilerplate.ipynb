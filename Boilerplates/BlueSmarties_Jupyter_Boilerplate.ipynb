{
 "cells": [
  {
   "cell_type": "code",
   "execution_count": 6,
   "metadata": {
    "hideCode": false
   },
   "outputs": [
    {
     "data": {
      "text/html": [
       "<script>\n",
       "code_show=true; \n",
       "function code_toggle() {\n",
       "  if (code_show) {\n",
       "    $('div.input').each(function(id) {\n",
       "      el = $(this).find('.cm-variable:first');\n",
       "      if (id == 0 || el.text() == 'hide_this_cell') {\n",
       "        $(this).hide();\n",
       "      }\n",
       "    });\n",
       "    $('div.output_prompt').css('opacity', 0);\n",
       "  } else {\n",
       "    $('div.input').each(function(id) {\n",
       "      $(this).show();\n",
       "    });\n",
       "    $('div.output_prompt').css('opacity', 1);\n",
       "  }\n",
       "  code_show = !code_show\n",
       "} \n",
       "$( document ).ready(code_toggle);\n",
       "</script>\n",
       "<form action=\"javascript:code_toggle()\">\n",
       "<input style=\"opacity:0.2\" type=\"submit\" value=\"Show/hide the code running under the hood.\">\n",
       "</form>"
      ],
      "text/plain": [
       "<IPython.core.display.HTML object>"
      ]
     },
     "execution_count": 6,
     "metadata": {},
     "output_type": "execute_result"
    }
   ],
   "source": [
    "# This is a cell to hide all Code cells that has the string \"hide_this_cell\" from displaying\n",
    "# This code must be at first and last cell to work properly\n",
    "\n",
    "from IPython.display import HTML, display\n",
    "\n",
    "hide_this_cell = ''\n",
    "HTML('''<script>\n",
    "code_show=true; \n",
    "function code_toggle() {\n",
    "  if (code_show) {\n",
    "    $('div.input').each(function(id) {\n",
    "      el = $(this).find('.cm-variable:first');\n",
    "      if (id == 0 || el.text() == 'hide_this_cell') {\n",
    "        $(this).hide();\n",
    "      }\n",
    "    });\n",
    "    $('div.output_prompt').css('opacity', 0);\n",
    "  } else {\n",
    "    $('div.input').each(function(id) {\n",
    "      $(this).show();\n",
    "    });\n",
    "    $('div.output_prompt').css('opacity', 1);\n",
    "  }\n",
    "  code_show = !code_show\n",
    "} \n",
    "$( document ).ready(code_toggle);\n",
    "</script>\n",
    "<form action=\"javascript:code_toggle()\">\n",
    "<input style=\"opacity:0.2\" type=\"submit\" value=\"Show/hide the code running under the hood\">\n",
    "</form>''')"
   ]
  },
  {
   "cell_type": "code",
   "execution_count": 27,
   "metadata": {},
   "outputs": [],
   "source": [
    "# This cell is used for importing essential libraries that is not used to understand Qiskit and is therefore hidden\n",
    "hide_this_cell\n",
    "\n",
    "from IPython.display import clear_output, Markdown\n",
    "from ipywidgets import widgets"
   ]
  },
  {
   "cell_type": "markdown",
   "metadata": {},
   "source": [
    "# Knapper "
   ]
  },
  {
   "cell_type": "markdown",
   "metadata": {
    "hideCode": false,
    "hideOutput": false,
    "hidePrompt": false
   },
   "source": [
    "## Første knap\n",
    "Den nedenstående celle med kode har 2 knapper i alt.<br>\n",
    "De fungere i en cyklus, hvor man kan \"vise\" og \"skjule\" det, man gemmer bag knappen."
   ]
  },
  {
   "cell_type": "code",
   "execution_count": 33,
   "metadata": {
    "hideCode": false,
    "hidePrompt": false,
    "hide_input": true
   },
   "outputs": [
    {
     "data": {
      "application/vnd.jupyter.widget-view+json": {
       "model_id": "5263c6b87ec542dfa984417de5bf57ea",
       "version_major": 2,
       "version_minor": 0
      },
      "text/plain": [
       "Button(description='Show answer', style=ButtonStyle(), tooltip='Click me to show the answer')"
      ]
     },
     "metadata": {},
     "output_type": "display_data"
    }
   ],
   "source": [
    "hide_this_cell\n",
    "\n",
    "buttonShow = widgets.Button(description='Show answer', tooltip='Click me to show the answer')\n",
    "buttonHide = widgets.Button(description='Hide answer', tooltip='Click me to hide the answer')\n",
    "\n",
    "def handleClickShow(b):\n",
    "    clear_output()\n",
    "    display(buttonHide)\n",
    "    display(Markdown('*Her er markdown* - Markdown med LaTeX $\\phi$'))\n",
    "    display(Markdown('<center> Her har vi LaTeX centreret $\\phi$ med tekst</center>'))\n",
    "    \n",
    "def handleClickHide(b):\n",
    "    clear_output()\n",
    "    display(buttonShow)\n",
    "    \n",
    "buttonShow.on_click(handleClickShow)\n",
    "buttonHide.on_click(handleClickHide)\n",
    "\n",
    "display(buttonShow)"
   ]
  },
  {
   "cell_type": "markdown",
   "metadata": {},
   "source": [
    "---\n",
    "## Anden knap\n",
    "Den nedenstående celle med kode har én knap <br>\n",
    "Ønsker man, at knappen skal forsvinde i forlængelse med, at man viser det skulte content, vil denne knap gøre tricket."
   ]
  },
  {
   "cell_type": "code",
   "execution_count": 34,
   "metadata": {
    "tags": [
     "tagz"
    ]
   },
   "outputs": [
    {
     "data": {
      "application/vnd.jupyter.widget-view+json": {
       "model_id": "2c5b33160e4a4d86a4251fe3e274ce64",
       "version_major": 2,
       "version_minor": 0
      },
      "text/plain": [
       "Button(description='Reveal the answer', style=ButtonStyle(), tooltip='The button will disappear when pressed a…"
      ]
     },
     "metadata": {},
     "output_type": "display_data"
    }
   ],
   "source": [
    "hide_this_cell\n",
    "\n",
    "tooltiptext = \"The button will disappear when pressed and consequently reveals the answer\"\n",
    "buttonDisappear = widgets.Button(description='Reveal the answer', tooltip=tooltiptext, disabled=False)\n",
    "\n",
    "def handleClickDisappear(b):\n",
    "    clear_output()\n",
    "    display(Markdown('*Her er markdown* - Markdown med LaTeX $\\phi$'))\n",
    "    display(Markdown('<center> Her har vi LaTeX centreret $\\phi$ med tekst</center>'))\n",
    "    print(\"Money In The Bank\")\n",
    "\n",
    "    \n",
    "buttonDisappear.on_click(handleClickDisappear)\n",
    "\n",
    "display(buttonDisappear)"
   ]
  },
  {
   "cell_type": "markdown",
   "metadata": {},
   "source": [
    "---\n",
    "## Mulighed for flere input senere"
   ]
  },
  {
   "cell_type": "code",
   "execution_count": null,
   "metadata": {},
   "outputs": [],
   "source": []
  },
  {
   "cell_type": "code",
   "execution_count": null,
   "metadata": {},
   "outputs": [],
   "source": []
  },
  {
   "cell_type": "code",
   "execution_count": null,
   "metadata": {},
   "outputs": [],
   "source": []
  },
  {
   "cell_type": "code",
   "execution_count": null,
   "metadata": {},
   "outputs": [],
   "source": []
  },
  {
   "cell_type": "code",
   "execution_count": null,
   "metadata": {},
   "outputs": [],
   "source": []
  },
  {
   "cell_type": "code",
   "execution_count": null,
   "metadata": {},
   "outputs": [],
   "source": []
  },
  {
   "cell_type": "code",
   "execution_count": null,
   "metadata": {},
   "outputs": [],
   "source": []
  },
  {
   "cell_type": "code",
   "execution_count": null,
   "metadata": {},
   "outputs": [],
   "source": []
  },
  {
   "cell_type": "code",
   "execution_count": null,
   "metadata": {},
   "outputs": [],
   "source": []
  },
  {
   "cell_type": "code",
   "execution_count": null,
   "metadata": {},
   "outputs": [],
   "source": []
  },
  {
   "cell_type": "code",
   "execution_count": null,
   "metadata": {},
   "outputs": [],
   "source": []
  },
  {
   "cell_type": "code",
   "execution_count": null,
   "metadata": {},
   "outputs": [],
   "source": []
  },
  {
   "cell_type": "code",
   "execution_count": null,
   "metadata": {},
   "outputs": [],
   "source": []
  },
  {
   "cell_type": "code",
   "execution_count": null,
   "metadata": {},
   "outputs": [],
   "source": []
  },
  {
   "cell_type": "code",
   "execution_count": null,
   "metadata": {},
   "outputs": [],
   "source": []
  },
  {
   "cell_type": "code",
   "execution_count": null,
   "metadata": {},
   "outputs": [],
   "source": []
  },
  {
   "cell_type": "code",
   "execution_count": null,
   "metadata": {},
   "outputs": [],
   "source": []
  },
  {
   "cell_type": "code",
   "execution_count": 8,
   "metadata": {
    "scrolled": true
   },
   "outputs": [],
   "source": [
    "# This is the same cell as seen at the beginning to hide code snippets from displaying\n",
    "# This must be the last cell in the jupyter notebook!\n",
    "\n",
    "hide_this_cell = ''\n",
    "HTML('''<script>\n",
    "code_show=true; \n",
    "function code_toggle() {\n",
    "  if (code_show) {\n",
    "    $('div.input').each(function(id) {\n",
    "      el = $(this).find('.cm-variable:first');\n",
    "      if (id == 0 || el.text() == 'hide_this_cell') {\n",
    "        $(this).hide();\n",
    "      }\n",
    "    });\n",
    "    $('div.output_prompt').css('opacity', 0);\n",
    "  } else {\n",
    "    $('div.input').each(function(id) {\n",
    "      $(this).show();\n",
    "    });\n",
    "    $('div.output_prompt').css('opacity', 1);\n",
    "  }\n",
    "  code_show = !code_show\n",
    "} \n",
    "$( document ).ready(code_toggle);\n",
    "</script>''');"
   ]
  },
  {
   "cell_type": "code",
   "execution_count": null,
   "metadata": {},
   "outputs": [],
   "source": []
  }
 ],
 "metadata": {
  "kernelspec": {
   "display_name": "Python 3",
   "language": "python",
   "name": "python3"
  },
  "language_info": {
   "codemirror_mode": {
    "name": "ipython",
    "version": 3
   },
   "file_extension": ".py",
   "mimetype": "text/x-python",
   "name": "python",
   "nbconvert_exporter": "python",
   "pygments_lexer": "ipython3",
   "version": "3.7.1"
  },
  "widgets": {
   "application/vnd.jupyter.widget-state+json": {
    "state": {
     "03b8e60620c94ab1b343541eda5704d0": {
      "model_module": "@jupyter-widgets/base",
      "model_module_version": "1.1.0",
      "model_name": "LayoutModel",
      "state": {}
     },
     "0422d88afb0f4701b45d0d16397323c3": {
      "model_module": "@jupyter-widgets/controls",
      "model_module_version": "1.4.0",
      "model_name": "ToggleButtonModel",
      "state": {
       "description": "Click me",
       "icon": "check",
       "layout": "IPY_MODEL_597cfa394e264c38a185aeabd683085b",
       "style": "IPY_MODEL_bc60a107923d4b948c6eae0158471326",
       "tooltip": "Description"
      }
     },
     "04a2bb9fe2364160ba85cf97ad966ee7": {
      "model_module": "@jupyter-widgets/controls",
      "model_module_version": "1.4.0",
      "model_name": "ButtonStyleModel",
      "state": {}
     },
     "0679e8ef9f784036822ade91983954dc": {
      "model_module": "@jupyter-widgets/base",
      "model_module_version": "1.1.0",
      "model_name": "LayoutModel",
      "state": {}
     },
     "0a89881cc0c34e1e9b28417f771dbebd": {
      "model_module": "@jupyter-widgets/base",
      "model_module_version": "1.1.0",
      "model_name": "LayoutModel",
      "state": {}
     },
     "0b53d68d255d4a498631764ce1198e22": {
      "model_module": "@jupyter-widgets/controls",
      "model_module_version": "1.4.0",
      "model_name": "ButtonStyleModel",
      "state": {}
     },
     "0ba4af46773c4ea698c8389a0939bab2": {
      "model_module": "@jupyter-widgets/controls",
      "model_module_version": "1.4.0",
      "model_name": "ButtonModel",
      "state": {
       "description": "Hide answer",
       "layout": "IPY_MODEL_b3ee8dbd10b246c89b3fb0c5cddfd563",
       "style": "IPY_MODEL_eaac739603ef4a16b648e0aa74ffd463",
       "tooltip": "Click me to hide the answer"
      }
     },
     "0bc950e37c624bad9db7dd25999bd31c": {
      "model_module": "@jupyter-widgets/controls",
      "model_module_version": "1.4.0",
      "model_name": "ButtonStyleModel",
      "state": {}
     },
     "0bcaed31e57a4700a93161d783d4f7eb": {
      "model_module": "@jupyter-widgets/base",
      "model_module_version": "1.1.0",
      "model_name": "LayoutModel",
      "state": {}
     },
     "0bdac55acc39497bab79cab2a951ce62": {
      "model_module": "@jupyter-widgets/controls",
      "model_module_version": "1.4.0",
      "model_name": "ButtonModel",
      "state": {
       "description": "Reveal the answer",
       "layout": "IPY_MODEL_64011488b0f443eaaf684d2686f3355d",
       "style": "IPY_MODEL_4008b76919544176a37a4b56e88f8aa6",
       "tooltip": "The button will disappear when pressed and revealing the answer is"
      }
     },
     "0c05bf0ab7c8426c887f48957a542081": {
      "model_module": "@jupyter-widgets/controls",
      "model_module_version": "1.4.0",
      "model_name": "ButtonModel",
      "state": {
       "description": "Click me",
       "icon": "check",
       "layout": "IPY_MODEL_97b7599ff9544d88a5b2fdc1147b4e51",
       "style": "IPY_MODEL_0b53d68d255d4a498631764ce1198e22",
       "tooltip": "Click me"
      }
     },
     "0c79157017a942958f27c714ee54b57e": {
      "model_module": "@jupyter-widgets/controls",
      "model_module_version": "1.4.0",
      "model_name": "ButtonModel",
      "state": {
       "description": "Click me",
       "disabled": true,
       "icon": "check",
       "layout": "IPY_MODEL_d379f09e429d431b843adbe482306177",
       "style": "IPY_MODEL_6a5c2dba7d0e440a9f68f4a45d5c5aff",
       "tooltip": "Click meeeeee"
      }
     },
     "0d32c14595e647da953d59407d84a5dc": {
      "model_module": "@jupyter-widgets/controls",
      "model_module_version": "1.4.0",
      "model_name": "ButtonStyleModel",
      "state": {}
     },
     "0e29013c7f3b450297bf87bdfbc7db0c": {
      "model_module": "@jupyter-widgets/controls",
      "model_module_version": "1.4.0",
      "model_name": "ButtonStyleModel",
      "state": {}
     },
     "0e844bae5df641d89d36bf0f8c4b4eec": {
      "model_module": "@jupyter-widgets/base",
      "model_module_version": "1.1.0",
      "model_name": "LayoutModel",
      "state": {}
     },
     "0ea2cc12aa5d4720be62613903475512": {
      "model_module": "@jupyter-widgets/base",
      "model_module_version": "1.1.0",
      "model_name": "LayoutModel",
      "state": {}
     },
     "0f0c35f0cd1843789af9d9fc8a0e0295": {
      "model_module": "@jupyter-widgets/controls",
      "model_module_version": "1.4.0",
      "model_name": "ButtonStyleModel",
      "state": {}
     },
     "0f4f014be2f8458397fed32cbd4e2b1e": {
      "model_module": "@jupyter-widgets/controls",
      "model_module_version": "1.4.0",
      "model_name": "ButtonModel",
      "state": {
       "description": "Click me",
       "icon": "check",
       "layout": "IPY_MODEL_b28256c766674cda8515cdcd862cb53a",
       "style": "IPY_MODEL_16829bc419f24bf5b6d9e830b114c442",
       "tooltip": "Click meeeeee"
      }
     },
     "100b9967522845299963c818f2c20cc1": {
      "model_module": "@jupyter-widgets/base",
      "model_module_version": "1.1.0",
      "model_name": "LayoutModel",
      "state": {}
     },
     "1021fdee5e884bfca5ebf984491edaa8": {
      "model_module": "@jupyter-widgets/base",
      "model_module_version": "1.1.0",
      "model_name": "LayoutModel",
      "state": {}
     },
     "1171c4ecddd6464ebb1aa3acd222a443": {
      "model_module": "@jupyter-widgets/controls",
      "model_module_version": "1.4.0",
      "model_name": "ButtonStyleModel",
      "state": {}
     },
     "12b963f139b04e7b84b068a374616cab": {
      "model_module": "@jupyter-widgets/controls",
      "model_module_version": "1.4.0",
      "model_name": "ButtonModel",
      "state": {
       "description": "Click me",
       "disabled": true,
       "icon": "check",
       "layout": "IPY_MODEL_7b5406a74d994b27b4bb77a1d45c41b3",
       "style": "IPY_MODEL_5845543502a045d68a0229fd4970ad71",
       "tooltip": "Click meeeeee"
      }
     },
     "1395dafb3c6c41669a92421b47f2cbe2": {
      "model_module": "@jupyter-widgets/base",
      "model_module_version": "1.1.0",
      "model_name": "LayoutModel",
      "state": {}
     },
     "13df4ca7721f456ba6e71dee4dbd8697": {
      "model_module": "@jupyter-widgets/controls",
      "model_module_version": "1.4.0",
      "model_name": "ButtonModel",
      "state": {
       "description": "Click me",
       "icon": "check",
       "layout": "IPY_MODEL_a58b7b00ef294cee9dbc0916bac92809",
       "style": "IPY_MODEL_39aa1fec98b2410f8e4193424e0799c3",
       "tooltip": "Click meeeeee"
      }
     },
     "13f3094eee3242a095cec0c426acb68a": {
      "model_module": "@jupyter-widgets/controls",
      "model_module_version": "1.4.0",
      "model_name": "ButtonModel",
      "state": {
       "description": "Show answer",
       "layout": "IPY_MODEL_74c9f32e4a7e49729c64bb9742fde355",
       "style": "IPY_MODEL_d183a0913804408782c2900f13407bf6",
       "tooltip": "Click me to show the answer"
      }
     },
     "150bb3419c5a469ca58ef7c7f60c8b03": {
      "model_module": "@jupyter-widgets/base",
      "model_module_version": "1.1.0",
      "model_name": "LayoutModel",
      "state": {}
     },
     "16829bc419f24bf5b6d9e830b114c442": {
      "model_module": "@jupyter-widgets/controls",
      "model_module_version": "1.4.0",
      "model_name": "ButtonStyleModel",
      "state": {}
     },
     "16ee3a58a37f49feaf638485ca806c74": {
      "model_module": "@jupyter-widgets/controls",
      "model_module_version": "1.4.0",
      "model_name": "ButtonModel",
      "state": {
       "description": "Show answer",
       "layout": "IPY_MODEL_03b8e60620c94ab1b343541eda5704d0",
       "style": "IPY_MODEL_ac6dfb7e3c1647dca1afc490c4d9e498",
       "tooltip": "Click meeeeee"
      }
     },
     "17d1b51592b7418fbc1fc794c2b78e61": {
      "model_module": "@jupyter-widgets/base",
      "model_module_version": "1.1.0",
      "model_name": "LayoutModel",
      "state": {}
     },
     "187541b2e4b1491dbdf5a90055883ba7": {
      "model_module": "@jupyter-widgets/controls",
      "model_module_version": "1.4.0",
      "model_name": "ButtonModel",
      "state": {
       "description": "Click me",
       "icon": "check",
       "layout": "IPY_MODEL_84e3d240e121430cae365cf97f3c2975",
       "style": "IPY_MODEL_73de182d10254a2fbb20a179612e873f",
       "tooltip": "Click meeeeee"
      }
     },
     "1a25b760e2f54c9d9660199c3182bea1": {
      "model_module": "@jupyter-widgets/controls",
      "model_module_version": "1.4.0",
      "model_name": "ButtonStyleModel",
      "state": {}
     },
     "1b2923d3f41c4fd6b787cca7fa9298db": {
      "model_module": "@jupyter-widgets/controls",
      "model_module_version": "1.4.0",
      "model_name": "ButtonStyleModel",
      "state": {}
     },
     "1b3e55d8b23c4f5296279bdfeda7ec60": {
      "model_module": "@jupyter-widgets/base",
      "model_module_version": "1.1.0",
      "model_name": "LayoutModel",
      "state": {}
     },
     "1b498923de93487b88fa8ed5f5ec8ff8": {
      "model_module": "@jupyter-widgets/base",
      "model_module_version": "1.1.0",
      "model_name": "LayoutModel",
      "state": {}
     },
     "1b5378f8176542728a79197919b035cc": {
      "model_module": "@jupyter-widgets/controls",
      "model_module_version": "1.4.0",
      "model_name": "ButtonStyleModel",
      "state": {}
     },
     "1d0a5b4d71ea4b5b85f4a7d79be0b275": {
      "model_module": "@jupyter-widgets/controls",
      "model_module_version": "1.4.0",
      "model_name": "ButtonModel",
      "state": {
       "description": "Click me",
       "disabled": true,
       "icon": "check",
       "layout": "IPY_MODEL_dbe0b42dbfb04362a848a4b56eca4855",
       "style": "IPY_MODEL_4a3f1930433e4641886f7a841ca7f085",
       "tooltip": "Click me"
      }
     },
     "1d7ca15d04f74a15b2f69e20399629b8": {
      "model_module": "@jupyter-widgets/controls",
      "model_module_version": "1.4.0",
      "model_name": "ButtonStyleModel",
      "state": {}
     },
     "1d9a32f8f50c49fa8109be1a720274ef": {
      "model_module": "@jupyter-widgets/controls",
      "model_module_version": "1.4.0",
      "model_name": "ButtonStyleModel",
      "state": {}
     },
     "1e28caa61f4b4a6380ef02937940b159": {
      "model_module": "@jupyter-widgets/controls",
      "model_module_version": "1.4.0",
      "model_name": "ButtonStyleModel",
      "state": {}
     },
     "1f85b5ffc149402b8b4dc6c800719c47": {
      "model_module": "@jupyter-widgets/controls",
      "model_module_version": "1.4.0",
      "model_name": "ButtonModel",
      "state": {
       "description": "Show answer",
       "layout": "IPY_MODEL_93c6fb80cc224e39a4555a86a7fb4aa8",
       "style": "IPY_MODEL_92314e4b7b604f58aa1c503f52cc6473",
       "tooltip": "Click meeeeee"
      }
     },
     "1fbdc7e61fd2494c8357f8c82d86963c": {
      "model_module": "@jupyter-widgets/controls",
      "model_module_version": "1.4.0",
      "model_name": "ButtonModel",
      "state": {
       "description": "Click me",
       "icon": "check",
       "layout": "IPY_MODEL_5dca1c3c42a742349e03aac421754ed2",
       "style": "IPY_MODEL_752382fd900546e8ae245e450d7c3f10",
       "tooltip": "Click meeeeee"
      }
     },
     "20ada586b8bc480bbf6f6808471b5101": {
      "model_module": "@jupyter-widgets/controls",
      "model_module_version": "1.4.0",
      "model_name": "ButtonModel",
      "state": {
       "description": "Click me",
       "disabled": true,
       "icon": "check",
       "layout": "IPY_MODEL_2e2ccaebee9d448b9e4acffbcd706322",
       "style": "IPY_MODEL_4601a3c34dc14eed958dd2eadf7bd31a",
       "tooltip": "Click meeeeee"
      }
     },
     "20f79341dd434e38b6ac2b4b30254e12": {
      "model_module": "@jupyter-widgets/controls",
      "model_module_version": "1.4.0",
      "model_name": "ButtonStyleModel",
      "state": {}
     },
     "21bf8f07487d4e4d84096fee11cf3640": {
      "model_module": "@jupyter-widgets/base",
      "model_module_version": "1.1.0",
      "model_name": "LayoutModel",
      "state": {}
     },
     "21f165baa0a041a0b83b4e170064d714": {
      "model_module": "@jupyter-widgets/controls",
      "model_module_version": "1.4.0",
      "model_name": "ButtonModel",
      "state": {
       "description": "Hide answer",
       "layout": "IPY_MODEL_dfa76ece65c7498d9291bf56a5f70f63",
       "style": "IPY_MODEL_27fdc67d54dd42d09efe81c6b5e0a35d",
       "tooltip": "Click meeeeee"
      }
     },
     "22186444f25f4ea19039a495381f1135": {
      "model_module": "@jupyter-widgets/controls",
      "model_module_version": "1.4.0",
      "model_name": "ButtonModel",
      "state": {
       "description": "Click me",
       "icon": "check",
       "layout": "IPY_MODEL_f8690a50701744d0b98e3e3ee24c9215",
       "style": "IPY_MODEL_ca1eedf0a9eb43758259e4fe84536a94",
       "tooltip": "Click meeeeee"
      }
     },
     "237738c931304a4898899299b008835c": {
      "model_module": "@jupyter-widgets/base",
      "model_module_version": "1.1.0",
      "model_name": "LayoutModel",
      "state": {}
     },
     "25271838b3f64c6daba7a024f5e932b7": {
      "model_module": "@jupyter-widgets/controls",
      "model_module_version": "1.4.0",
      "model_name": "ButtonStyleModel",
      "state": {}
     },
     "26971cf044ba400ba468a4bb51d6cc96": {
      "model_module": "@jupyter-widgets/controls",
      "model_module_version": "1.4.0",
      "model_name": "ButtonStyleModel",
      "state": {}
     },
     "27fdc67d54dd42d09efe81c6b5e0a35d": {
      "model_module": "@jupyter-widgets/controls",
      "model_module_version": "1.4.0",
      "model_name": "ButtonStyleModel",
      "state": {}
     },
     "29032d22faed4910b1c4edde9fcd1093": {
      "model_module": "@jupyter-widgets/base",
      "model_module_version": "1.1.0",
      "model_name": "LayoutModel",
      "state": {}
     },
     "29a25e3e875545bbbca9e5c6765fd89d": {
      "model_module": "@jupyter-widgets/controls",
      "model_module_version": "1.4.0",
      "model_name": "ButtonStyleModel",
      "state": {}
     },
     "29d707dee0a04614b785f55cf44166c4": {
      "model_module": "@jupyter-widgets/controls",
      "model_module_version": "1.4.0",
      "model_name": "ButtonModel",
      "state": {
       "description": "Click me",
       "icon": "check",
       "layout": "IPY_MODEL_0bcaed31e57a4700a93161d783d4f7eb",
       "style": "IPY_MODEL_c248d4daac494d3588cb08ecfa316b4b",
       "tooltip": "Click meeeeee"
      }
     },
     "2c5b33160e4a4d86a4251fe3e274ce64": {
      "model_module": "@jupyter-widgets/controls",
      "model_module_version": "1.4.0",
      "model_name": "ButtonModel",
      "state": {
       "description": "Reveal the answer",
       "layout": "IPY_MODEL_80df8a82b33a469696b94364a3a35dc1",
       "style": "IPY_MODEL_5d6db6cda2d54ca98b7d6aea0a7867b1",
       "tooltip": "The button will disappear when pressed and consequently reveals the answer"
      }
     },
     "2cf5eb7d88034d0c8fa21b61414a6b8a": {
      "model_module": "@jupyter-widgets/controls",
      "model_module_version": "1.4.0",
      "model_name": "ButtonStyleModel",
      "state": {}
     },
     "2d2e25dd1e494016a92607b5659b4228": {
      "model_module": "@jupyter-widgets/base",
      "model_module_version": "1.1.0",
      "model_name": "LayoutModel",
      "state": {}
     },
     "2d812b64bf904ea7bc0b68e776816e14": {
      "model_module": "@jupyter-widgets/controls",
      "model_module_version": "1.4.0",
      "model_name": "ButtonStyleModel",
      "state": {}
     },
     "2e2ccaebee9d448b9e4acffbcd706322": {
      "model_module": "@jupyter-widgets/base",
      "model_module_version": "1.1.0",
      "model_name": "LayoutModel",
      "state": {}
     },
     "30bdabb97654479b86cccb5ba9c57d60": {
      "model_module": "@jupyter-widgets/base",
      "model_module_version": "1.1.0",
      "model_name": "LayoutModel",
      "state": {}
     },
     "317b581dd7e04db9bc183032c07dcb4e": {
      "model_module": "@jupyter-widgets/base",
      "model_module_version": "1.1.0",
      "model_name": "LayoutModel",
      "state": {}
     },
     "31d1b3f193f4436389fbaba75de7ccc7": {
      "model_module": "@jupyter-widgets/controls",
      "model_module_version": "1.4.0",
      "model_name": "ButtonModel",
      "state": {
       "description": "Show answer",
       "layout": "IPY_MODEL_fc4cddde348344138d59f7a75c9a65b2",
       "style": "IPY_MODEL_2cf5eb7d88034d0c8fa21b61414a6b8a",
       "tooltip": "Click me to show the answer"
      }
     },
     "3227e9b0fc6c47a18ad4598c371c5da1": {
      "model_module": "@jupyter-widgets/base",
      "model_module_version": "1.1.0",
      "model_name": "LayoutModel",
      "state": {}
     },
     "34570dc5422e4d19a6832eefe703249a": {
      "model_module": "@jupyter-widgets/controls",
      "model_module_version": "1.4.0",
      "model_name": "ButtonStyleModel",
      "state": {}
     },
     "39aa1fec98b2410f8e4193424e0799c3": {
      "model_module": "@jupyter-widgets/controls",
      "model_module_version": "1.4.0",
      "model_name": "ButtonStyleModel",
      "state": {}
     },
     "3d8d3251d3874e928a51d6f56f882a72": {
      "model_module": "@jupyter-widgets/controls",
      "model_module_version": "1.4.0",
      "model_name": "ButtonModel",
      "state": {
       "description": "Click me",
       "icon": "check",
       "layout": "IPY_MODEL_adca12708fee4cddbe536b77d8f2ba28",
       "style": "IPY_MODEL_95beb21744334fd1a51870e1678d7952",
       "tooltip": "Click meeeeee"
      }
     },
     "3e75fed93ac34022a9ed51bff08ff622": {
      "model_module": "@jupyter-widgets/base",
      "model_module_version": "1.1.0",
      "model_name": "LayoutModel",
      "state": {}
     },
     "3e8a444a9fca41fdad3f89c0e1ab9a4d": {
      "model_module": "@jupyter-widgets/controls",
      "model_module_version": "1.4.0",
      "model_name": "ButtonModel",
      "state": {
       "description": "Click me",
       "disabled": true,
       "icon": "check",
       "layout": "IPY_MODEL_88aded8f029a472b9dcafaee47a01a14",
       "style": "IPY_MODEL_7be1b51e3d2d48a98e66c662ccc4937f",
       "tooltip": "Click meeeeee"
      }
     },
     "3f44c6557c54422fa305bf4b69bab7aa": {
      "model_module": "@jupyter-widgets/controls",
      "model_module_version": "1.4.0",
      "model_name": "ButtonStyleModel",
      "state": {}
     },
     "4008b76919544176a37a4b56e88f8aa6": {
      "model_module": "@jupyter-widgets/controls",
      "model_module_version": "1.4.0",
      "model_name": "ButtonStyleModel",
      "state": {}
     },
     "404ff3fdd6254833ac5217b56ce85167": {
      "model_module": "@jupyter-widgets/base",
      "model_module_version": "1.1.0",
      "model_name": "LayoutModel",
      "state": {}
     },
     "406c539ae61e4161971a33f931707a8a": {
      "model_module": "@jupyter-widgets/controls",
      "model_module_version": "1.4.0",
      "model_name": "ButtonStyleModel",
      "state": {}
     },
     "4108462fa302453db26d9702b4cf2a91": {
      "model_module": "@jupyter-widgets/controls",
      "model_module_version": "1.4.0",
      "model_name": "ButtonModel",
      "state": {
       "description": "Show answer",
       "layout": "IPY_MODEL_cab8b32134f64583b1af9bae568cffa1",
       "style": "IPY_MODEL_53a843aeeb2f488bb6f794af4a9108af",
       "tooltip": "Click me to show the answer"
      }
     },
     "41145de79a1942558f885b160669acf5": {
      "model_module": "@jupyter-widgets/base",
      "model_module_version": "1.1.0",
      "model_name": "LayoutModel",
      "state": {}
     },
     "4165bfe20c9c412183546874e98f0d2d": {
      "model_module": "@jupyter-widgets/controls",
      "model_module_version": "1.4.0",
      "model_name": "ButtonStyleModel",
      "state": {}
     },
     "429d047bfa1b4a29b73c0350b05df729": {
      "model_module": "@jupyter-widgets/base",
      "model_module_version": "1.1.0",
      "model_name": "LayoutModel",
      "state": {}
     },
     "42bc416512b8476791a75bbbb1f7e57a": {
      "model_module": "@jupyter-widgets/controls",
      "model_module_version": "1.4.0",
      "model_name": "ButtonStyleModel",
      "state": {}
     },
     "4309e55ae8764919acc69b09736bfc94": {
      "model_module": "@jupyter-widgets/controls",
      "model_module_version": "1.4.0",
      "model_name": "ButtonModel",
      "state": {
       "description": "go away",
       "layout": "IPY_MODEL_f3c46ca167014c918f21e634aed37421",
       "style": "IPY_MODEL_b0f11e5e5fd24ac799e70168c52842ec"
      }
     },
     "43dbb768d8aa4dfa8eab74f7752c415b": {
      "model_module": "@jupyter-widgets/controls",
      "model_module_version": "1.4.0",
      "model_name": "ButtonModel",
      "state": {
       "description": "Click me",
       "disabled": true,
       "icon": "check",
       "layout": "IPY_MODEL_3e75fed93ac34022a9ed51bff08ff622",
       "style": "IPY_MODEL_44cabe6cf57641bbafae2e137f10e25f",
       "tooltip": "Click meeeeee"
      }
     },
     "44cabe6cf57641bbafae2e137f10e25f": {
      "model_module": "@jupyter-widgets/controls",
      "model_module_version": "1.4.0",
      "model_name": "ButtonStyleModel",
      "state": {}
     },
     "45af6acbc8964644b7d9b9d9ca5dacae": {
      "model_module": "@jupyter-widgets/controls",
      "model_module_version": "1.4.0",
      "model_name": "ButtonStyleModel",
      "state": {}
     },
     "4601a3c34dc14eed958dd2eadf7bd31a": {
      "model_module": "@jupyter-widgets/controls",
      "model_module_version": "1.4.0",
      "model_name": "ButtonStyleModel",
      "state": {}
     },
     "4718043c844b437fa11df4d134807e24": {
      "model_module": "@jupyter-widgets/controls",
      "model_module_version": "1.4.0",
      "model_name": "ButtonStyleModel",
      "state": {}
     },
     "47c68afa89d044ca9b8619b7663a804e": {
      "model_module": "@jupyter-widgets/controls",
      "model_module_version": "1.4.0",
      "model_name": "ButtonModel",
      "state": {
       "description": "Hide answer",
       "layout": "IPY_MODEL_f7d0a64d5c194eb3956e11a817abc1fd",
       "style": "IPY_MODEL_a0b46350fb4b4ca38c21afcf19c8d5b4",
       "tooltip": "Click meeeeee"
      }
     },
     "4850d440bd3a474db27ae6b218a89983": {
      "model_module": "@jupyter-widgets/base",
      "model_module_version": "1.1.0",
      "model_name": "LayoutModel",
      "state": {}
     },
     "4859e318fd8e4e12a87c05af31ee6e49": {
      "model_module": "@jupyter-widgets/controls",
      "model_module_version": "1.4.0",
      "model_name": "ButtonStyleModel",
      "state": {}
     },
     "497900fe7cdb4bf99a028d812a09a035": {
      "model_module": "@jupyter-widgets/controls",
      "model_module_version": "1.4.0",
      "model_name": "ButtonStyleModel",
      "state": {}
     },
     "49b29097a2c84a64ab4cdd29a65a6f51": {
      "model_module": "@jupyter-widgets/base",
      "model_module_version": "1.1.0",
      "model_name": "LayoutModel",
      "state": {}
     },
     "4a3f1930433e4641886f7a841ca7f085": {
      "model_module": "@jupyter-widgets/controls",
      "model_module_version": "1.4.0",
      "model_name": "ButtonStyleModel",
      "state": {}
     },
     "4a587d910af040128ba26e293718af40": {
      "model_module": "@jupyter-widgets/base",
      "model_module_version": "1.1.0",
      "model_name": "LayoutModel",
      "state": {}
     },
     "4a633b176f9345379380230dce9967ae": {
      "model_module": "@jupyter-widgets/controls",
      "model_module_version": "1.4.0",
      "model_name": "ButtonStyleModel",
      "state": {}
     },
     "4bc7d905421d42448ad9db3837b9ae34": {
      "model_module": "@jupyter-widgets/base",
      "model_module_version": "1.1.0",
      "model_name": "LayoutModel",
      "state": {}
     },
     "4cc40d8d0f274d298a16405a16fbe1fa": {
      "model_module": "@jupyter-widgets/controls",
      "model_module_version": "1.4.0",
      "model_name": "ButtonStyleModel",
      "state": {}
     },
     "4d3d4fec5bad473e8b5a23e20a9619e5": {
      "model_module": "@jupyter-widgets/controls",
      "model_module_version": "1.4.0",
      "model_name": "ButtonModel",
      "state": {
       "description": "Show answer",
       "layout": "IPY_MODEL_58f1f157d79f459ba8cdecfeb634eff9",
       "style": "IPY_MODEL_1a25b760e2f54c9d9660199c3182bea1",
       "tooltip": "Click meeeeee"
      }
     },
     "4e34095daa03435d90f03ca266350f95": {
      "model_module": "@jupyter-widgets/base",
      "model_module_version": "1.1.0",
      "model_name": "LayoutModel",
      "state": {}
     },
     "4ef6980c25474d259ebf107138f9dfd1": {
      "model_module": "@jupyter-widgets/controls",
      "model_module_version": "1.4.0",
      "model_name": "ButtonModel",
      "state": {
       "description": "Reveal the answerdsadsadda",
       "layout": "IPY_MODEL_709d619dc0d047d1a133da077b0e6aa8",
       "style": "IPY_MODEL_c92291a952a3403283ecebbd34c67858",
       "tooltip": "Click meeeeee"
      }
     },
     "4f9608f6e733443e864749e5345c3a30": {
      "model_module": "@jupyter-widgets/controls",
      "model_module_version": "1.4.0",
      "model_name": "ButtonStyleModel",
      "state": {}
     },
     "4fbca0292ed54a3d8e956f42e907bc72": {
      "model_module": "@jupyter-widgets/base",
      "model_module_version": "1.1.0",
      "model_name": "LayoutModel",
      "state": {}
     },
     "4fd3d162c348499cb77693cce481d1a5": {
      "model_module": "@jupyter-widgets/base",
      "model_module_version": "1.1.0",
      "model_name": "LayoutModel",
      "state": {}
     },
     "502cfe6d96f1485285f2c0540b8936bf": {
      "model_module": "@jupyter-widgets/controls",
      "model_module_version": "1.4.0",
      "model_name": "ButtonStyleModel",
      "state": {}
     },
     "5260c051d0df4d158c50f45d0bf2a14e": {
      "model_module": "@jupyter-widgets/base",
      "model_module_version": "1.1.0",
      "model_name": "LayoutModel",
      "state": {}
     },
     "5263c6b87ec542dfa984417de5bf57ea": {
      "model_module": "@jupyter-widgets/controls",
      "model_module_version": "1.4.0",
      "model_name": "ButtonModel",
      "state": {
       "description": "Show answer",
       "layout": "IPY_MODEL_78585280e4df40c2b317696f38bafde4",
       "style": "IPY_MODEL_1d7ca15d04f74a15b2f69e20399629b8",
       "tooltip": "Click me to show the answer"
      }
     },
     "5337525a664d4fa18497a4d189418d12": {
      "model_module": "@jupyter-widgets/base",
      "model_module_version": "1.1.0",
      "model_name": "LayoutModel",
      "state": {}
     },
     "53a843aeeb2f488bb6f794af4a9108af": {
      "model_module": "@jupyter-widgets/controls",
      "model_module_version": "1.4.0",
      "model_name": "ButtonStyleModel",
      "state": {}
     },
     "53e7a612171147048fe55c63a2dc0f5a": {
      "model_module": "@jupyter-widgets/controls",
      "model_module_version": "1.4.0",
      "model_name": "ButtonModel",
      "state": {
       "description": "Click me",
       "icon": "check",
       "layout": "IPY_MODEL_b6890b417ab24828a69676b10a217333",
       "style": "IPY_MODEL_0e29013c7f3b450297bf87bdfbc7db0c",
       "tooltip": "Click meeeeee"
      }
     },
     "5625f00c84644a26b88bb1ba8a027f8b": {
      "model_module": "@jupyter-widgets/controls",
      "model_module_version": "1.4.0",
      "model_name": "ButtonModel",
      "state": {
       "description": "Click me",
       "icon": "check",
       "layout": "IPY_MODEL_4e34095daa03435d90f03ca266350f95",
       "style": "IPY_MODEL_45af6acbc8964644b7d9b9d9ca5dacae",
       "tooltip": "Click meeeeee"
      }
     },
     "5845543502a045d68a0229fd4970ad71": {
      "model_module": "@jupyter-widgets/controls",
      "model_module_version": "1.4.0",
      "model_name": "ButtonStyleModel",
      "state": {}
     },
     "58f1f157d79f459ba8cdecfeb634eff9": {
      "model_module": "@jupyter-widgets/base",
      "model_module_version": "1.1.0",
      "model_name": "LayoutModel",
      "state": {}
     },
     "597cfa394e264c38a185aeabd683085b": {
      "model_module": "@jupyter-widgets/base",
      "model_module_version": "1.1.0",
      "model_name": "LayoutModel",
      "state": {}
     },
     "59e5ad8686d24abc85e2819d680d5b91": {
      "model_module": "@jupyter-widgets/controls",
      "model_module_version": "1.4.0",
      "model_name": "ButtonStyleModel",
      "state": {}
     },
     "5a28ab340e734818b2871fff72a2aa51": {
      "model_module": "@jupyter-widgets/controls",
      "model_module_version": "1.4.0",
      "model_name": "ButtonModel",
      "state": {
       "description": "Click me",
       "icon": "check",
       "layout": "IPY_MODEL_d0ecf4329ee04b5da06beb8e1ef73ae2",
       "style": "IPY_MODEL_760ef19d04af4badad8d5f7cde41a244",
       "tooltip": "Click me"
      }
     },
     "5c51341d149741adbb751b9e7ed0869a": {
      "model_module": "@jupyter-widgets/controls",
      "model_module_version": "1.4.0",
      "model_name": "ButtonModel",
      "state": {
       "description": "Click me",
       "disabled": true,
       "icon": "check",
       "layout": "IPY_MODEL_17d1b51592b7418fbc1fc794c2b78e61",
       "style": "IPY_MODEL_4859e318fd8e4e12a87c05af31ee6e49",
       "tooltip": "Click meeeeee"
      }
     },
     "5d6db6cda2d54ca98b7d6aea0a7867b1": {
      "model_module": "@jupyter-widgets/controls",
      "model_module_version": "1.4.0",
      "model_name": "ButtonStyleModel",
      "state": {}
     },
     "5dc525b02d5f4adb9eba90c5e7a09ea6": {
      "model_module": "@jupyter-widgets/controls",
      "model_module_version": "1.4.0",
      "model_name": "ButtonStyleModel",
      "state": {}
     },
     "5dca1c3c42a742349e03aac421754ed2": {
      "model_module": "@jupyter-widgets/base",
      "model_module_version": "1.1.0",
      "model_name": "LayoutModel",
      "state": {}
     },
     "5dd25e58430643f7b34bc985a4af1c9a": {
      "model_module": "@jupyter-widgets/controls",
      "model_module_version": "1.4.0",
      "model_name": "ButtonStyleModel",
      "state": {}
     },
     "5dfe7441a7c94df8991ec5cc2405726f": {
      "model_module": "@jupyter-widgets/controls",
      "model_module_version": "1.4.0",
      "model_name": "ButtonModel",
      "state": {
       "description": "Click me",
       "icon": "check",
       "layout": "IPY_MODEL_5260c051d0df4d158c50f45d0bf2a14e",
       "style": "IPY_MODEL_1b2923d3f41c4fd6b787cca7fa9298db",
       "tooltip": "Click meeeeee"
      }
     },
     "5f9f00d7f2de42918358da8048df493a": {
      "model_module": "@jupyter-widgets/controls",
      "model_module_version": "1.4.0",
      "model_name": "ButtonStyleModel",
      "state": {}
     },
     "603d98fdfd164d95a1b04c9e4263002a": {
      "model_module": "@jupyter-widgets/base",
      "model_module_version": "1.1.0",
      "model_name": "LayoutModel",
      "state": {}
     },
     "60a54f4236c8446a95b35134cc887ca8": {
      "model_module": "@jupyter-widgets/controls",
      "model_module_version": "1.4.0",
      "model_name": "ButtonStyleModel",
      "state": {}
     },
     "61097348e67a48e4b599619ef02016b0": {
      "model_module": "@jupyter-widgets/controls",
      "model_module_version": "1.4.0",
      "model_name": "ButtonModel",
      "state": {
       "description": "Hide answer",
       "layout": "IPY_MODEL_f128cdb8c23e4cdb84e36ae73e95915e",
       "style": "IPY_MODEL_82b41ea3374b4836a6f0082cfd85a793",
       "tooltip": "Click me to hide the answer"
      }
     },
     "61231de52f1f4b6abdc206981942eeb7": {
      "model_module": "@jupyter-widgets/controls",
      "model_module_version": "1.4.0",
      "model_name": "ButtonModel",
      "state": {
       "description": "Click me",
       "disabled": true,
       "icon": "check",
       "layout": "IPY_MODEL_bfdc4f75f26e43daab59530a0d0e5114",
       "style": "IPY_MODEL_bf068e58a09949adb6a0d82cfcebe9b6",
       "tooltip": "Click meeeeee"
      }
     },
     "620841e172714e5f91df94109af77e48": {
      "model_module": "@jupyter-widgets/controls",
      "model_module_version": "1.4.0",
      "model_name": "ButtonStyleModel",
      "state": {}
     },
     "621d832f454b496991426e498c1320b4": {
      "model_module": "@jupyter-widgets/base",
      "model_module_version": "1.1.0",
      "model_name": "LayoutModel",
      "state": {}
     },
     "62e0a04d7f06439988072ec510097936": {
      "model_module": "@jupyter-widgets/controls",
      "model_module_version": "1.4.0",
      "model_name": "ButtonStyleModel",
      "state": {}
     },
     "64011488b0f443eaaf684d2686f3355d": {
      "model_module": "@jupyter-widgets/base",
      "model_module_version": "1.1.0",
      "model_name": "LayoutModel",
      "state": {}
     },
     "649cadb480404fd4a8bbe6d6a77c5ee7": {
      "model_module": "@jupyter-widgets/controls",
      "model_module_version": "1.4.0",
      "model_name": "ButtonStyleModel",
      "state": {}
     },
     "64e3b3000baa4effa86ac65bfa20e424": {
      "model_module": "@jupyter-widgets/base",
      "model_module_version": "1.1.0",
      "model_name": "LayoutModel",
      "state": {}
     },
     "66278971b66b42b08566cfbfbc1f67ae": {
      "model_module": "@jupyter-widgets/controls",
      "model_module_version": "1.4.0",
      "model_name": "ButtonModel",
      "state": {
       "description": "Show answer",
       "layout": "IPY_MODEL_7dfffcc2964640af98edba6388a0bee6",
       "style": "IPY_MODEL_983bacd177a448c8b42ff17dc92fa70f",
       "tooltip": "Click meeeeee"
      }
     },
     "6714374128ac4dcb9a147234284018f1": {
      "model_module": "@jupyter-widgets/controls",
      "model_module_version": "1.4.0",
      "model_name": "ButtonStyleModel",
      "state": {}
     },
     "683d14a46ae5402e987faabb22a48f40": {
      "model_module": "@jupyter-widgets/controls",
      "model_module_version": "1.4.0",
      "model_name": "ButtonStyleModel",
      "state": {}
     },
     "68b95105a6884d2abfcedd56a11ad527": {
      "model_module": "@jupyter-widgets/controls",
      "model_module_version": "1.4.0",
      "model_name": "ButtonModel",
      "state": {
       "description": "Show answer",
       "layout": "IPY_MODEL_801f42e4da774d339088b62afc8e26b2",
       "style": "IPY_MODEL_bdb0846058d149e6bd76eea4d270a49c",
       "tooltip": "Click meeeeee"
      }
     },
     "69d8e327fc1d4f3ab24e6904e28e9967": {
      "model_module": "@jupyter-widgets/controls",
      "model_module_version": "1.4.0",
      "model_name": "ButtonModel",
      "state": {
       "description": "Hide answer",
       "icon": "ad",
       "layout": "IPY_MODEL_d7722c830eee4e449e4b9fbe54df9fff",
       "style": "IPY_MODEL_d33680c36944489b9bd5335bebf42ad8",
       "tooltip": "Click meeeeee"
      }
     },
     "6a3c027535834528a3d29ff02958a78e": {
      "model_module": "@jupyter-widgets/controls",
      "model_module_version": "1.4.0",
      "model_name": "ButtonModel",
      "state": {
       "description": "Show answer",
       "layout": "IPY_MODEL_1b498923de93487b88fa8ed5f5ec8ff8",
       "style": "IPY_MODEL_1e28caa61f4b4a6380ef02937940b159",
       "tooltip": "Click meeeeee"
      }
     },
     "6a5c2dba7d0e440a9f68f4a45d5c5aff": {
      "model_module": "@jupyter-widgets/controls",
      "model_module_version": "1.4.0",
      "model_name": "ButtonStyleModel",
      "state": {}
     },
     "6a76854eddbc416b925275d4efc81b72": {
      "model_module": "@jupyter-widgets/controls",
      "model_module_version": "1.4.0",
      "model_name": "ButtonModel",
      "state": {
       "description": "Click me",
       "icon": "check",
       "layout": "IPY_MODEL_f468430b688544599c4006038b5b7871",
       "style": "IPY_MODEL_6714374128ac4dcb9a147234284018f1",
       "tooltip": "Click meeeeee"
      }
     },
     "6aa1fe1b6f384748bc7781b3ce99d90b": {
      "model_module": "@jupyter-widgets/base",
      "model_module_version": "1.1.0",
      "model_name": "LayoutModel",
      "state": {}
     },
     "6b12b335ea3c4190ae4563072dbf5c2a": {
      "model_module": "@jupyter-widgets/base",
      "model_module_version": "1.1.0",
      "model_name": "LayoutModel",
      "state": {}
     },
     "6b6497caaa3f4ec096526bb57708aed9": {
      "model_module": "@jupyter-widgets/controls",
      "model_module_version": "1.4.0",
      "model_name": "ButtonModel",
      "state": {
       "description": "Hide answer",
       "icon": "apple",
       "layout": "IPY_MODEL_e0ff3c2671b546d6afcabe41c12f58bc",
       "style": "IPY_MODEL_ab2c65bb6d9941daac15964d94ae2c95",
       "tooltip": "Click meeeeee"
      }
     },
     "6b6f61ba700445e09702a9b830343389": {
      "model_module": "@jupyter-widgets/controls",
      "model_module_version": "1.4.0",
      "model_name": "ButtonModel",
      "state": {
       "description": "Show answer",
       "layout": "IPY_MODEL_815c0c46c52b47c7a7ff55522cad4f7f",
       "style": "IPY_MODEL_4165bfe20c9c412183546874e98f0d2d",
       "tooltip": "Click me to show the answer"
      }
     },
     "6b78dcc8f88e4a46b1b368bba73f3fd7": {
      "model_module": "@jupyter-widgets/controls",
      "model_module_version": "1.4.0",
      "model_name": "ButtonModel",
      "state": {
       "description": "Click me",
       "disabled": true,
       "icon": "check",
       "layout": "IPY_MODEL_a37f7ae59e074875869cb770d9588694",
       "style": "IPY_MODEL_edbcfff578ea412c8e7c37076e8735ce",
       "tooltip": "Click meeeeee"
      }
     },
     "6cc6bbc663dc44f7a372320aef3d174a": {
      "model_module": "@jupyter-widgets/controls",
      "model_module_version": "1.4.0",
      "model_name": "ButtonModel",
      "state": {
       "description": "Show answer",
       "layout": "IPY_MODEL_6f2283b04df445f6bccd8b376e4a0c88",
       "style": "IPY_MODEL_20f79341dd434e38b6ac2b4b30254e12",
       "tooltip": "Click meeeeee"
      }
     },
     "6d3813f9a60d4e81b858c4fc1b86923b": {
      "model_module": "@jupyter-widgets/controls",
      "model_module_version": "1.4.0",
      "model_name": "ButtonModel",
      "state": {
       "description": "Show answer",
       "icon": "cross",
       "layout": "IPY_MODEL_e416547fe31149e58b419e2d1a9231d2",
       "style": "IPY_MODEL_b55e5591eb50422987839dde2f580ebe",
       "tooltip": "Click meeeeee"
      }
     },
     "6e1064c978bc4d7eb73cc73c26477740": {
      "model_module": "@jupyter-widgets/base",
      "model_module_version": "1.1.0",
      "model_name": "LayoutModel",
      "state": {}
     },
     "6e2361f4370749a583075e61b9f8064c": {
      "model_module": "@jupyter-widgets/controls",
      "model_module_version": "1.4.0",
      "model_name": "ButtonModel",
      "state": {
       "description": "Hide answer",
       "layout": "IPY_MODEL_9f1d09bf2bb347cebd91c7b1e4326caf",
       "style": "IPY_MODEL_ccec3d4e21c74e279ff898446504fb2f",
       "tooltip": "Click meeeeee"
      }
     },
     "6eb9d09e68ea4e16823808bd94c84c2d": {
      "model_module": "@jupyter-widgets/controls",
      "model_module_version": "1.4.0",
      "model_name": "ButtonModel",
      "state": {
       "description": "Show answer",
       "icon": "check",
       "layout": "IPY_MODEL_150bb3419c5a469ca58ef7c7f60c8b03",
       "style": "IPY_MODEL_801870bb2bee465593b0a84642d643bc",
       "tooltip": "Click meeeeee"
      }
     },
     "6f07416ec59d472fb2372b1045636c17": {
      "model_module": "@jupyter-widgets/controls",
      "model_module_version": "1.4.0",
      "model_name": "ButtonModel",
      "state": {
       "description": "Hide answer",
       "layout": "IPY_MODEL_79508e7ea84f40ad9a6ed207a6a8bceb",
       "style": "IPY_MODEL_f9778f3256c64f0e8f7ae1add7ec7a47",
       "tooltip": "Click me to hide the answer"
      }
     },
     "6f2283b04df445f6bccd8b376e4a0c88": {
      "model_module": "@jupyter-widgets/base",
      "model_module_version": "1.1.0",
      "model_name": "LayoutModel",
      "state": {}
     },
     "701c2c1e8a4b4acd872e5348c46da2d9": {
      "model_module": "@jupyter-widgets/controls",
      "model_module_version": "1.4.0",
      "model_name": "ButtonStyleModel",
      "state": {}
     },
     "7045c159eb5044b19506e8859224773b": {
      "model_module": "@jupyter-widgets/controls",
      "model_module_version": "1.4.0",
      "model_name": "ButtonModel",
      "state": {
       "description": "Click me",
       "icon": "check",
       "layout": "IPY_MODEL_c73a15052b9548bfa9a2caf143c89605",
       "style": "IPY_MODEL_8bfbf6d1b1d8438b835e079f3ac22209",
       "tooltip": "Click meeeeee"
      }
     },
     "709cfdf4d1e34b21a3e2fe06e14bd37d": {
      "model_module": "@jupyter-widgets/controls",
      "model_module_version": "1.4.0",
      "model_name": "ButtonModel",
      "state": {
       "description": "Show answer",
       "icon": "check",
       "layout": "IPY_MODEL_a0db6a9d3cdd413fbc3c09412bc5459c",
       "style": "IPY_MODEL_f951fd121ff1473a8359f4f3f1a43cfc",
       "tooltip": "Click meeeeee"
      }
     },
     "709d619dc0d047d1a133da077b0e6aa8": {
      "model_module": "@jupyter-widgets/base",
      "model_module_version": "1.1.0",
      "model_name": "LayoutModel",
      "state": {}
     },
     "73dd07daa8584a34aa6d010bff67d5fa": {
      "model_module": "@jupyter-widgets/controls",
      "model_module_version": "1.4.0",
      "model_name": "ButtonModel",
      "state": {
       "description": "Show answer",
       "layout": "IPY_MODEL_0679e8ef9f784036822ade91983954dc",
       "style": "IPY_MODEL_34570dc5422e4d19a6832eefe703249a",
       "tooltip": "Click meeeeee"
      }
     },
     "73de182d10254a2fbb20a179612e873f": {
      "model_module": "@jupyter-widgets/controls",
      "model_module_version": "1.4.0",
      "model_name": "ButtonStyleModel",
      "state": {}
     },
     "74c9f32e4a7e49729c64bb9742fde355": {
      "model_module": "@jupyter-widgets/base",
      "model_module_version": "1.1.0",
      "model_name": "LayoutModel",
      "state": {}
     },
     "752382fd900546e8ae245e450d7c3f10": {
      "model_module": "@jupyter-widgets/controls",
      "model_module_version": "1.4.0",
      "model_name": "ButtonStyleModel",
      "state": {}
     },
     "760ef19d04af4badad8d5f7cde41a244": {
      "model_module": "@jupyter-widgets/controls",
      "model_module_version": "1.4.0",
      "model_name": "ButtonStyleModel",
      "state": {}
     },
     "7799caa3e5c0493aaa8e529e263150a1": {
      "model_module": "@jupyter-widgets/controls",
      "model_module_version": "1.4.0",
      "model_name": "ButtonModel",
      "state": {
       "description": "Click me",
       "icon": "check",
       "layout": "IPY_MODEL_0e844bae5df641d89d36bf0f8c4b4eec",
       "style": "IPY_MODEL_b7f703d495b347dbb61a950e1cff470a",
       "tooltip": "Click meeeeee"
      }
     },
     "77ad584f2fe144dfa0828997dd530cef": {
      "model_module": "@jupyter-widgets/base",
      "model_module_version": "1.1.0",
      "model_name": "LayoutModel",
      "state": {}
     },
     "77d10d832b4b4f3f9c4840c37e5c01ae": {
      "model_module": "@jupyter-widgets/controls",
      "model_module_version": "1.4.0",
      "model_name": "ButtonModel",
      "state": {
       "description": "Click me",
       "disabled": true,
       "icon": "check",
       "layout": "IPY_MODEL_429d047bfa1b4a29b73c0350b05df729",
       "style": "IPY_MODEL_4a633b176f9345379380230dce9967ae",
       "tooltip": "Click meeeeee"
      }
     },
     "78585280e4df40c2b317696f38bafde4": {
      "model_module": "@jupyter-widgets/base",
      "model_module_version": "1.1.0",
      "model_name": "LayoutModel",
      "state": {}
     },
     "79508e7ea84f40ad9a6ed207a6a8bceb": {
      "model_module": "@jupyter-widgets/base",
      "model_module_version": "1.1.0",
      "model_name": "LayoutModel",
      "state": {}
     },
     "7b2959a7c6534fb7a31994f6fec53fe1": {
      "model_module": "@jupyter-widgets/controls",
      "model_module_version": "1.4.0",
      "model_name": "ButtonModel",
      "state": {
       "description": "Show answer",
       "layout": "IPY_MODEL_5337525a664d4fa18497a4d189418d12",
       "style": "IPY_MODEL_e038c27ac9cc4ed9a9b6bc524e9b32d2",
       "tooltip": "Click meeeeee"
      }
     },
     "7b5406a74d994b27b4bb77a1d45c41b3": {
      "model_module": "@jupyter-widgets/base",
      "model_module_version": "1.1.0",
      "model_name": "LayoutModel",
      "state": {}
     },
     "7be1b51e3d2d48a98e66c662ccc4937f": {
      "model_module": "@jupyter-widgets/controls",
      "model_module_version": "1.4.0",
      "model_name": "ButtonStyleModel",
      "state": {}
     },
     "7c0819f36c6444729829fdfd1013ad1e": {
      "model_module": "@jupyter-widgets/controls",
      "model_module_version": "1.4.0",
      "model_name": "ButtonModel",
      "state": {
       "description": "Hide answer",
       "layout": "IPY_MODEL_0ea2cc12aa5d4720be62613903475512",
       "style": "IPY_MODEL_86a3bde231494791861b11d856c695df",
       "tooltip": "Click meeeeee"
      }
     },
     "7ca27dffb5384fcca56e5710e9943a7b": {
      "model_module": "@jupyter-widgets/base",
      "model_module_version": "1.1.0",
      "model_name": "LayoutModel",
      "state": {}
     },
     "7dc431e7f0ec4a939a5e9f2f87ee22c4": {
      "model_module": "@jupyter-widgets/base",
      "model_module_version": "1.1.0",
      "model_name": "LayoutModel",
      "state": {}
     },
     "7dfffcc2964640af98edba6388a0bee6": {
      "model_module": "@jupyter-widgets/base",
      "model_module_version": "1.1.0",
      "model_name": "LayoutModel",
      "state": {}
     },
     "7f600a2b6dbf4f609a266e953f7273f9": {
      "model_module": "@jupyter-widgets/base",
      "model_module_version": "1.1.0",
      "model_name": "LayoutModel",
      "state": {}
     },
     "7fb561cf9d9c443fab0ce4453e39e0a6": {
      "model_module": "@jupyter-widgets/controls",
      "model_module_version": "1.4.0",
      "model_name": "ButtonModel",
      "state": {
       "description": "Click me",
       "disabled": true,
       "icon": "check",
       "layout": "IPY_MODEL_de5b942bc2e547618d0770d512c5a5b6",
       "style": "IPY_MODEL_9179faa71c1a4fb6a79e5ad04c3449e7",
       "tooltip": "Click meeeeee"
      }
     },
     "801870bb2bee465593b0a84642d643bc": {
      "model_module": "@jupyter-widgets/controls",
      "model_module_version": "1.4.0",
      "model_name": "ButtonStyleModel",
      "state": {}
     },
     "801e039efa95413386647e1db07b243f": {
      "model_module": "@jupyter-widgets/controls",
      "model_module_version": "1.4.0",
      "model_name": "ButtonModel",
      "state": {
       "description": "Reveal the answer",
       "layout": "IPY_MODEL_dd0494d57b404663a81263c0d17f0a39",
       "style": "IPY_MODEL_870bad3c4c634e0896ec01840806a3ee",
       "tooltip": "Click meeeeee"
      }
     },
     "801f42e4da774d339088b62afc8e26b2": {
      "model_module": "@jupyter-widgets/base",
      "model_module_version": "1.1.0",
      "model_name": "LayoutModel",
      "state": {}
     },
     "80df8a82b33a469696b94364a3a35dc1": {
      "model_module": "@jupyter-widgets/base",
      "model_module_version": "1.1.0",
      "model_name": "LayoutModel",
      "state": {}
     },
     "815c0c46c52b47c7a7ff55522cad4f7f": {
      "model_module": "@jupyter-widgets/base",
      "model_module_version": "1.1.0",
      "model_name": "LayoutModel",
      "state": {}
     },
     "82b41ea3374b4836a6f0082cfd85a793": {
      "model_module": "@jupyter-widgets/controls",
      "model_module_version": "1.4.0",
      "model_name": "ButtonStyleModel",
      "state": {}
     },
     "84e3d240e121430cae365cf97f3c2975": {
      "model_module": "@jupyter-widgets/base",
      "model_module_version": "1.1.0",
      "model_name": "LayoutModel",
      "state": {}
     },
     "854e9b56037d4b85a9e51ed2666befa3": {
      "model_module": "@jupyter-widgets/controls",
      "model_module_version": "1.4.0",
      "model_name": "ButtonModel",
      "state": {
       "description": "Click me",
       "disabled": true,
       "icon": "cross",
       "layout": "IPY_MODEL_41145de79a1942558f885b160669acf5",
       "style": "IPY_MODEL_3f44c6557c54422fa305bf4b69bab7aa",
       "tooltip": "Click meeeeee"
      }
     },
     "8638d86514574fe8903cbfad144a56ab": {
      "model_module": "@jupyter-widgets/controls",
      "model_module_version": "1.4.0",
      "model_name": "ButtonModel",
      "state": {
       "description": "Click me",
       "disabled": true,
       "icon": "check",
       "layout": "IPY_MODEL_7dc431e7f0ec4a939a5e9f2f87ee22c4",
       "style": "IPY_MODEL_974243ac2e7c4b3cb2579521a243d5db",
       "tooltip": "Click meeeeee"
      }
     },
     "86a3bde231494791861b11d856c695df": {
      "model_module": "@jupyter-widgets/controls",
      "model_module_version": "1.4.0",
      "model_name": "ButtonStyleModel",
      "state": {}
     },
     "870bad3c4c634e0896ec01840806a3ee": {
      "model_module": "@jupyter-widgets/controls",
      "model_module_version": "1.4.0",
      "model_name": "ButtonStyleModel",
      "state": {}
     },
     "8802c9c46dab40dcb23c0e6836588f17": {
      "model_module": "@jupyter-widgets/base",
      "model_module_version": "1.1.0",
      "model_name": "LayoutModel",
      "state": {}
     },
     "88aded8f029a472b9dcafaee47a01a14": {
      "model_module": "@jupyter-widgets/base",
      "model_module_version": "1.1.0",
      "model_name": "LayoutModel",
      "state": {}
     },
     "8926c5e142bc4363b6879afaad7c73d1": {
      "model_module": "@jupyter-widgets/base",
      "model_module_version": "1.1.0",
      "model_name": "LayoutModel",
      "state": {}
     },
     "8a042748eb4e42018c0dd500999db91f": {
      "model_module": "@jupyter-widgets/controls",
      "model_module_version": "1.4.0",
      "model_name": "ButtonStyleModel",
      "state": {}
     },
     "8af286c913ad437c80756da3e81cfee5": {
      "model_module": "@jupyter-widgets/controls",
      "model_module_version": "1.4.0",
      "model_name": "ButtonModel",
      "state": {
       "description": "Click me",
       "disabled": true,
       "icon": "check",
       "layout": "IPY_MODEL_e143c6675d8f4817beb8d620630462c8",
       "style": "IPY_MODEL_ec334e6c973d4b87911abfd088b86958",
       "tooltip": "Click me"
      }
     },
     "8bfbf6d1b1d8438b835e079f3ac22209": {
      "model_module": "@jupyter-widgets/controls",
      "model_module_version": "1.4.0",
      "model_name": "ButtonStyleModel",
      "state": {}
     },
     "8c8b36f5d5fc4220b36f0b384c7fcf0b": {
      "model_module": "@jupyter-widgets/base",
      "model_module_version": "1.1.0",
      "model_name": "LayoutModel",
      "state": {}
     },
     "8dca1406ba054708983365efc46b8bfe": {
      "model_module": "@jupyter-widgets/controls",
      "model_module_version": "1.4.0",
      "model_name": "ButtonModel",
      "state": {
       "description": "Hide answer",
       "layout": "IPY_MODEL_0a89881cc0c34e1e9b28417f771dbebd",
       "style": "IPY_MODEL_59e5ad8686d24abc85e2819d680d5b91",
       "tooltip": "Click meeeeee"
      }
     },
     "8e871b03ddbf479e8a65642e872a7090": {
      "model_module": "@jupyter-widgets/controls",
      "model_module_version": "1.4.0",
      "model_name": "ButtonStyleModel",
      "state": {}
     },
     "8fad12877fb64ef59f10eabfc9b973b9": {
      "model_module": "@jupyter-widgets/controls",
      "model_module_version": "1.4.0",
      "model_name": "ButtonModel",
      "state": {
       "description": "Show answer",
       "layout": "IPY_MODEL_f261f5ec0d5d486d918bd3189b0138ec",
       "style": "IPY_MODEL_fffea85a75d3458e8da898fb5ffde1bd",
       "tooltip": "Click me to show the answer"
      }
     },
     "9023e042595849939f672e8dd2b0a71d": {
      "model_module": "@jupyter-widgets/controls",
      "model_module_version": "1.4.0",
      "model_name": "ButtonStyleModel",
      "state": {}
     },
     "913da200bb48455eb19552017a4c9f8b": {
      "model_module": "@jupyter-widgets/controls",
      "model_module_version": "1.4.0",
      "model_name": "ButtonModel",
      "state": {
       "description": "Click me",
       "disabled": true,
       "icon": "check",
       "layout": "IPY_MODEL_fb2ab5ed5b194588a4a1376c55156873",
       "style": "IPY_MODEL_e4e85b4125d041a593172e1737ed539a",
       "tooltip": "Click meeeeee"
      }
     },
     "9179faa71c1a4fb6a79e5ad04c3449e7": {
      "model_module": "@jupyter-widgets/controls",
      "model_module_version": "1.4.0",
      "model_name": "ButtonStyleModel",
      "state": {}
     },
     "920f2534ed0941a696fb5a755a64073e": {
      "model_module": "@jupyter-widgets/base",
      "model_module_version": "1.1.0",
      "model_name": "LayoutModel",
      "state": {}
     },
     "92314e4b7b604f58aa1c503f52cc6473": {
      "model_module": "@jupyter-widgets/controls",
      "model_module_version": "1.4.0",
      "model_name": "ButtonStyleModel",
      "state": {}
     },
     "92fce2ec44cb47aaaaf91fd44a9d4b20": {
      "model_module": "@jupyter-widgets/controls",
      "model_module_version": "1.4.0",
      "model_name": "ButtonModel",
      "state": {
       "description": "Hide answer",
       "layout": "IPY_MODEL_100b9967522845299963c818f2c20cc1",
       "style": "IPY_MODEL_4f9608f6e733443e864749e5345c3a30",
       "tooltip": "Click meeeeee"
      }
     },
     "93c6fb80cc224e39a4555a86a7fb4aa8": {
      "model_module": "@jupyter-widgets/base",
      "model_module_version": "1.1.0",
      "model_name": "LayoutModel",
      "state": {}
     },
     "95beb21744334fd1a51870e1678d7952": {
      "model_module": "@jupyter-widgets/controls",
      "model_module_version": "1.4.0",
      "model_name": "ButtonStyleModel",
      "state": {}
     },
     "963a0d5a0f694465bff7f9f87e53c063": {
      "model_module": "@jupyter-widgets/controls",
      "model_module_version": "1.4.0",
      "model_name": "ButtonModel",
      "state": {
       "description": "Hide answer",
       "icon": "ad",
       "layout": "IPY_MODEL_2d2e25dd1e494016a92607b5659b4228",
       "style": "IPY_MODEL_5dc525b02d5f4adb9eba90c5e7a09ea6",
       "tooltip": "Click meeeeee"
      }
     },
     "965a49b1b55747eab997e9c6e42d8d23": {
      "model_module": "@jupyter-widgets/controls",
      "model_module_version": "1.4.0",
      "model_name": "ButtonModel",
      "state": {
       "description": "Click me",
       "disabled": true,
       "icon": "check",
       "layout": "IPY_MODEL_cf8fca9c928c478bb05d707947d74e69",
       "style": "IPY_MODEL_04a2bb9fe2364160ba85cf97ad966ee7",
       "tooltip": "Click meeeeee"
      }
     },
     "966382c8e993409aaaec9d7c715bdf4a": {
      "model_module": "@jupyter-widgets/controls",
      "model_module_version": "1.4.0",
      "model_name": "ButtonStyleModel",
      "state": {}
     },
     "974243ac2e7c4b3cb2579521a243d5db": {
      "model_module": "@jupyter-widgets/controls",
      "model_module_version": "1.4.0",
      "model_name": "ButtonStyleModel",
      "state": {}
     },
     "97b7599ff9544d88a5b2fdc1147b4e51": {
      "model_module": "@jupyter-widgets/base",
      "model_module_version": "1.1.0",
      "model_name": "LayoutModel",
      "state": {}
     },
     "97d301fccba848fea0c5e916fa4770e5": {
      "model_module": "@jupyter-widgets/base",
      "model_module_version": "1.1.0",
      "model_name": "LayoutModel",
      "state": {}
     },
     "983bacd177a448c8b42ff17dc92fa70f": {
      "model_module": "@jupyter-widgets/controls",
      "model_module_version": "1.4.0",
      "model_name": "ButtonStyleModel",
      "state": {}
     },
     "98852d989e6d4c328bacf8e78c3079ce": {
      "model_module": "@jupyter-widgets/controls",
      "model_module_version": "1.4.0",
      "model_name": "ButtonStyleModel",
      "state": {}
     },
     "9aa9fe0218fd4f2a9b168ed6b9562e2e": {
      "model_module": "@jupyter-widgets/controls",
      "model_module_version": "1.4.0",
      "model_name": "ButtonModel",
      "state": {
       "description": "Show answer",
       "layout": "IPY_MODEL_77ad584f2fe144dfa0828997dd530cef",
       "style": "IPY_MODEL_c36329f992f2484bb8b168810446cd4a",
       "tooltip": "Click meeeeee"
      }
     },
     "9b4d889e5fd2475485f248d88069515c": {
      "model_module": "@jupyter-widgets/controls",
      "model_module_version": "1.4.0",
      "model_name": "ButtonModel",
      "state": {
       "description": "Click me",
       "icon": "check",
       "layout": "IPY_MODEL_1b3e55d8b23c4f5296279bdfeda7ec60",
       "style": "IPY_MODEL_dcfb8a3777984a6eab1e28b45f3bff8d",
       "tooltip": "Click meeeeee"
      }
     },
     "9b68026315644ad0bea0f00e17a6568c": {
      "model_module": "@jupyter-widgets/base",
      "model_module_version": "1.1.0",
      "model_name": "LayoutModel",
      "state": {}
     },
     "9b6c854a32d0437bb8fee672f4d2a829": {
      "model_module": "@jupyter-widgets/controls",
      "model_module_version": "1.4.0",
      "model_name": "ButtonModel",
      "state": {
       "description": "Show answer",
       "icon": "ad",
       "layout": "IPY_MODEL_6aa1fe1b6f384748bc7781b3ce99d90b",
       "style": "IPY_MODEL_98852d989e6d4c328bacf8e78c3079ce",
       "tooltip": "Click meeeeee"
      }
     },
     "9c608efbc569493aa74158c83e7ca6c8": {
      "model_module": "@jupyter-widgets/base",
      "model_module_version": "1.1.0",
      "model_name": "LayoutModel",
      "state": {}
     },
     "9ce2c61078f145ae9fd9482d1205ea68": {
      "model_module": "@jupyter-widgets/controls",
      "model_module_version": "1.4.0",
      "model_name": "ButtonModel",
      "state": {
       "description": "Hide answer",
       "icon": "ad",
       "layout": "IPY_MODEL_4850d440bd3a474db27ae6b218a89983",
       "style": "IPY_MODEL_b931ecce608d463a8c3faa438eb4235b",
       "tooltip": "Click meeeeee"
      }
     },
     "9cee09d65e2d47d7b6b8947bc86ec5be": {
      "model_module": "@jupyter-widgets/controls",
      "model_module_version": "1.4.0",
      "model_name": "ButtonModel",
      "state": {
       "description": "Click me",
       "icon": "check",
       "layout": "IPY_MODEL_1395dafb3c6c41669a92421b47f2cbe2",
       "style": "IPY_MODEL_b2b5efb473c4484dbdd44a11939eb8dc",
       "tooltip": "Click meeeeee"
      }
     },
     "9dcf884e7af142cca4cfb5c8978f7795": {
      "model_module": "@jupyter-widgets/controls",
      "model_module_version": "1.4.0",
      "model_name": "ButtonModel",
      "state": {
       "description": "Show answer",
       "layout": "IPY_MODEL_621d832f454b496991426e498c1320b4",
       "style": "IPY_MODEL_620841e172714e5f91df94109af77e48",
       "tooltip": "Click meeeeee"
      }
     },
     "9f0e8f2347f645a49893ed8a364f1214": {
      "model_module": "@jupyter-widgets/controls",
      "model_module_version": "1.4.0",
      "model_name": "ButtonModel",
      "state": {
       "description": "Click me",
       "icon": "check",
       "layout": "IPY_MODEL_cd4af1b0f70f4447986e9edab0e77757",
       "style": "IPY_MODEL_502cfe6d96f1485285f2c0540b8936bf",
       "tooltip": "Click meeeeee"
      }
     },
     "9f1d09bf2bb347cebd91c7b1e4326caf": {
      "model_module": "@jupyter-widgets/base",
      "model_module_version": "1.1.0",
      "model_name": "LayoutModel",
      "state": {}
     },
     "a0b46350fb4b4ca38c21afcf19c8d5b4": {
      "model_module": "@jupyter-widgets/controls",
      "model_module_version": "1.4.0",
      "model_name": "ButtonStyleModel",
      "state": {}
     },
     "a0cc3fe6259b40d0acc88284d8ed1793": {
      "model_module": "@jupyter-widgets/controls",
      "model_module_version": "1.4.0",
      "model_name": "ButtonModel",
      "state": {
       "description": "Hide answer",
       "layout": "IPY_MODEL_9c608efbc569493aa74158c83e7ca6c8",
       "style": "IPY_MODEL_4718043c844b437fa11df4d134807e24",
       "tooltip": "Click me to hide the answer"
      }
     },
     "a0db6a9d3cdd413fbc3c09412bc5459c": {
      "model_module": "@jupyter-widgets/base",
      "model_module_version": "1.1.0",
      "model_name": "LayoutModel",
      "state": {}
     },
     "a227fe1a5487450e94cd606ca3af6a14": {
      "model_module": "@jupyter-widgets/base",
      "model_module_version": "1.1.0",
      "model_name": "LayoutModel",
      "state": {}
     },
     "a37f7ae59e074875869cb770d9588694": {
      "model_module": "@jupyter-widgets/base",
      "model_module_version": "1.1.0",
      "model_name": "LayoutModel",
      "state": {}
     },
     "a4601c0eb5354c198e0b86c12537dadb": {
      "model_module": "@jupyter-widgets/base",
      "model_module_version": "1.1.0",
      "model_name": "LayoutModel",
      "state": {}
     },
     "a58b7b00ef294cee9dbc0916bac92809": {
      "model_module": "@jupyter-widgets/base",
      "model_module_version": "1.1.0",
      "model_name": "LayoutModel",
      "state": {}
     },
     "aa2ab48977b84181a8402db712f53ba5": {
      "model_module": "@jupyter-widgets/controls",
      "model_module_version": "1.4.0",
      "model_name": "ButtonStyleModel",
      "state": {}
     },
     "aabef6039d5d4bb0ab49c752db51d9d1": {
      "model_module": "@jupyter-widgets/controls",
      "model_module_version": "1.4.0",
      "model_name": "ButtonModel",
      "state": {
       "description": "Show answer",
       "layout": "IPY_MODEL_7f600a2b6dbf4f609a266e953f7273f9",
       "style": "IPY_MODEL_1171c4ecddd6464ebb1aa3acd222a443",
       "tooltip": "Click meeeeee"
      }
     },
     "ab124f65221344bdbfbe5b0601d40376": {
      "model_module": "@jupyter-widgets/controls",
      "model_module_version": "1.4.0",
      "model_name": "ButtonModel",
      "state": {
       "description": "Lollololllollo",
       "layout": "IPY_MODEL_6b12b335ea3c4190ae4563072dbf5c2a",
       "style": "IPY_MODEL_701c2c1e8a4b4acd872e5348c46da2d9",
       "tooltip": "Click meeeeee"
      }
     },
     "ab2c65bb6d9941daac15964d94ae2c95": {
      "model_module": "@jupyter-widgets/controls",
      "model_module_version": "1.4.0",
      "model_name": "ButtonStyleModel",
      "state": {}
     },
     "abfe86a16a29472fa070ecbc78bb11f2": {
      "model_module": "@jupyter-widgets/controls",
      "model_module_version": "1.4.0",
      "model_name": "ButtonModel",
      "state": {
       "description": "Show answer",
       "layout": "IPY_MODEL_eaaba5caf48342a2a81b2c4dc53df993",
       "style": "IPY_MODEL_649cadb480404fd4a8bbe6d6a77c5ee7",
       "tooltip": "Click meeeeee"
      }
     },
     "ac6dfb7e3c1647dca1afc490c4d9e498": {
      "model_module": "@jupyter-widgets/controls",
      "model_module_version": "1.4.0",
      "model_name": "ButtonStyleModel",
      "state": {}
     },
     "ad8ffa6e168f49e8981ac673ba7093a1": {
      "model_module": "@jupyter-widgets/controls",
      "model_module_version": "1.4.0",
      "model_name": "ButtonModel",
      "state": {
       "description": "Click me",
       "icon": "check",
       "layout": "IPY_MODEL_4a587d910af040128ba26e293718af40",
       "style": "IPY_MODEL_5dd25e58430643f7b34bc985a4af1c9a",
       "tooltip": "Click meeeeee"
      }
     },
     "adca12708fee4cddbe536b77d8f2ba28": {
      "model_module": "@jupyter-widgets/base",
      "model_module_version": "1.1.0",
      "model_name": "LayoutModel",
      "state": {}
     },
     "b0c97aac6e7e4c02bce1dd44ee7afc81": {
      "model_module": "@jupyter-widgets/controls",
      "model_module_version": "1.4.0",
      "model_name": "ButtonStyleModel",
      "state": {}
     },
     "b0f11e5e5fd24ac799e70168c52842ec": {
      "model_module": "@jupyter-widgets/controls",
      "model_module_version": "1.4.0",
      "model_name": "ButtonStyleModel",
      "state": {}
     },
     "b28256c766674cda8515cdcd862cb53a": {
      "model_module": "@jupyter-widgets/base",
      "model_module_version": "1.1.0",
      "model_name": "LayoutModel",
      "state": {}
     },
     "b2b5efb473c4484dbdd44a11939eb8dc": {
      "model_module": "@jupyter-widgets/controls",
      "model_module_version": "1.4.0",
      "model_name": "ButtonStyleModel",
      "state": {}
     },
     "b3ee8dbd10b246c89b3fb0c5cddfd563": {
      "model_module": "@jupyter-widgets/base",
      "model_module_version": "1.1.0",
      "model_name": "LayoutModel",
      "state": {}
     },
     "b51e646a51ba4f3abe619acf4e2b5f8b": {
      "model_module": "@jupyter-widgets/controls",
      "model_module_version": "1.4.0",
      "model_name": "ButtonStyleModel",
      "state": {}
     },
     "b55e5591eb50422987839dde2f580ebe": {
      "model_module": "@jupyter-widgets/controls",
      "model_module_version": "1.4.0",
      "model_name": "ButtonStyleModel",
      "state": {}
     },
     "b6890b417ab24828a69676b10a217333": {
      "model_module": "@jupyter-widgets/base",
      "model_module_version": "1.1.0",
      "model_name": "LayoutModel",
      "state": {}
     },
     "b77456c14e7c41b4914faf2bc23ebd3d": {
      "model_module": "@jupyter-widgets/controls",
      "model_module_version": "1.4.0",
      "model_name": "DescriptionStyleModel",
      "state": {
       "description_width": ""
      }
     },
     "b7f703d495b347dbb61a950e1cff470a": {
      "model_module": "@jupyter-widgets/controls",
      "model_module_version": "1.4.0",
      "model_name": "ButtonStyleModel",
      "state": {}
     },
     "b845ed10089b41e3a1424bc98ac2cc00": {
      "model_module": "@jupyter-widgets/controls",
      "model_module_version": "1.4.0",
      "model_name": "ButtonModel",
      "state": {
       "description": "Reveal the answer",
       "layout": "IPY_MODEL_8926c5e142bc4363b6879afaad7c73d1",
       "style": "IPY_MODEL_d236e45e81e742ebb8c5beb87858ad7e",
       "tooltip": "Click meeeeee"
      }
     },
     "b931ecce608d463a8c3faa438eb4235b": {
      "model_module": "@jupyter-widgets/controls",
      "model_module_version": "1.4.0",
      "model_name": "ButtonStyleModel",
      "state": {}
     },
     "ba2b6fa4f2aa41c0afae35772f227417": {
      "model_module": "@jupyter-widgets/controls",
      "model_module_version": "1.4.0",
      "model_name": "ButtonModel",
      "state": {
       "description": "Hide answer",
       "layout": "IPY_MODEL_d4359548739441b5b3886c4a8ea23edc",
       "style": "IPY_MODEL_d6705fbe910d4dfa95db823201ec4bb8",
       "tooltip": "Click me to hide the answer"
      }
     },
     "bac5b26e55834cf780df9623fbd88972": {
      "model_module": "@jupyter-widgets/controls",
      "model_module_version": "1.4.0",
      "model_name": "ButtonModel",
      "state": {
       "description": "Click me",
       "icon": "check",
       "layout": "IPY_MODEL_a4601c0eb5354c198e0b86c12537dadb",
       "style": "IPY_MODEL_683d14a46ae5402e987faabb22a48f40",
       "tooltip": "Click meeeeee"
      }
     },
     "bc60a107923d4b948c6eae0158471326": {
      "model_module": "@jupyter-widgets/controls",
      "model_module_version": "1.4.0",
      "model_name": "DescriptionStyleModel",
      "state": {
       "description_width": ""
      }
     },
     "bd212fd12f094acc919c607b1050f77e": {
      "model_module": "@jupyter-widgets/base",
      "model_module_version": "1.1.0",
      "model_name": "LayoutModel",
      "state": {}
     },
     "bd2aba3f3085458bb0e9b163917836b5": {
      "model_module": "@jupyter-widgets/base",
      "model_module_version": "1.1.0",
      "model_name": "LayoutModel",
      "state": {}
     },
     "bd39530b345f43e285bed0863432960b": {
      "model_module": "@jupyter-widgets/base",
      "model_module_version": "1.1.0",
      "model_name": "LayoutModel",
      "state": {}
     },
     "bdb0846058d149e6bd76eea4d270a49c": {
      "model_module": "@jupyter-widgets/controls",
      "model_module_version": "1.4.0",
      "model_name": "ButtonStyleModel",
      "state": {}
     },
     "bf068e58a09949adb6a0d82cfcebe9b6": {
      "model_module": "@jupyter-widgets/controls",
      "model_module_version": "1.4.0",
      "model_name": "ButtonStyleModel",
      "state": {}
     },
     "bf9bb7227304424185ca9626168bcb3e": {
      "model_module": "@jupyter-widgets/controls",
      "model_module_version": "1.4.0",
      "model_name": "ButtonStyleModel",
      "state": {}
     },
     "bfdc4f75f26e43daab59530a0d0e5114": {
      "model_module": "@jupyter-widgets/base",
      "model_module_version": "1.1.0",
      "model_name": "LayoutModel",
      "state": {}
     },
     "c16a4c487c9e45cca51765f66adc6033": {
      "model_module": "@jupyter-widgets/controls",
      "model_module_version": "1.4.0",
      "model_name": "ButtonModel",
      "state": {
       "description": "Show answer",
       "layout": "IPY_MODEL_c7b68ba878c548a9ab6ceb7d16587ac3",
       "style": "IPY_MODEL_b0c97aac6e7e4c02bce1dd44ee7afc81",
       "tooltip": "Click me to show the answer"
      }
     },
     "c248d4daac494d3588cb08ecfa316b4b": {
      "model_module": "@jupyter-widgets/controls",
      "model_module_version": "1.4.0",
      "model_name": "ButtonStyleModel",
      "state": {}
     },
     "c27e42023a5a4f9a92fe6535dc3cbcb7": {
      "model_module": "@jupyter-widgets/controls",
      "model_module_version": "1.4.0",
      "model_name": "ButtonModel",
      "state": {
       "description": "Show answer",
       "layout": "IPY_MODEL_64e3b3000baa4effa86ac65bfa20e424",
       "style": "IPY_MODEL_d9f93eefac2e462293a250d6bb6a0725",
       "tooltip": "Click meeeeee"
      }
     },
     "c31e4dd981d04d9dac8ca6af2e4347f4": {
      "model_module": "@jupyter-widgets/controls",
      "model_module_version": "1.4.0",
      "model_name": "ButtonModel",
      "state": {
       "description": "Show answer",
       "icon": "check",
       "layout": "IPY_MODEL_404ff3fdd6254833ac5217b56ce85167",
       "style": "IPY_MODEL_26971cf044ba400ba468a4bb51d6cc96",
       "tooltip": "Click meeeeee"
      }
     },
     "c360d5fd8ee0493b94eca9cee36cf43d": {
      "model_module": "@jupyter-widgets/base",
      "model_module_version": "1.1.0",
      "model_name": "LayoutModel",
      "state": {}
     },
     "c36329f992f2484bb8b168810446cd4a": {
      "model_module": "@jupyter-widgets/controls",
      "model_module_version": "1.4.0",
      "model_name": "ButtonStyleModel",
      "state": {}
     },
     "c46a5036a78e492c9b2fceb01197d99b": {
      "model_module": "@jupyter-widgets/controls",
      "model_module_version": "1.4.0",
      "model_name": "ButtonModel",
      "state": {
       "description": "Show answer",
       "layout": "IPY_MODEL_bd2aba3f3085458bb0e9b163917836b5",
       "style": "IPY_MODEL_9023e042595849939f672e8dd2b0a71d",
       "tooltip": "Click me to show the answer"
      }
     },
     "c58dc2d3abc244639c4b3d4ddc29347f": {
      "model_module": "@jupyter-widgets/controls",
      "model_module_version": "1.4.0",
      "model_name": "ButtonModel",
      "state": {
       "description": "Hide answer",
       "layout": "IPY_MODEL_317b581dd7e04db9bc183032c07dcb4e",
       "style": "IPY_MODEL_d3bb20e2334342c7aa9b018cde9936ba",
       "tooltip": "Click meeeeee"
      }
     },
     "c60038dfaed2463a9e11052e8567e712": {
      "model_module": "@jupyter-widgets/controls",
      "model_module_version": "1.4.0",
      "model_name": "ButtonModel",
      "state": {
       "description": "Reveal the answer",
       "layout": "IPY_MODEL_29032d22faed4910b1c4edde9fcd1093",
       "style": "IPY_MODEL_1b5378f8176542728a79197919b035cc",
       "tooltip": "The button will disappear when pressed and consequently reveals the answer"
      }
     },
     "c6d80bc56736429a9d67fa899cfd3379": {
      "model_module": "@jupyter-widgets/controls",
      "model_module_version": "1.4.0",
      "model_name": "ButtonModel",
      "state": {
       "description": "Click me",
       "disabled": true,
       "icon": "check",
       "layout": "IPY_MODEL_cd76721353f845d68513c819cb27ede5",
       "style": "IPY_MODEL_dbed944f73554890a9275b798e23db18",
       "tooltip": "Click meeeeee"
      }
     },
     "c73a15052b9548bfa9a2caf143c89605": {
      "model_module": "@jupyter-widgets/base",
      "model_module_version": "1.1.0",
      "model_name": "LayoutModel",
      "state": {}
     },
     "c7b68ba878c548a9ab6ceb7d16587ac3": {
      "model_module": "@jupyter-widgets/base",
      "model_module_version": "1.1.0",
      "model_name": "LayoutModel",
      "state": {}
     },
     "c8e2efcbad7642db9129ca51e7a56850": {
      "model_module": "@jupyter-widgets/controls",
      "model_module_version": "1.4.0",
      "model_name": "ButtonModel",
      "state": {
       "description": "Click me",
       "icon": "check",
       "layout": "IPY_MODEL_237738c931304a4898899299b008835c",
       "style": "IPY_MODEL_29a25e3e875545bbbca9e5c6765fd89d",
       "tooltip": "Click meeeeee"
      }
     },
     "c92291a952a3403283ecebbd34c67858": {
      "model_module": "@jupyter-widgets/controls",
      "model_module_version": "1.4.0",
      "model_name": "ButtonStyleModel",
      "state": {}
     },
     "c9d7c699f70a4db3b7a8c4a22ee985d3": {
      "model_module": "@jupyter-widgets/controls",
      "model_module_version": "1.4.0",
      "model_name": "ButtonModel",
      "state": {
       "description": "Show answer",
       "icon": "apple-pay",
       "layout": "IPY_MODEL_97d301fccba848fea0c5e916fa4770e5",
       "style": "IPY_MODEL_406c539ae61e4161971a33f931707a8a",
       "tooltip": "Click meeeeee"
      }
     },
     "ca03465b2fbf453baf07334f5e6d3c31": {
      "model_module": "@jupyter-widgets/base",
      "model_module_version": "1.1.0",
      "model_name": "LayoutModel",
      "state": {}
     },
     "ca1eedf0a9eb43758259e4fe84536a94": {
      "model_module": "@jupyter-widgets/controls",
      "model_module_version": "1.4.0",
      "model_name": "ButtonStyleModel",
      "state": {}
     },
     "cab8b32134f64583b1af9bae568cffa1": {
      "model_module": "@jupyter-widgets/base",
      "model_module_version": "1.1.0",
      "model_name": "LayoutModel",
      "state": {}
     },
     "cb8e975e6c7d4422b25ad971951a7201": {
      "model_module": "@jupyter-widgets/controls",
      "model_module_version": "1.4.0",
      "model_name": "ButtonModel",
      "state": {
       "description": "Reveal the answer",
       "layout": "IPY_MODEL_fa939226e6a247728198766bfaacbf78",
       "style": "IPY_MODEL_62e0a04d7f06439988072ec510097936",
       "tooltip": "The button will disappear when pressed and consequently reveals the answer"
      }
     },
     "cb94895571b34765bd5553608f7675bc": {
      "model_module": "@jupyter-widgets/controls",
      "model_module_version": "1.4.0",
      "model_name": "DescriptionStyleModel",
      "state": {
       "description_width": ""
      }
     },
     "cbdbd83043a347aba6703229d868a194": {
      "model_module": "@jupyter-widgets/controls",
      "model_module_version": "1.4.0",
      "model_name": "ButtonModel",
      "state": {
       "description": "Hide answer",
       "layout": "IPY_MODEL_4fbca0292ed54a3d8e956f42e907bc72",
       "style": "IPY_MODEL_d0935a298c064d4394f3d7818c98e212",
       "tooltip": "Click me to hide the answer"
      }
     },
     "ccec3d4e21c74e279ff898446504fb2f": {
      "model_module": "@jupyter-widgets/controls",
      "model_module_version": "1.4.0",
      "model_name": "ButtonStyleModel",
      "state": {}
     },
     "cd4af1b0f70f4447986e9edab0e77757": {
      "model_module": "@jupyter-widgets/base",
      "model_module_version": "1.1.0",
      "model_name": "LayoutModel",
      "state": {}
     },
     "cd76721353f845d68513c819cb27ede5": {
      "model_module": "@jupyter-widgets/base",
      "model_module_version": "1.1.0",
      "model_name": "LayoutModel",
      "state": {}
     },
     "cdda4cec72dd4aaab839e91afe53a311": {
      "model_module": "@jupyter-widgets/controls",
      "model_module_version": "1.4.0",
      "model_name": "ButtonModel",
      "state": {
       "description": "Hide answer",
       "icon": "ad",
       "layout": "IPY_MODEL_603d98fdfd164d95a1b04c9e4263002a",
       "style": "IPY_MODEL_966382c8e993409aaaec9d7c715bdf4a",
       "tooltip": "Click meeeeee"
      }
     },
     "cf8fca9c928c478bb05d707947d74e69": {
      "model_module": "@jupyter-widgets/base",
      "model_module_version": "1.1.0",
      "model_name": "LayoutModel",
      "state": {}
     },
     "d0935a298c064d4394f3d7818c98e212": {
      "model_module": "@jupyter-widgets/controls",
      "model_module_version": "1.4.0",
      "model_name": "ButtonStyleModel",
      "state": {}
     },
     "d0ecf4329ee04b5da06beb8e1ef73ae2": {
      "model_module": "@jupyter-widgets/base",
      "model_module_version": "1.1.0",
      "model_name": "LayoutModel",
      "state": {}
     },
     "d183a0913804408782c2900f13407bf6": {
      "model_module": "@jupyter-widgets/controls",
      "model_module_version": "1.4.0",
      "model_name": "ButtonStyleModel",
      "state": {}
     },
     "d236e45e81e742ebb8c5beb87858ad7e": {
      "model_module": "@jupyter-widgets/controls",
      "model_module_version": "1.4.0",
      "model_name": "ButtonStyleModel",
      "state": {}
     },
     "d26a34ca3bdc422aad3370eb39b819d9": {
      "model_module": "@jupyter-widgets/controls",
      "model_module_version": "1.4.0",
      "model_name": "ButtonModel",
      "state": {
       "description": "Hide answer",
       "layout": "IPY_MODEL_bd39530b345f43e285bed0863432960b",
       "style": "IPY_MODEL_5f9f00d7f2de42918358da8048df493a",
       "tooltip": "Click meeeeee"
      }
     },
     "d33680c36944489b9bd5335bebf42ad8": {
      "model_module": "@jupyter-widgets/controls",
      "model_module_version": "1.4.0",
      "model_name": "ButtonStyleModel",
      "state": {}
     },
     "d379f09e429d431b843adbe482306177": {
      "model_module": "@jupyter-widgets/base",
      "model_module_version": "1.1.0",
      "model_name": "LayoutModel",
      "state": {}
     },
     "d3bb20e2334342c7aa9b018cde9936ba": {
      "model_module": "@jupyter-widgets/controls",
      "model_module_version": "1.4.0",
      "model_name": "ButtonStyleModel",
      "state": {}
     },
     "d3dd36ce2d9343558281f4e5339ffe65": {
      "model_module": "@jupyter-widgets/controls",
      "model_module_version": "1.4.0",
      "model_name": "ButtonStyleModel",
      "state": {}
     },
     "d4359548739441b5b3886c4a8ea23edc": {
      "model_module": "@jupyter-widgets/base",
      "model_module_version": "1.1.0",
      "model_name": "LayoutModel",
      "state": {}
     },
     "d6705fbe910d4dfa95db823201ec4bb8": {
      "model_module": "@jupyter-widgets/controls",
      "model_module_version": "1.4.0",
      "model_name": "ButtonStyleModel",
      "state": {}
     },
     "d7722c830eee4e449e4b9fbe54df9fff": {
      "model_module": "@jupyter-widgets/base",
      "model_module_version": "1.1.0",
      "model_name": "LayoutModel",
      "state": {}
     },
     "d887ad142c584b1490e05cc773754c5b": {
      "model_module": "@jupyter-widgets/controls",
      "model_module_version": "1.4.0",
      "model_name": "ToggleButtonModel",
      "state": {
       "description": "Click me",
       "icon": "check",
       "layout": "IPY_MODEL_8802c9c46dab40dcb23c0e6836588f17",
       "style": "IPY_MODEL_cb94895571b34765bd5553608f7675bc",
       "tooltip": "Description",
       "value": true
      }
     },
     "d972957806c14882b41525cc2943f71e": {
      "model_module": "@jupyter-widgets/controls",
      "model_module_version": "1.4.0",
      "model_name": "ButtonModel",
      "state": {
       "description": "Click me",
       "icon": "check",
       "layout": "IPY_MODEL_a227fe1a5487450e94cd606ca3af6a14",
       "style": "IPY_MODEL_0f0c35f0cd1843789af9d9fc8a0e0295",
       "tooltip": "Click meeeeee"
      }
     },
     "d9f93eefac2e462293a250d6bb6a0725": {
      "model_module": "@jupyter-widgets/controls",
      "model_module_version": "1.4.0",
      "model_name": "ButtonStyleModel",
      "state": {}
     },
     "db9281dd330848d2b9a6dc4f2b3d7632": {
      "model_module": "@jupyter-widgets/base",
      "model_module_version": "1.1.0",
      "model_name": "LayoutModel",
      "state": {}
     },
     "dbe0b42dbfb04362a848a4b56eca4855": {
      "model_module": "@jupyter-widgets/base",
      "model_module_version": "1.1.0",
      "model_name": "LayoutModel",
      "state": {}
     },
     "dbed944f73554890a9275b798e23db18": {
      "model_module": "@jupyter-widgets/controls",
      "model_module_version": "1.4.0",
      "model_name": "ButtonStyleModel",
      "state": {}
     },
     "dcfb8a3777984a6eab1e28b45f3bff8d": {
      "model_module": "@jupyter-widgets/controls",
      "model_module_version": "1.4.0",
      "model_name": "ButtonStyleModel",
      "state": {}
     },
     "dd0494d57b404663a81263c0d17f0a39": {
      "model_module": "@jupyter-widgets/base",
      "model_module_version": "1.1.0",
      "model_name": "LayoutModel",
      "state": {}
     },
     "de5b942bc2e547618d0770d512c5a5b6": {
      "model_module": "@jupyter-widgets/base",
      "model_module_version": "1.1.0",
      "model_name": "LayoutModel",
      "state": {}
     },
     "de68f0b0deed4944b21f82519fb5e7d5": {
      "model_module": "@jupyter-widgets/controls",
      "model_module_version": "1.4.0",
      "model_name": "ButtonModel",
      "state": {
       "description": "Hide answer",
       "icon": "ad",
       "layout": "IPY_MODEL_30bdabb97654479b86cccb5ba9c57d60",
       "style": "IPY_MODEL_8a042748eb4e42018c0dd500999db91f",
       "tooltip": "Click meeeeee"
      }
     },
     "de9909d922cc4636aedbe0f0b835c3ca": {
      "model_module": "@jupyter-widgets/controls",
      "model_module_version": "1.4.0",
      "model_name": "ButtonModel",
      "state": {
       "description": "Click me",
       "disabled": true,
       "icon": "check",
       "layout": "IPY_MODEL_9b68026315644ad0bea0f00e17a6568c",
       "style": "IPY_MODEL_f04e06468f7740dcada412790012c8ac",
       "tooltip": "Click me"
      }
     },
     "decf7417260844a7ae5fb3db0e9382f9": {
      "model_module": "@jupyter-widgets/controls",
      "model_module_version": "1.4.0",
      "model_name": "ButtonModel",
      "state": {
       "description": "OG knapperne kan tilpasses!",
       "layout": "IPY_MODEL_bd212fd12f094acc919c607b1050f77e",
       "style": "IPY_MODEL_d3dd36ce2d9343558281f4e5339ffe65",
       "tooltip": "Click meeeeee"
      }
     },
     "df5a8e727a904903a9bc2667e1f7f447": {
      "model_module": "@jupyter-widgets/controls",
      "model_module_version": "1.4.0",
      "model_name": "ButtonModel",
      "state": {
       "description": "Reveal the answer",
       "layout": "IPY_MODEL_7ca27dffb5384fcca56e5710e9943a7b",
       "style": "IPY_MODEL_0bc950e37c624bad9db7dd25999bd31c",
       "tooltip": "Click meeeeee"
      }
     },
     "dfa76ece65c7498d9291bf56a5f70f63": {
      "model_module": "@jupyter-widgets/base",
      "model_module_version": "1.1.0",
      "model_name": "LayoutModel",
      "state": {}
     },
     "e038c27ac9cc4ed9a9b6bc524e9b32d2": {
      "model_module": "@jupyter-widgets/controls",
      "model_module_version": "1.4.0",
      "model_name": "ButtonStyleModel",
      "state": {}
     },
     "e05c3202e39d40a299bebe18581083fd": {
      "model_module": "@jupyter-widgets/controls",
      "model_module_version": "1.4.0",
      "model_name": "ButtonModel",
      "state": {
       "description": "Click me",
       "icon": "check",
       "layout": "IPY_MODEL_920f2534ed0941a696fb5a755a64073e",
       "style": "IPY_MODEL_ec45c137a7974dbd91fd5c3ed68b391c",
       "tooltip": "Click me"
      }
     },
     "e0d486e217904191a97b709a7cd6baac": {
      "model_module": "@jupyter-widgets/base",
      "model_module_version": "1.1.0",
      "model_name": "LayoutModel",
      "state": {}
     },
     "e0ff3c2671b546d6afcabe41c12f58bc": {
      "model_module": "@jupyter-widgets/base",
      "model_module_version": "1.1.0",
      "model_name": "LayoutModel",
      "state": {}
     },
     "e120c365c5e54875bf2104d13ab85b44": {
      "model_module": "@jupyter-widgets/base",
      "model_module_version": "1.1.0",
      "model_name": "LayoutModel",
      "state": {}
     },
     "e143c6675d8f4817beb8d620630462c8": {
      "model_module": "@jupyter-widgets/base",
      "model_module_version": "1.1.0",
      "model_name": "LayoutModel",
      "state": {}
     },
     "e416547fe31149e58b419e2d1a9231d2": {
      "model_module": "@jupyter-widgets/base",
      "model_module_version": "1.1.0",
      "model_name": "LayoutModel",
      "state": {}
     },
     "e4e85b4125d041a593172e1737ed539a": {
      "model_module": "@jupyter-widgets/controls",
      "model_module_version": "1.4.0",
      "model_name": "ButtonStyleModel",
      "state": {}
     },
     "e6fd41b2ff294b26bc1dc308da6093df": {
      "model_module": "@jupyter-widgets/controls",
      "model_module_version": "1.4.0",
      "model_name": "ButtonModel",
      "state": {
       "description": "Show answer",
       "layout": "IPY_MODEL_c360d5fd8ee0493b94eca9cee36cf43d",
       "style": "IPY_MODEL_b51e646a51ba4f3abe619acf4e2b5f8b",
       "tooltip": "Click meeeeee"
      }
     },
     "e80cd9916aaf497281b18383ee2bdeb9": {
      "model_module": "@jupyter-widgets/controls",
      "model_module_version": "1.4.0",
      "model_name": "ButtonModel",
      "state": {
       "description": "Hide answer",
       "layout": "IPY_MODEL_e0d486e217904191a97b709a7cd6baac",
       "style": "IPY_MODEL_25271838b3f64c6daba7a024f5e932b7",
       "tooltip": "Click me to hide the answer"
      }
     },
     "e89a602e41b343b0a54e6c134d0e41cf": {
      "model_module": "@jupyter-widgets/controls",
      "model_module_version": "1.4.0",
      "model_name": "ButtonModel",
      "state": {
       "description": "Hide answer",
       "layout": "IPY_MODEL_fc700f0eab1843348180537f3c187dbf",
       "style": "IPY_MODEL_4cc40d8d0f274d298a16405a16fbe1fa",
       "tooltip": "Click meeeeee"
      }
     },
     "e9c23b08ba5f41ebadf98337e7687299": {
      "model_module": "@jupyter-widgets/controls",
      "model_module_version": "1.4.0",
      "model_name": "ButtonStyleModel",
      "state": {}
     },
     "eaaba5caf48342a2a81b2c4dc53df993": {
      "model_module": "@jupyter-widgets/base",
      "model_module_version": "1.1.0",
      "model_name": "LayoutModel",
      "state": {}
     },
     "eaac739603ef4a16b648e0aa74ffd463": {
      "model_module": "@jupyter-widgets/controls",
      "model_module_version": "1.4.0",
      "model_name": "ButtonStyleModel",
      "state": {}
     },
     "eb19344dfb6548dea4be8a7f6df431a2": {
      "model_module": "@jupyter-widgets/controls",
      "model_module_version": "1.4.0",
      "model_name": "ButtonModel",
      "state": {
       "description": "Click me",
       "disabled": true,
       "icon": "check",
       "layout": "IPY_MODEL_ca03465b2fbf453baf07334f5e6d3c31",
       "style": "IPY_MODEL_60a54f4236c8446a95b35134cc887ca8",
       "tooltip": "Click meeeeee"
      }
     },
     "ec334e6c973d4b87911abfd088b86958": {
      "model_module": "@jupyter-widgets/controls",
      "model_module_version": "1.4.0",
      "model_name": "ButtonStyleModel",
      "state": {}
     },
     "ec45c137a7974dbd91fd5c3ed68b391c": {
      "model_module": "@jupyter-widgets/controls",
      "model_module_version": "1.4.0",
      "model_name": "ButtonStyleModel",
      "state": {}
     },
     "ecd1da4946404aed82f5297a503ff292": {
      "model_module": "@jupyter-widgets/controls",
      "model_module_version": "1.4.0",
      "model_name": "ButtonModel",
      "state": {
       "description": "Show answer",
       "layout": "IPY_MODEL_3227e9b0fc6c47a18ad4598c371c5da1",
       "style": "IPY_MODEL_aa2ab48977b84181a8402db712f53ba5",
       "tooltip": "Click meeeeee"
      }
     },
     "ed85c4034ad44f1ea9ebe68c7ea82f0d": {
      "model_module": "@jupyter-widgets/controls",
      "model_module_version": "1.4.0",
      "model_name": "ButtonModel",
      "state": {
       "description": "Click me",
       "disabled": true,
       "icon": "check",
       "layout": "IPY_MODEL_e120c365c5e54875bf2104d13ab85b44",
       "style": "IPY_MODEL_e9c23b08ba5f41ebadf98337e7687299",
       "tooltip": "Click meeeeee"
      }
     },
     "edbcfff578ea412c8e7c37076e8735ce": {
      "model_module": "@jupyter-widgets/controls",
      "model_module_version": "1.4.0",
      "model_name": "ButtonStyleModel",
      "state": {}
     },
     "ef53db8fcd6642e68c5191caa520792b": {
      "model_module": "@jupyter-widgets/controls",
      "model_module_version": "1.4.0",
      "model_name": "ToggleButtonModel",
      "state": {
       "description": "Click me",
       "icon": "check",
       "layout": "IPY_MODEL_4bc7d905421d42448ad9db3837b9ae34",
       "style": "IPY_MODEL_b77456c14e7c41b4914faf2bc23ebd3d",
       "tooltip": "Description",
       "value": true
      }
     },
     "f04e06468f7740dcada412790012c8ac": {
      "model_module": "@jupyter-widgets/controls",
      "model_module_version": "1.4.0",
      "model_name": "ButtonStyleModel",
      "state": {}
     },
     "f128cdb8c23e4cdb84e36ae73e95915e": {
      "model_module": "@jupyter-widgets/base",
      "model_module_version": "1.1.0",
      "model_name": "LayoutModel",
      "state": {}
     },
     "f261f5ec0d5d486d918bd3189b0138ec": {
      "model_module": "@jupyter-widgets/base",
      "model_module_version": "1.1.0",
      "model_name": "LayoutModel",
      "state": {}
     },
     "f3c46ca167014c918f21e634aed37421": {
      "model_module": "@jupyter-widgets/base",
      "model_module_version": "1.1.0",
      "model_name": "LayoutModel",
      "state": {}
     },
     "f468430b688544599c4006038b5b7871": {
      "model_module": "@jupyter-widgets/base",
      "model_module_version": "1.1.0",
      "model_name": "LayoutModel",
      "state": {}
     },
     "f65aafe7b9114836816d9a34445be965": {
      "model_module": "@jupyter-widgets/controls",
      "model_module_version": "1.4.0",
      "model_name": "ButtonModel",
      "state": {
       "description": "Hide answer",
       "layout": "IPY_MODEL_4fd3d162c348499cb77693cce481d1a5",
       "style": "IPY_MODEL_42bc416512b8476791a75bbbb1f7e57a",
       "tooltip": "Click me to hide the answer"
      }
     },
     "f7d0a64d5c194eb3956e11a817abc1fd": {
      "model_module": "@jupyter-widgets/base",
      "model_module_version": "1.1.0",
      "model_name": "LayoutModel",
      "state": {}
     },
     "f8690a50701744d0b98e3e3ee24c9215": {
      "model_module": "@jupyter-widgets/base",
      "model_module_version": "1.1.0",
      "model_name": "LayoutModel",
      "state": {}
     },
     "f8b85ab64af74f66b53d0214450ebea3": {
      "model_module": "@jupyter-widgets/controls",
      "model_module_version": "1.4.0",
      "model_name": "ButtonModel",
      "state": {
       "description": "Show answer",
       "layout": "IPY_MODEL_8c8b36f5d5fc4220b36f0b384c7fcf0b",
       "style": "IPY_MODEL_0d32c14595e647da953d59407d84a5dc",
       "tooltip": "Click meeeeee"
      }
     },
     "f951fd121ff1473a8359f4f3f1a43cfc": {
      "model_module": "@jupyter-widgets/controls",
      "model_module_version": "1.4.0",
      "model_name": "ButtonStyleModel",
      "state": {}
     },
     "f9778f3256c64f0e8f7ae1add7ec7a47": {
      "model_module": "@jupyter-widgets/controls",
      "model_module_version": "1.4.0",
      "model_name": "ButtonStyleModel",
      "state": {}
     },
     "fa939226e6a247728198766bfaacbf78": {
      "model_module": "@jupyter-widgets/base",
      "model_module_version": "1.1.0",
      "model_name": "LayoutModel",
      "state": {}
     },
     "fb2ab5ed5b194588a4a1376c55156873": {
      "model_module": "@jupyter-widgets/base",
      "model_module_version": "1.1.0",
      "model_name": "LayoutModel",
      "state": {}
     },
     "fb44acb92557437491bd2b11b964f2e2": {
      "model_module": "@jupyter-widgets/controls",
      "model_module_version": "1.4.0",
      "model_name": "ButtonModel",
      "state": {
       "description": "Reveal the answer",
       "layout": "IPY_MODEL_6e1064c978bc4d7eb73cc73c26477740",
       "style": "IPY_MODEL_8e871b03ddbf479e8a65642e872a7090",
       "tooltip": "Click meeeeee"
      }
     },
     "fb794ff9923843989e28d15a2a3a3258": {
      "model_module": "@jupyter-widgets/controls",
      "model_module_version": "1.4.0",
      "model_name": "ButtonModel",
      "state": {
       "description": "Hide answer",
       "layout": "IPY_MODEL_49b29097a2c84a64ab4cdd29a65a6f51",
       "style": "IPY_MODEL_bf9bb7227304424185ca9626168bcb3e",
       "tooltip": "Click meeeeee"
      }
     },
     "fb79d36bf871470797345e38940babc1": {
      "model_module": "@jupyter-widgets/base",
      "model_module_version": "1.1.0",
      "model_name": "LayoutModel",
      "state": {}
     },
     "fbeda4d01116490db623d6d415be9b7b": {
      "model_module": "@jupyter-widgets/controls",
      "model_module_version": "1.4.0",
      "model_name": "ButtonModel",
      "state": {
       "description": "Click me",
       "icon": "check",
       "layout": "IPY_MODEL_21bf8f07487d4e4d84096fee11cf3640",
       "style": "IPY_MODEL_497900fe7cdb4bf99a028d812a09a035",
       "tooltip": "Click meeeeee"
      }
     },
     "fc4cddde348344138d59f7a75c9a65b2": {
      "model_module": "@jupyter-widgets/base",
      "model_module_version": "1.1.0",
      "model_name": "LayoutModel",
      "state": {}
     },
     "fc700f0eab1843348180537f3c187dbf": {
      "model_module": "@jupyter-widgets/base",
      "model_module_version": "1.1.0",
      "model_name": "LayoutModel",
      "state": {}
     },
     "fd4eb9156cf44f7da58ff229fe377af8": {
      "model_module": "@jupyter-widgets/controls",
      "model_module_version": "1.4.0",
      "model_name": "ButtonModel",
      "state": {
       "description": "Click me",
       "icon": "check",
       "layout": "IPY_MODEL_fb79d36bf871470797345e38940babc1",
       "style": "IPY_MODEL_fd8b586e14ec43b3913821ff251eb7c7",
       "tooltip": "Click meeeeee"
      }
     },
     "fd8b586e14ec43b3913821ff251eb7c7": {
      "model_module": "@jupyter-widgets/controls",
      "model_module_version": "1.4.0",
      "model_name": "ButtonStyleModel",
      "state": {}
     },
     "fdabe4856ac04c92af1a6d25fb0ba6c3": {
      "model_module": "@jupyter-widgets/controls",
      "model_module_version": "1.4.0",
      "model_name": "ButtonModel",
      "state": {
       "description": "Click me",
       "icon": "check",
       "layout": "IPY_MODEL_db9281dd330848d2b9a6dc4f2b3d7632",
       "style": "IPY_MODEL_1d9a32f8f50c49fa8109be1a720274ef",
       "tooltip": "Click meeeeee"
      }
     },
     "fe1614fe5caa478d991505d749a61839": {
      "model_module": "@jupyter-widgets/controls",
      "model_module_version": "1.4.0",
      "model_name": "ButtonModel",
      "state": {
       "description": "Click me",
       "icon": "check",
       "layout": "IPY_MODEL_1021fdee5e884bfca5ebf984491edaa8",
       "style": "IPY_MODEL_2d812b64bf904ea7bc0b68e776816e14",
       "tooltip": "Click meeeeee"
      }
     },
     "fffea85a75d3458e8da898fb5ffde1bd": {
      "model_module": "@jupyter-widgets/controls",
      "model_module_version": "1.4.0",
      "model_name": "ButtonStyleModel",
      "state": {}
     }
    },
    "version_major": 2,
    "version_minor": 0
   }
  }
 },
 "nbformat": 4,
 "nbformat_minor": 2
}
