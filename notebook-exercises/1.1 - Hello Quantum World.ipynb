{
 "cells": [
  {
   "cell_type": "markdown",
   "metadata": {},
   "source": [
    "# 1.1 Exercise 1 - Our first Quantum Program: Hello Quantum World"
   ]
  },
  {
   "cell_type": "markdown",
   "metadata": {},
   "source": [
    "---\n",
    "## 1.1.0 Import of libraries for the program"
   ]
  },
  {
   "cell_type": "code",
   "execution_count": null,
   "metadata": {},
   "outputs": [],
   "source": [
    "# Full import of Qiskit library\n",
    "from qiskit import *"
   ]
  },
  {
   "cell_type": "markdown",
   "metadata": {},
   "source": [
    "---\n",
    "## 1.1.1 The Quantum Circuit\n",
    "For our first Quantum Program, we will input 2x |0<b>⟩</b> Qubits, then measure the output of the Qubits, which should yield the output: 00.<br>\n",
    "\n",
    "When we initiate our quantum program, we need three components:<br>\n",
    "**Quantum Registers:** Registers which consist of Qubits.<br>\n",
    "**Classical Registers:** Registers containing classical bits.<br>\n",
    "**Quantum Circuit:** A circuit to setup the experiment.<br>\n",
    "\n",
    "<strong style=\"color: orange;\">Firstly</strong>, we create a quantum register with 2 Qubits and a classical register with 2 bits and set them into the circuit using the script below:"
   ]
  },
  {
   "cell_type": "code",
   "execution_count": null,
   "metadata": {},
   "outputs": [],
   "source": [
    "try:\n",
    "    # Create a Quantum Register with 2 Qubits.\n",
    "    qr = #⚠️⚠️⚠️⚠️⚠️ Replace this comment with a QuantumRegister with the same format as the ClassicalRegister below\"⚠️⚠️⚠️⚠️⚠️\n",
    "\n",
    "    # Create a classical register with 2 bits\n",
    "    cr = ClassicalRegister(2)\n",
    "\n",
    "    # Create a Quantum Circuit containing our QR and CR. \n",
    "    circuit = QuantumCircuit(qr,cr)\n",
    "    \n",
    "except NameError:\n",
    "    print(\"ERROR: You have not run the library import block above correctly\\n\"*10)"
   ]
  },
  {
   "cell_type": "markdown",
   "metadata": {},
   "source": [
    "<div class=\"alert alert-block alert-warning\">\n",
    "    <b>Note:</b> When we execute our Quantum Program and measure the Qubits in the end, always reading either 1 or 0, the information is stored in the Classical Register and subsequently returned to us as the output of the Quantum Program.\n",
    "</div>\n"
   ]
  },
  {
   "cell_type": "markdown",
   "metadata": {},
   "source": [
    "---\n",
    "## 1.1.2 Adding operations to the Quantum Circuit\n",
    "<strong style=\"color: orange;\">Secondly</strong>, we add the measurement operations."
   ]
  },
  {
   "cell_type": "code",
   "execution_count": null,
   "metadata": {},
   "outputs": [],
   "source": [
    "# Add a measurement gate here as presented on stage or if you are at home, write \"circuit.measure(qr, cr)\"\n",
    "circuit. #TODO: ⚠️⚠️⚠️⚠️⚠️ Write out the rest of a measurement Operation (Hint: Look above) ⚠️⚠️⚠️⚠️⚠️"
   ]
  },
  {
   "cell_type": "markdown",
   "metadata": {},
   "source": [
    "---\n",
    "## 1.1.3 Visualising the Quantum Circuit \n",
    "<strong style=\"color: orange;\">Thirdly</strong>, as we want to view our circuit, we call the circuit.draw() function, which prints the Quantum Register (represented as single lines), the Classical Register (represented as double lines) and all the operations that have been added to the circuit (Which in this case is only measuring operations)."
   ]
  },
  {
   "cell_type": "code",
   "execution_count": null,
   "metadata": {},
   "outputs": [],
   "source": [
    "circuit.draw(output='mpl')"
   ]
  },
  {
   "cell_type": "markdown",
   "metadata": {},
   "source": [
    "---\n",
    "## 1.1.4 Run the Quantum Program\n",
    "<strong style=\"color: orange;\">Lastly</strong>, to measure the Qubit, we need to run the Quantum Program using a tool from Qiskit called the BasicAer module. From the BasicAer module, we will import a Quantum Simulator, which simulates how our Quantum Computer would process the Quantum Program. *(Don't worry: The real thing comes later)*"
   ]
  },
  {
   "cell_type": "code",
   "execution_count": null,
   "metadata": {},
   "outputs": [],
   "source": [
    "# Load the backend to run our Quantum Program\n",
    "backend = BasicAer.get_backend('statevector_simulator')\n",
    "\n",
    "# Execute the Quantum Program\n",
    "job = qiskit.execute(circuit, backend)\n",
    "\n",
    "# Get the results from the job\n",
    "result = job.result()\n",
    "\n",
    "# Print the result\n",
    "result.get_counts(circuit)"
   ]
  },
  {
   "cell_type": "markdown",
   "metadata": {},
   "source": [
    "---\n",
    "## Extra: The graphic Online IBM Quantum Composer\n",
    "IBM Offers an interactive tool online, which can be seen below.<br> \n",
    "It too has a Quantum Register with Qubits in it and a Classical Register that stores the measured values (the bottom line with a \"c5\" in front of it).\n",
    "\n",
    "Above the cuircuit you may notice some colorful boxes with letters in them, these are Quantum Gates which containes one specific operation each that can be applied to a Qubit by drag-and-drop."
   ]
  },
  {
   "attachments": {},
   "cell_type": "markdown",
   "metadata": {},
   "source": [
    "![title](../images/IBM_Quantum_Composer.png)"
   ]
  },
  {
   "cell_type": "markdown",
   "metadata": {},
   "source": [
    "---\n",
    "## Next Jupyter notebook - Now let's perform some operations on the Qubit!\n",
    "[1.2 Exercise - [x]-gate operation on Qubit](1.2%20-%20Gate%20operation%20-%20X-gate.ipynb)"
   ]
  }
 ],
 "metadata": {
  "kernelspec": {
   "display_name": "Python 3",
   "language": "python",
   "name": "python3"
  },
  "language_info": {
   "codemirror_mode": {
    "name": "ipython",
    "version": 3
   },
   "file_extension": ".py",
   "mimetype": "text/x-python",
   "name": "python",
   "nbconvert_exporter": "python",
   "pygments_lexer": "ipython3",
   "version": "3.8.5"
  }
 },
 "nbformat": 4,
 "nbformat_minor": 2
}
