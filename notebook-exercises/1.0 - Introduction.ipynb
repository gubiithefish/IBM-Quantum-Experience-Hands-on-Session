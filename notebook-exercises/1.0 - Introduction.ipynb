{
 "cells": [
  {
   "cell_type": "markdown",
   "metadata": {},
   "source": [
    "# 1.0 Introduction\n",
    "This notebook is constructed as a part of the Quantum Experience Hands-on session.<br>\n",
    "The purpose of this notebook is to give an introduction to the most commonly used functions available in the Qiskit framework.<br>\n",
    "\n",
    "Before we start coding, it is important to have some basic knowledge about how the mechanics of a quantum computer work and how it can be utilized."
   ]
  },
  {
   "cell_type": "markdown",
   "metadata": {},
   "source": [
    "---\n",
    "## 1.0.1 Qubit\n",
    "When we talk about classical computing, we often hear the word 'bit' and _bit_ can refer to zero and one - You can also think it as a binary state, where you have a switch that can be turn off and it can be turned on - either 0 or 1. A quantum computer uses quantum bits, or _qubits_, where the two corresponding states for a qubit are the states |0<b>⟩</b> and |1<b>⟩</b>. \n",
    "\n",
    "However, qubits are not restricted to being either |0<b>⟩</b> or |1<b>⟩</b>, but can be either combination of a zero or a one with a quantum mechanical principel called Superposition.\n",
    "\n",
    "<div class=\"alert alert-block alert-warning\">\n",
    "    <b>Note:</b> Notation like ‘| ⟩’ is called the Dirac notation, and we’ll be seeing it often, as it’s the standard notation for states in quantum mechanics.\n",
    "</div>"
   ]
  },
  {
   "cell_type": "markdown",
   "metadata": {},
   "source": [
    "---\n",
    "## 1.0.2 Superposition\n",
    "When a _qubit_ is in the state |0<b>⟩</b>, the result of measuring the _qubit_ will be 0 with a probability of 100 %, which is what happens with a classical bit.<br>\n",
    "Similarly, the result of measuring a _qubit_ in state |1<b>⟩</b> will yield an outcome of 1 with a probability of 100 %.<br>\n",
    "\n",
    "For a qubit in a superposition state, the outcome becomes less simple - the outcome of measuring a _qubit_ in superposition, even of a known state, cannot be predicted with certainty. Even for the most simple superposition state, when we use a quantum gate to flip the _qubit_ into superposition (which we will cover later), the superposition state has an equal probability (50 %) of yielding an outcome of either 0 or 1.\n",
    "\n",
    "This is, however, not the only superpositional state it can obtain, as it, in reality, can obtain any probability of being either one of them, which allows us to do more tricks."
   ]
  },
  {
   "cell_type": "markdown",
   "metadata": {},
   "source": [
    "---\n",
    "## 1.0.3 Entanglement\n",
    "Entanglement is a very special form of superposition, which is key to the power of quantum computing. What that means, is that we have the ability to have two or more _qubits_ in a superposition state, which are inherently linked, such that measurement of one changes the possible measurement outcomes for another, regardless of how far apart the two objects are.<br>\n",
    "\n",
    "In the quantum computer, we can use this interlinked interaction to do all sorts of interesting types of calculations, where different _qubits_ have a persistent ghostly connection with each other. This means, that if one of the entangled _qubits_ are flipped around, the other entangled _qubit_ will be flipped as well."
   ]
  },
  {
   "cell_type": "markdown",
   "metadata": {},
   "source": [
    "---\n",
    "## Next Jupyter notebook - Now let's get coding!"
   ]
  },
  {
   "cell_type": "markdown",
   "metadata": {},
   "source": [
    "[1. Exercise - Our first Quantum Program: Hello Quantum World](T01%20-%20Hello%20Quantum%20World.ipynb)"
   ]
  }
 ],
 "metadata": {
  "kernelspec": {
   "display_name": "Python 3",
   "language": "python",
   "name": "python3"
  },
  "language_info": {
   "codemirror_mode": {
    "name": "ipython",
    "version": 3
   },
   "file_extension": ".py",
   "mimetype": "text/x-python",
   "name": "python",
   "nbconvert_exporter": "python",
   "pygments_lexer": "ipython3",
   "version": "3.7.1"
  }
 },
 "nbformat": 4,
 "nbformat_minor": 2
}
