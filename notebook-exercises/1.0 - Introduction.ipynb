{
 "cells": [
  {
   "cell_type": "markdown",
   "metadata": {},
   "source": [
    "# 1.0 Introduction ( ibm.biz/Bd2Wip )\n",
    "This notebook has been constructed as part of the IBM Quantum Experience Hands-on session by Bluesmarts **Emil Reinert**, **Simon Hald**, **Jacob Bennedsen** & **Alexander Lillelund**. The purpose of this notebook is to give an introduction to the most commonly used functions available in the Qiskit framework and how to run algorithms on real quantum computers.<br>\n",
    "\n",
    "Before we start coding, it is important to have some basic knowledge about how the mechanics of a quantum computer work and how they can be utilized."
   ]
  },
  {
   "cell_type": "markdown",
   "metadata": {},
   "source": [
    "---\n",
    "## 1.0.1 Qubit\n",
    "When we talk about classical computing, we often hear the word 'bit'. A _bit_ can refer to zero or one - You can also think of it as a binary state, where you have a switch which can be turned off or turned on - either 0 or 1. A quantum computer uses quantum bits, or _Qubits_, where we represent the two corresponding states for a _Qubit_ as the states |0<b>⟩</b> and |1<b>⟩</b>. \n",
    "\n",
    "However, Qubits are not restricted to being either |0<b>⟩</b> or |1<b>⟩</b>, but can be a combination either a zero or a one by a quantum mechanical principle called Superposition.\n",
    "\n",
    "<div class=\"alert alert-block alert-warning\">\n",
    "    <b>Note:</b> Notation like ‘| ⟩’ is called the Dirac notation, and we’ll see this often, as it’s the standard notation for states in quantum mechanics.\n",
    "</div>"
   ]
  },
  {
   "cell_type": "markdown",
   "metadata": {},
   "source": [
    "---\n",
    "## 1.0.2 Superposition\n",
    "When a _qubit_ is in the state |0<b>⟩</b>, the result of _measuring_ the _Qubit_ will yield an outcome of 0 with a probability of 100 %, which is what happens with a classical bit.<br>\n",
    "Similarly, the result of measuring a _Qubit_ in state |1<b>⟩</b> will yield an outcome of 1 with a probability of 100 %.<br>\n",
    "\n",
    "For a *Qubit* in a superposition state, the outcome becomes less simple - the outcome of measuring a _Qubit_ in superposition, even of a known state, cannot be predicted with absolute certainty. Even for the most simple superposition state, when we use a quantum gate to flip the _Qubit_ into superposition (which we will cover later), the measurement of the superposition state has an equal probability (50 %) of yielding an outcome of either 0 or 1.\n",
    "\n",
    "This is, however, not the only superpositional state it can obtain, as it, in reality, can obtain any probability of being either one of them, which allows us to do more tricks."
   ]
  },
  {
   "cell_type": "markdown",
   "metadata": {},
   "source": [
    "---\n",
    "## 1.0.3 Entanglement\n",
    "Entanglement is a very special form of superposition, which is key to the power of quantum computing. What that means, is that we have the ability to have two or more _Qubits_ in a superposition state, which are inherently linked, such that measurement of one changes the possible measurement outcome of the other, regardless of how far the two are apart.<br>\n",
    "\n",
    "In a quantum computer, we can use this interlinked interaction to do all sorts of interesting types of calculations, where different _Qubits_ have a persistent ghostly connection with each other. This means, that if one of the entangled _Qubits_ are flipped around, the other entangled _Qubit_ will be flipped as well."
   ]
  },
  {
   "cell_type": "markdown",
   "metadata": {},
   "source": [
    "---\n",
    "## Next Jupyter notebook - Now let's get coding!"
   ]
  },
  {
   "cell_type": "markdown",
   "metadata": {},
   "source": [
    "[1. Exercise - Our first Quantum Program: Hello Quantum World](1.1%20-%20Hello%20Quantum%20World.ipynb)"
   ]
  }
 ],
 "metadata": {
  "kernelspec": {
   "display_name": "Python 3",
   "language": "python",
   "name": "python3"
  },
  "language_info": {
   "codemirror_mode": {
    "name": "ipython",
    "version": 3
   },
   "file_extension": ".py",
   "mimetype": "text/x-python",
   "name": "python",
   "nbconvert_exporter": "python",
   "pygments_lexer": "ipython3",
   "version": "3.8.5"
  }
 },
 "nbformat": 4,
 "nbformat_minor": 2
}
