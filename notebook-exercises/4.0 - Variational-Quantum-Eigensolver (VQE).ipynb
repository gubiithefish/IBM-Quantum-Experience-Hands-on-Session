{
 "cells": [
  {
   "cell_type": "markdown",
   "metadata": {},
   "source": [
    "_NOTE: This notebook is incomplete in the context that the code is a complete example, but lack descriptions for the steps taken._"
   ]
  },
  {
   "cell_type": "code",
   "execution_count": null,
   "metadata": {},
   "outputs": [],
   "source": [
    "from IPython.display import Image\n",
    "\n",
    "# Method import to find the least busy quantum computer\n",
    "from qiskit.providers.ibmq import least_busy\n",
    "\n",
    "# Method import to monitor monitor Quantum Execution in real time\n",
    "from qiskit.tools.monitor import job_monitor\n",
    "\n",
    "from qiskit import (\n",
    "    Aer,\n",
    "    execute,\n",
    "    IBMQ,\n",
    "    QuantumCircuit)\n",
    "\n",
    "# As we have saved the account previously, we just load the account.\n",
    "IBMQ.load_account()\n",
    "print(\"Success! Your IBM Q account has now been loaded\")"
   ]
  },
  {
   "cell_type": "markdown",
   "metadata": {},
   "source": [
    "# Variational Quantum Eigensolver or VQE...\n",
    "\n",
    "... is a quantum hybrid algorithm that finds eigenvalues of a given matrix. A quantum hybrid algorithm functions as a quantum subroutine inside of a classical optimization loop. \n",
    "There exist many problems and applications that apply to being solved by VQE. E.g. modeling nature such as chemistry or finding optimal combinations when e.g. finding the shortest route (Traveling Salesman Problem) through cities, countries, mail-routes etc. From a mathematicians point of view, these types of problems and challenges are called combinatorial optimization problems.\n",
    "\n",
    "Through this notebook, we will go through manually implementing the VQE algorithm as a learning excerise, but it is noteworthy that the [Qiskit Aqua](https://qiskit.org/aqua) module contains an optimized version of the [VQE algorithm](https://qiskit.org/documentation/api/qiskit.aqua.algorithms.adaptive.VQE.html?highlight=vqe#qiskit.aqua.algorithms.adaptive.VQE). \n",
    "\n",
    "### Notes\n",
    "\n",
    "* Hamiltonian, is in _simplified terms_ matrix describing all possible energies of a system. Defining the Hamiltonian enables us to calculate the systems behaviour.\n",
    "\n",
    "* Eigenvalue is our ground state of the system. The states have energy readings which are individually described by the eigenvectors.\n",
    "\n",
    "\n",
    "## The variational principle\n",
    "From [wikipedia](https://en.wikipedia.org/wiki/Variational_method_(quantum_mechanics)), \"_In quantum mechanics, the variational method is one way of finding approximations to the lowest energy eigenstate or ground state, and some excited states. This allows calculating approximate wavefunctions such as molecular orbitals._\"\n",
    "\n",
    "This quantum subroutine begins by preparing the quantum state, where a Hamiltonian **H** with eigenstates $\\phi\\lambda$ and eigenvalues $\\lambda$:\n",
    "\n",
    "$$\n",
    "H|\\Psi\\lambda⟩ = \\lambda|\\Psi\\lambda⟩\n",
    "$$\n",
    "\n",
    "Then measuring the expectation value.\n",
    "$$\n",
    "⟨\\Psi\\lambda|H|\\Psi\\lambda⟩\n",
    "$$\n",
    "\n",
    "The variational principle enables us to do classical computations running optimization loop for finding the eigenvalue. This is done by rotating the _R_ gates so that expectation value converges towards the loweste energy state. "
   ]
  },
  {
   "cell_type": "markdown",
   "metadata": {},
   "source": [
    "## Real world example\n",
    "\n",
    "In chemistry, finding the minimum eigenvalue of a Hermitian matrix, means that you would have characterized the provided molecules ground state energy.\n",
    "As such, our algorithm would approximate the energy of a given configuration and by guessing various parameters of a given state, repeatitavly try to minimize the energy with respect to the parameters, we will see convergence towards the lowest possible state for that configuration."
   ]
  },
  {
   "cell_type": "markdown",
   "metadata": {},
   "source": [
    "![VQE](../images/vqe/vqe.png)"
   ]
  },
  {
   "cell_type": "markdown",
   "metadata": {},
   "source": [
    "To elaborate on the illustrated above, we.. \n",
    "1. Establish the molecular configuration into qubits.\n",
    "2. Provide guessed parameteres for how we imagine the states and construct the configuration on the quantum circuit.\n",
    "3. Observe the energy of the prepared states.\n",
    "4. Provide updated parameters for next run or if convergence has been reached...\n",
    "5. ... Bob is your uncle."
   ]
  },
  {
   "cell_type": "markdown",
   "metadata": {},
   "source": [
    "# Manually running through VQE of the molecule He-H+\n",
    "\n",
    "We set our ansatz through the following variables and run it through our simulator or quantum computer. After getting the hang of the procedure, it would be advised to try and implement the classical optimzation part of the algorithm. Continuisly and chronologically, altering  the rotations of the gates to reach convergence of a sensable value."
   ]
  },
  {
   "cell_type": "code",
   "execution_count": null,
   "metadata": {},
   "outputs": [],
   "source": [
    "q0x0 = 0.0\n",
    "q1x0 = 0.0\n",
    "\n",
    "q0z0 = 0.0\n",
    "q1z0 = 0.0\n",
    "\n",
    "q0z1 = 0.0\n",
    "q1z1 = 0.0\n",
    "\n",
    "q0x1 = 0.0\n",
    "q1x1 = 0.0\n",
    "\n",
    "q0z2 = 0.0\n",
    "q1z2 = 0.0"
   ]
  },
  {
   "cell_type": "markdown",
   "metadata": {},
   "source": [
    "### The quantum part of the algorithm\n",
    "1. It sets the rotations-gates with applied rotations.\n",
    "2. Creates entanglement.\n",
    "3. Applies the remaining rotations."
   ]
  },
  {
   "cell_type": "code",
   "execution_count": null,
   "metadata": {},
   "outputs": [],
   "source": [
    "openQASM=f'''\n",
    "    OPENQASM 2.0;\n",
    "    include \"qelib1.inc\";\n",
    "\n",
    "    qreg q[2];\n",
    "    creg c[2];\n",
    "\n",
    "    rx({q0x0}) q[0];\n",
    "    rx({q1x0}) q[1];\n",
    "    rz({q0z0}) q[0];\n",
    "    rz({q1z0}) q[1];\n",
    "\n",
    "    barrier q[0],q[1];\n",
    "\n",
    "    h q[0];\n",
    "    cx q[0],q[1];\n",
    "    h q[1];\n",
    "    cx q[1],q[0];\n",
    "\n",
    "    barrier q[0],q[1];\n",
    "\n",
    "    rz({q0z1}) q[0];\n",
    "    rz({q1z1}) q[1];\n",
    "    rx({q0x1}) q[0];\n",
    "    rx({q1x1}) q[1];\n",
    "    rz({q0z2}) q[0];\n",
    "    rz({q1z2}) q[1];\n",
    "\n",
    "    measure q[0] -> c[0];\n",
    "    measure q[1] -> c[1];\n",
    "'''\n",
    "\n",
    "# Creates Quantum Circuit from our openQASM-formatted string\n",
    "circ = QuantumCircuit.from_qasm_str(openQASM)"
   ]
  },
  {
   "cell_type": "markdown",
   "metadata": {},
   "source": [
    "Drawing out our circuit"
   ]
  },
  {
   "cell_type": "code",
   "execution_count": null,
   "metadata": {},
   "outputs": [],
   "source": [
    "circ.draw(output='mpl')"
   ]
  },
  {
   "cell_type": "markdown",
   "metadata": {},
   "source": [
    "# Running the circuit on a simulator\n",
    "We can now setup our simulation environment and feel free to set the amount of shots."
   ]
  },
  {
   "cell_type": "code",
   "execution_count": null,
   "metadata": {},
   "outputs": [],
   "source": [
    "shots = 1024\n",
    "\n",
    "AccountProvider = IBMQ.get_provider()\n",
    "device = AccountProvider.get_backend('ibmq_qasm_simulator')\n",
    "circ = QuantumCircuit.from_qasm_str(openQASM)\n",
    "result_1 = execute(circ, device ,shots=shots).result()\n",
    "counts_1 = result_1.get_counts()\n",
    "expected_value_1 = (counts_1.get('00', 0) + counts_1.get('01', 0) - counts_1.get('10', 0) - counts_1.get('11', 0)) / shots\n",
    "print('Expected value for sigma_z I is : %s' % expected_value_1)"
   ]
  },
  {
   "cell_type": "markdown",
   "metadata": {},
   "source": [
    "The higher the value we can achieve, the closer we are to finding the configuration that represents the ground state of said molecule/atom."
   ]
  },
  {
   "cell_type": "markdown",
   "metadata": {},
   "source": [
    "# Running the circuit on a real quantum computer"
   ]
  },
  {
   "cell_type": "code",
   "execution_count": null,
   "metadata": {},
   "outputs": [],
   "source": [
    "AccountProvider = IBMQ.get_provider()\n",
    "\n",
    "provider = IBMQ.get_provider(hub='ibm-q')\n",
    "\n",
    "# Method to sort the public provider instances\n",
    "instances = provider.backends(filters=lambda x: x.configuration().n_qubits >= 5\n",
    "                                        and not x.configuration().simulator\n",
    "                                            and x.status().operational==True)          \n",
    "\n",
    "# Method to choose the least busy device of all the sorted devices\n",
    "backend = least_busy(instances)\n",
    "    \n",
    "# Print which backend that has been chosen\n",
    "print(\"The instance \\\"\" + str(backend) + \"\\\" has been loaded as our backend\")"
   ]
  },
  {
   "cell_type": "code",
   "execution_count": null,
   "metadata": {},
   "outputs": [],
   "source": [
    "# We excecute the job on the choosen backend\n",
    "job_2 = execute(circ, backend)\n",
    "\n",
    "# The job monitor makes it possible for us to monitor our job in real time\n",
    "job_monitor(job_2)"
   ]
  },
  {
   "cell_type": "code",
   "execution_count": null,
   "metadata": {},
   "outputs": [],
   "source": [
    "job_result_2 = job_2.result()\n",
    "counts_2 = job_result_2.get_counts(circ)\n",
    "expected_value_2 = (counts_2.get('00', 0) + counts_2.get('01', 0) - counts_2.get('10', 0) - counts_2.get('11', 0)) / shots\n",
    "print('Expected value for sigma_z I is : %s' % expected_value_2)"
   ]
  }
 ],
 "metadata": {
  "kernelspec": {
   "display_name": "Python 3",
   "language": "python",
   "name": "python3"
  },
  "language_info": {
   "codemirror_mode": {
    "name": "ipython",
    "version": 3
   },
   "file_extension": ".py",
   "mimetype": "text/x-python",
   "name": "python",
   "nbconvert_exporter": "python",
   "pygments_lexer": "ipython3",
   "version": "3.7.3"
  }
 },
 "nbformat": 4,
 "nbformat_minor": 2
}
