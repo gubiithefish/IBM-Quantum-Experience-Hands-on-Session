{
 "cells": [
  {
   "cell_type": "markdown",
   "metadata": {},
   "source": [
    "# 1.3 Exercise 3 - [H]-gate operation on Qubit"
   ]
  },
  {
   "cell_type": "markdown",
   "metadata": {},
   "source": [
    "---\n",
    "## 1.3.0 Import of libraries for the program"
   ]
  },
  {
   "cell_type": "code",
   "execution_count": null,
   "metadata": {},
   "outputs": [],
   "source": [
    "# Full import of Qiskit library\n",
    "from qiskit import *"
   ]
  },
  {
   "cell_type": "markdown",
   "metadata": {},
   "source": [
    "---\n",
    "## 1.3.1 The Quantum Circuit"
   ]
  },
  {
   "cell_type": "markdown",
   "metadata": {},
   "source": [
    "As before, we will start with 2x |0<b>⟩</b> Qubits, one of which we will perform a [H]-gate operation on, which in the end should yield the output: 01 **or** 00<br>\n",
    "\n",
    "<div class=\"alert alert-block alert-warning\">\n",
    "    <b>Note:</b> The [H]-gate sets the Qubit in a state called superposition. Superposition is a state where the Qubit is somewhere in between the value |0<b>⟩</b> and |1<b>⟩</b>. When measuring a Qubit in superposition you have an equal chance of reading a 0 or a 1.\n",
    "    \n",
    "![Image of Yaktocat](https://i.imgflip.com/2xhrnd.jpg)\n",
    "    \n",
    "The formal name for this type of gate is Hadamard gate, and it's one of the most common gates used in quantum computing, and one that you surely will get more acquainted with as you keep exploring. The Hadamard gate transforms the state of a Qubit to and from superposition. This is often used at the start of quantum algorithms, as Qubits usually needs to be in a superposition for certain (and more interesting) algorithms to work.\n",
    "\n",
    "</div>\n",
    "\n",
    "<strong style=\"color: orange;\">Firstly</strong>, we initiate our quantum program with the three main components again:"
   ]
  },
  {
   "cell_type": "code",
   "execution_count": null,
   "metadata": {},
   "outputs": [],
   "source": [
    "# Create a Quantum Register with 2 qubits.\n",
    "qr = QuantumRegister(2)\n",
    "\n",
    "# Create a classical register with 2 bits\n",
    "cr =  # ⚠️ Build a Classical Register with two bits here.\n",
    "\n",
    "# Create a Quantum Circuit containing our QR and CR. \n",
    "circuit = QuantumCircuit(qr,cr)\n",
    "\n",
    "# Prepare the method to draw our quantum program\n",
    "circuit.draw();"
   ]
  },
  {
   "cell_type": "markdown",
   "metadata": {},
   "source": [
    "---\n",
    "## 1.3.2 Adding operations to the Quantum Circuit\n",
    "<strong style=\"color: orange;\">Secondly</strong>, we add the measurement operations again, along with an [H]-gate operation on one of the Quantum Registers."
   ]
  },
  {
   "cell_type": "code",
   "execution_count": null,
   "metadata": {},
   "outputs": [],
   "source": [
    "# Adding a single [H]-gate to one of the two Quantum Registers\n",
    "circuit.h(qr[0]);\n",
    "\n",
    "# Adding a barrier for visualizing purposes\n",
    "circuit.barrier()\n",
    "\n",
    "# Adding the measurement operation to all Quantum Registers\n",
    "circuit.measure(qr, cr);"
   ]
  },
  {
   "cell_type": "markdown",
   "metadata": {},
   "source": [
    "---\n",
    "## 1.3.3 Visualizing the Quantum Circuit \n",
    "<strong style=\"color: orange;\">Thirdly</strong>, we want to **draw** our Quantum Circuit to see, if it resembles what we had in mind: One [H]-gate first, followed by two measurement operations."
   ]
  },
  {
   "cell_type": "code",
   "execution_count": null,
   "metadata": {},
   "outputs": [],
   "source": [
    "circuit # ⚠️ Fill out the rest of the command for drawing the Quantum Circuit"
   ]
  },
  {
   "cell_type": "markdown",
   "metadata": {},
   "source": [
    "---\n",
    "## 1.3.4 Run the Quantum Program\n",
    "<strong style=\"color: orange;\">Fourthly</strong>, we run our circuit as we did in the previous exercises, except this time is a little different: The cell below contains the same code as in the previous example, but with a few different commands to let it run more than once. Specifically, we have added \"shots=24, memory=True\" to the execute() function. \n",
    "\n",
    "The number of shots is just the number of times we want this code to run. This is useful because we want to demonstrate that when measuring a Qubit in superposition, sometimes it returns 0 and sometimes 1. We added \"memory=True\" as well to the let simulator know that it should remember the result from each of the shots. "
   ]
  },
  {
   "cell_type": "code",
   "execution_count": null,
   "metadata": {},
   "outputs": [],
   "source": [
    "# We load the backend to run our Quantum Program, as we did in the last example\n",
    "backend = BasicAer.get_backend('qasm_simulator')\n",
    "\n",
    "# We execute the Quantum Programwe, but have added \"shots=24, memory=True\" to the execute() function. \n",
    "job = qiskit.execute(circuit, backend, shots=24, memory=True)\n",
    "\n",
    "# Get the results from the job\n",
    "result = job.result().get_counts(circuit)\n",
    "\n",
    "# A quick print out of our result\n",
    "print(result)"
   ]
  },
  {
   "cell_type": "markdown",
   "metadata": {},
   "source": [
    "---\n",
    "## 1.3.5 Visualize the Qubits and the Result!\n",
    "<strong style=\"color: orange;\">Lastly</strong>, we visualize our results. Above this cell, you should see some kind of result like: {'00': 9, '01': 15}. In a case like that, there would be 9 cases with the result 00 and 15 cases with the result 01. \n",
    "\n",
    "To gain a better intuition and use some visualization, we need to import and execute the plot_histogram tool again:"
   ]
  },
  {
   "cell_type": "code",
   "execution_count": null,
   "metadata": {},
   "outputs": [],
   "source": [
    "from qiskit.tools.visualization import plot_histogram\n",
    "\n",
    "plot_histogram(result)"
   ]
  },
  {
   "cell_type": "markdown",
   "metadata": {},
   "source": [
    "That's it, a simple demonstration of what results we can expect when measuring a Qubit in the superposition state."
   ]
  },
  {
   "cell_type": "markdown",
   "metadata": {},
   "source": [
    "---\n",
    "# Next notebook is about the C-NOT gate!\n",
    "[1.4 Exercise 4 - [C-NOT]-gate operation on Qubit](1.4%20-%20Gate%20operation%20-%20CNOT-Gate.ipynb)\n",
    "\n"
   ]
  }
 ],
 "metadata": {
  "kernelspec": {
   "display_name": "Python 3",
   "language": "python",
   "name": "python3"
  },
  "language_info": {
   "codemirror_mode": {
    "name": "ipython",
    "version": 3
   },
   "file_extension": ".py",
   "mimetype": "text/x-python",
   "name": "python",
   "nbconvert_exporter": "python",
   "pygments_lexer": "ipython3",
   "version": "3.7.2"
  }
 },
 "nbformat": 4,
 "nbformat_minor": 2
}
