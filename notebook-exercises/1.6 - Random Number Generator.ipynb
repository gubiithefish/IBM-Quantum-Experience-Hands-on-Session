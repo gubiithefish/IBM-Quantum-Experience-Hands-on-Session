{
 "cells": [
  {
   "cell_type": "markdown",
   "metadata": {},
   "source": [
    "# 1.6 Exercise 6 - Random Number Generator\n",
    "\n",
    "---\n",
    "\n",
    "So, let's say that you want to make a game where you have a computer generating random numbers. You and your friends then have to pick a number and the person who's guess is closest to the number wins.\n",
    "\n",
    "Sounds fun right? Well you are actually wrong. It just so happends that all of your friends are computers and because computers can only generate psudo-random numbers, your friends are able to guess the number every time. Not so fun am I right? \n",
    "\n",
    "--- \n",
    "\n",
    "So what do you do?\n",
    "\n",
    "---\n",
    "\n",
    "Of course you develop a simple algorithm with a quantum computer, which no classical computer is able to predict!\n",
    "\n",
    "And given that there are only a minimal amount of quantum computers in the world the posibility of you being friends with one of them, is very unlikely.."
   ]
  },
  {
   "cell_type": "markdown",
   "metadata": {},
   "source": [
    "---\n",
    "## 1.6.0 Import of libraries for the program"
   ]
  },
  {
   "cell_type": "code",
   "execution_count": 1,
   "metadata": {},
   "outputs": [],
   "source": [
    "from qiskit import * "
   ]
  },
  {
   "cell_type": "code",
   "execution_count": 2,
   "metadata": {},
   "outputs": [],
   "source": [
    "# You should know by now that this is how you build a Quantum Circuit\n",
    "qr = QuantumRegister(1)\n",
    "\n",
    "cr = ClassicalRegister(1)\n",
    "\n",
    "circuit = QuantumCircuit(qr, cr)"
   ]
  },
  {
   "cell_type": "code",
   "execution_count": 5,
   "metadata": {},
   "outputs": [],
   "source": [
    "# Here we add an H gate, the one that puts Qubits in superposition\n",
    "circuit.h(qr[0])\n",
    "\n",
    "# Lastly a measure of the Qubit\n",
    "circuit.measure(qr, cr);"
   ]
  },
  {
   "cell_type": "markdown",
   "metadata": {},
   "source": [
    "We choose a backend, like before. To save you from waiting we have chosen the simulator backend. \n",
    "If you want, you can set up the real Qunatum Computer like earlier, but at your own risk.\n",
    "\n",
    "---\n",
    "\n",
    "<div class=\"alert alert-block alert-warning\">\n",
    "    <b>Note:</b> In this example we are running on a quantum simulator, but to get a truly random number we would need to run it on a real quantum computer.\n",
    "</div>"
   ]
  },
  {
   "cell_type": "code",
   "execution_count": 9,
   "metadata": {},
   "outputs": [],
   "source": [
    "backend = BasicAer.get_backend('qasm_simulator')"
   ]
  },
  {
   "cell_type": "markdown",
   "metadata": {},
   "source": [
    "We run our circuit. You might notice that it says \"shots=8\" and \"memory=True\"\n",
    "Shots is the amount of times the circuit should be run. Memory=True just tells the computer to store the result from each Shot."
   ]
  },
  {
   "cell_type": "code",
   "execution_count": 10,
   "metadata": {},
   "outputs": [],
   "source": [
    "job = execute(circuit, backend, shots=8, memory=True)"
   ]
  },
  {
   "cell_type": "code",
   "execution_count": 11,
   "metadata": {},
   "outputs": [
    {
     "name": "stdout",
     "output_type": "stream",
     "text": [
      "['1', '0', '1', '1', '1', '1', '1', '1']\n"
     ]
    }
   ],
   "source": [
    "data = job.result().get_memory()\n",
    "print(data)"
   ]
  },
  {
   "cell_type": "markdown",
   "metadata": {},
   "source": [
    "The operation returns a list of either ones or zeros, the techy people out there will notice that this is similar to a byte. If we change this list into a String we are able to transform this to a number.\n",
    "<div class=\"alert alert-block alert-warning\">\n",
    "    <b>Note:</b> A string is just nerd talk for a word.\n",
    "</div>"
   ]
  },
  {
   "cell_type": "code",
   "execution_count": 14,
   "metadata": {},
   "outputs": [
    {
     "name": "stdout",
     "output_type": "stream",
     "text": [
      "10111111\n"
     ]
    }
   ],
   "source": [
    "s = \"\"\n",
    "for x in range (0,len(data)):\n",
    "    s += data[x]\n",
    "print(s)"
   ]
  },
  {
   "cell_type": "markdown",
   "metadata": {},
   "source": [
    "The string above is the binary representation of the number below."
   ]
  },
  {
   "cell_type": "code",
   "execution_count": 16,
   "metadata": {},
   "outputs": [
    {
     "data": {
      "text/plain": [
       "191"
      ]
     },
     "execution_count": 16,
     "metadata": {},
     "output_type": "execute_result"
    }
   ],
   "source": [
    "int(s, 2)"
   ]
  },
  {
   "cell_type": "markdown",
   "metadata": {},
   "source": [
    "<div class=\"alert alert-block alert-warning\">\n",
    "    <b>Note:</b> Try running the code multiple times to get different numbers.\n",
    "</div>"
   ]
  },
  {
   "cell_type": "markdown",
   "metadata": {},
   "source": [
    "# Now let's move on to some real quantum algorithms!\n",
    "[First quantum example - Deutsch](2.0%20-%20Deutsch–Jozsa%20algorithm.ipynb)"
   ]
  }
 ],
 "metadata": {
  "kernelspec": {
   "display_name": "Python 3",
   "language": "python",
   "name": "python3"
  },
  "language_info": {
   "codemirror_mode": {
    "name": "ipython",
    "version": 3
   },
   "file_extension": ".py",
   "mimetype": "text/x-python",
   "name": "python",
   "nbconvert_exporter": "python",
   "pygments_lexer": "ipython3",
   "version": "3.7.1"
  }
 },
 "nbformat": 4,
 "nbformat_minor": 2
}
