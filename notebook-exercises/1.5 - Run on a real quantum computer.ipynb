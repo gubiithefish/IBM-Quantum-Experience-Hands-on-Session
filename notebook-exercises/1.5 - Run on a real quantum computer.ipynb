{
 "cells": [
  {
   "cell_type": "markdown",
   "metadata": {},
   "source": [
    "# 1.5 Exercise 5 - Code on a quantum computer with cloud platform IBM Q\n",
    "As you may have noticed, all our tests up until now have only been running on simulators being either 'qasm_simulator' or the 'statevector_simulator'.<br>\n",
    "\n",
    "These simulators are fine for running basic Quantum Circuits or for testing your code before sending it off to a real Quantum Computer. So, now that we have gone throug several examples using simulators, let's do some examples with real Quantum Computers via our cloud platform, IBM Q!<br>"
   ]
  },
  {
   "cell_type": "markdown",
   "metadata": {},
   "source": [
    "---\n",
    "## 1.5.0 Import of libraries for the program"
   ]
  },
  {
   "cell_type": "code",
   "execution_count": null,
   "metadata": {},
   "outputs": [],
   "source": [
    "# Full import of Qiskit library\n",
    "from qiskit import *\n",
    "\n",
    "# Method import to find the least busy quantum computer\n",
    "from qiskit.providers.ibmq import least_busy\n",
    "\n",
    "# Method import to monitor monitor Quantum Execution in real time\n",
    "from qiskit.tools.monitor import job_monitor"
   ]
  },
  {
   "cell_type": "markdown",
   "metadata": {},
   "source": [
    "<div class=\"alert alert-info\" role=\"alert\">\n",
    "  <strong>Notice!</strong> Before you can connect to the IBM Q cloud platform and use the Quantum Computers, you need to load your API token from your Account:\n",
    "    \n",
    "1. Follow this link, <a href=\"https://quantumexperience.ng.bluemix.net/qx/account/advanced\">QuantumExperience</a>, to either sign-up/sign-in to retrieve your API token. [**!! Here is a guide !!**](./Appendix%20-%20Create%20user%20%26%20Get%20API%20Token.ipynb)\n",
    "<br> <br>\n",
    "2. Insert the API token in the section marked Your_Key_Here in the cell below, without deleting the \"\".\n",
    "</div>"
   ]
  },
  {
   "cell_type": "code",
   "execution_count": null,
   "metadata": {},
   "outputs": [],
   "source": [
    "# Simply copy your API Token from IBM Q Experience platform and replace the string below\n",
    "\n",
    "API_Token = \"Your_Key_Here\"\n",
    "\n",
    "#####################################################################################################################\n",
    "# IGNORE the code below\n",
    "#####################################################################################################################\n",
    "if len(API_Token) == 13:\n",
    "    print(\"ERRROR: You have not replaced the text above with your API token from IBM Q Experience\\n\"*10)\n",
    "\n",
    "elif \"_Here\" in API_Token or \"Your_\" in API_Token:\n",
    "    print(\"ERRROR: The API token has not been inserted properly, please make sure to delete the existing text\\n\"*10)\n",
    "\n",
    "elif len(API_Token) != 13:\n",
    "    try:\n",
    "        # Save the account temporarily to this notebook for as long, as it is open in your browser.\n",
    "        IBMQ.save_account(API_Token, overwrite=True)\n",
    "\n",
    "        # When we have saved the account, we move on to loading the account.\n",
    "        IBMQ.load_account()\n",
    "        \n",
    "        # A message of positive reinforcement for those of you, who does it correctly ;-) \n",
    "        print(\"Success! Your IBM Q account has now been loaded\")\n",
    "    \n",
    "    except NameError:\n",
    "            print(\"ERROR: You have not run the library import block above correctly\\n\"*10)"
   ]
  },
  {
   "cell_type": "markdown",
   "metadata": {},
   "source": [
    "To use the least busy Quantum Computer for our experiements below, we define the device like this:"
   ]
  },
  {
   "cell_type": "code",
   "execution_count": null,
   "metadata": {},
   "outputs": [],
   "source": [
    "try:\n",
    "    # Method to get all public provider instances\n",
    "    provider = IBMQ.get_provider(hub='ibm-q')\n",
    "\n",
    "    # Method to sort the public provider instances\n",
    "    instances = provider.backends(filters=lambda x: x.configuration().n_qubits >= 5\n",
    "                                            and not x.configuration().simulator\n",
    "                                                and x.status().operational==True)          \n",
    "\n",
    "    # Method to choose the least busy device of all the sorted devices\n",
    "    backend = least_busy(instances)\n",
    "    \n",
    "    # Print which backend that has been chosen\n",
    "    print(\"The instance \\\"\" + str(backend) + \"\\\" has been loaded as our backend\")\n",
    "\n",
    "except:\n",
    "    print(\"ERROR: Your account has either not loaded properly or there may be a problem with your API token\\n\"*10)"
   ]
  },
  {
   "cell_type": "markdown",
   "metadata": {},
   "source": [
    "---\n",
    "## 1.5.1 The Quantum Circuit"
   ]
  },
  {
   "cell_type": "markdown",
   "metadata": {},
   "source": [
    "This step is just business as usual, initiating our Quantum Circuit. \n",
    "\n",
    "<strong style=\"color: orange;\">Firstly</strong>, we initiate our quantum program with the three main compontents:"
   ]
  },
  {
   "cell_type": "code",
   "execution_count": null,
   "metadata": {},
   "outputs": [],
   "source": [
    "# Create a Quantum Register with 2 qubits.\n",
    "qr = QuantumRegister(2)\n",
    "\n",
    "# Create a classical register with 2 bits\n",
    "cr = ClassicalRegister(2)\n",
    "\n",
    "# Create a Quantum Circuit containing our QR and CR. \n",
    "circuit = QuantumCircuit(qr,cr)\n",
    "\n",
    "# Prepare the method to draw our quantum program\n",
    "circuit.draw();"
   ]
  },
  {
   "cell_type": "markdown",
   "metadata": {},
   "source": [
    "---\n",
    "## 1.5.2 Adding operations to the Quantum Circuit\n",
    "<strong style=\"color: orange;\">Secondly</strong>, as an example, we will use a [H]-gate - _but feel free to use whichever gate you want to try on the real Quantum Computer!_"
   ]
  },
  {
   "cell_type": "code",
   "execution_count": null,
   "metadata": {},
   "outputs": [],
   "source": [
    "# Adding a single [H]-gate to one of the two Quantum Registers\n",
    "circuit.h(qr[0]);\n",
    "\n",
    "# Adding a barrier for visualising purposes\n",
    "circuit.barrier()\n",
    "\n",
    "# Adding the measurement operation to all Quantum Registers\n",
    "circuit.measure(qr, cr);"
   ]
  },
  {
   "cell_type": "markdown",
   "metadata": {},
   "source": [
    "---\n",
    "## 1.5.3 Visualising the Quantum Circuit \n",
    "<strong style=\"color: orange;\">Thirdly</strong>, we want to view our Quantum Circuit to see, if it resembles what we had in mind: One [x]-gate first, followed by two measurement operations."
   ]
  },
  {
   "cell_type": "code",
   "execution_count": null,
   "metadata": {},
   "outputs": [],
   "source": [
    "circuit.draw(output='mpl')"
   ]
  },
  {
   "cell_type": "markdown",
   "metadata": {},
   "source": [
    "---\n",
    "## 1.5.4 Run the Quantum Program\n",
    "<strong style=\"color: orange;\">Fourthly</strong>, as mentioned earlier, we run our Quantum Program on the least busy Quantum Computer. Unfortunately, here you may not be the only one \"calling on the line\" to the Quantum Computer, therefore you might experience a queue. After running the code below, you should see an output with the status of your job. This might take a little while, depending on how busy the machines are. So grab a cup of coffee, reflect on what you have learned so far or ask the person sitting next to you, what you have found to be the most challenging part of this workshop so far. "
   ]
  },
  {
   "cell_type": "code",
   "execution_count": null,
   "metadata": {},
   "outputs": [],
   "source": [
    "# We excecute the job on the choosen backend\n",
    "job = execute(circuit, backend)\n",
    "\n",
    "# The job monitor makes it possible for us to monitor our job in real time\n",
    "job_monitor(job)"
   ]
  },
  {
   "cell_type": "markdown",
   "metadata": {},
   "source": [
    "When the Job Status says \"job has successfully run\", we can use the code below to retrieve the output."
   ]
  },
  {
   "cell_type": "code",
   "execution_count": null,
   "metadata": {},
   "outputs": [],
   "source": [
    "job_result = job.result()\n",
    "counts = job_result.get_counts(circuit)"
   ]
  },
  {
   "cell_type": "markdown",
   "metadata": {},
   "source": [
    "---\n",
    "## 1.5.5 Visualize the Result!\n",
    "<strong style=\"color: orange;\">Lastly</strong>, let's import the histogram to, yet again, visualize the output from our Quantum Device."
   ]
  },
  {
   "cell_type": "code",
   "execution_count": null,
   "metadata": {},
   "outputs": [],
   "source": [
    "from qiskit.tools.visualization import plot_histogram"
   ]
  },
  {
   "cell_type": "markdown",
   "metadata": {},
   "source": [
    "... which then can be used to create our visualization:"
   ]
  },
  {
   "cell_type": "code",
   "execution_count": null,
   "metadata": {},
   "outputs": [],
   "source": [
    "plot_histogram(counts)"
   ]
  },
  {
   "cell_type": "markdown",
   "metadata": {},
   "source": [
    "If you followed our example and chose to add a single [x]-gate to the first Qubit, you should see a strong tendency towards the result 01. \n",
    "\n",
    "Because Quantum Computing is about statistics, you might also see some weak tendencies towards other answers. This is part of Quantum Computing, the results we get are rarely 100% certain, instead we look for tendencies and how to amplify them. "
   ]
  },
  {
   "cell_type": "markdown",
   "metadata": {},
   "source": [
    "---\n",
    "<div class=\"alert alert-success\" role=\"alert\">\n",
    "  <h1 class=\"alert-heading\">Well done!</h1>\n",
    "    <p><b>Aww yeah</b>, you should now have successfully created a few Quantum Circuits, used different types of Quantum Gates and even tested your code on a real Quantum Computer in the cloud!<br><br>\n",
    "\n",
    "**But!** We are not done yet!<br><br>\n",
    "\n",
    "We will move on to making a minor Quantum Program and then move on to fiddling with some of the larger and best-known Quantum Algorithms.\n",
    "</p>\n",
    "</div>"
   ]
  },
  {
   "cell_type": "markdown",
   "metadata": {},
   "source": [
    "---\n",
    "## Let's move on to the last Notebook we go through together!\n",
    "[1.6 Exercise 6 - Random Number Generator](1.6%20-%20Random%20Number%20Generator.ipynb)"
   ]
  }
 ],
 "metadata": {
  "kernelspec": {
   "display_name": "Python 3",
   "language": "python",
   "name": "python3"
  },
  "language_info": {
   "codemirror_mode": {
    "name": "ipython",
    "version": 3
   },
   "file_extension": ".py",
   "mimetype": "text/x-python",
   "name": "python",
   "nbconvert_exporter": "python",
   "pygments_lexer": "ipython3",
   "version": "3.7.3"
  }
 },
 "nbformat": 4,
 "nbformat_minor": 2
}
