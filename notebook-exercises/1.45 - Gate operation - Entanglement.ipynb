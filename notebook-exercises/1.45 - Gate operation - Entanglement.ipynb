{
 "cells": [
  {
   "cell_type": "markdown",
   "metadata": {},
   "source": [
    "# 1.45 Exercise 5.5 - [H]-gate and [C-NOT]-gate"
   ]
  },
  {
   "cell_type": "markdown",
   "metadata": {},
   "source": [
    "---\n",
    "## 1.45.0 Import of libraries for the program"
   ]
  },
  {
   "cell_type": "code",
   "execution_count": null,
   "metadata": {},
   "outputs": [],
   "source": [
    "# Full import of Qiskit library\n",
    "from qiskit import *\n",
    "\n",
    "# Import the visualization tool beforehand, as we know, we are going to use it.\n",
    "from qiskit.tools.visualization import plot_histogram"
   ]
  },
  {
   "cell_type": "markdown",
   "metadata": {},
   "source": [
    "---\n",
    "## 1.45.1 The Quantum Circuit"
   ]
  },
  {
   "cell_type": "markdown",
   "metadata": {},
   "source": [
    "As before, we will start with 2x |0<b>⟩</b> Qubits, one of which we will perform a [H]-gate operation on, which in the end should yield the output: 01 **or** 00<br>\n",
    "\n",
    "<div class=\"alert alert-block alert-warning\">\n",
    "    <b>Note:</b> The [H]-gate sets the Qubit in a state called superposition. Superposition is a state where the Qubit is somewhere in between the value |0<b>⟩</b> and |1<b>⟩</b>. When measuring a Qubit in superposition you have an equal chance of reading a 0 or a 1.\n",
    "</div>\n",
    "\n",
    "But not only do we add a Hadamard gate - we will add a C-NOT gate, which will entangle our Qubits.\n",
    "\n",
    "<div class=\"alert alert-block alert-warning\">\n",
    "    <b>Note:</b> We can use this interlinked interaction to do all sorts of interesting types of calculations, where different _Qubits_ have a persistent ghostly connection with each other. This means, that if one of the entangled _Qubits_ are flipped around, the other entangled _Qubit_ will be flipped as well.\n",
    "</div>\n",
    "\n",
    "\n",
    "<strong style=\"color: orange;\">Firstly</strong>, we initiate our quantum program with the three main components again:"
   ]
  },
  {
   "cell_type": "code",
   "execution_count": null,
   "metadata": {},
   "outputs": [],
   "source": [
    "try:\n",
    "    # Create a Quantum Register with 2 Qubits.\n",
    "    qr = #TODO: ⚠️⚠️⚠️⚠️⚠️ Add a Quantum Register with two bits here ⚠️⚠️⚠️⚠️⚠️\n",
    "\n",
    "    # Create a classical register with 2 bits\n",
    "    cr = #TODO: ⚠️⚠️⚠️⚠️⚠️ Add a Classical Register with two bits here ⚠️⚠️⚠️⚠️⚠️\n",
    "\n",
    "    # Create a Quantum Circuit containing our QR and CR. \n",
    "    circuit = #TODO: ⚠️⚠️⚠️⚠️⚠️ Add a Quantum Circuit with two bits here ⚠️⚠️⚠️⚠️⚠️\n",
    "\n",
    "except NameError:\n",
    "    print(\"ERROR: There is either an error in your code - or you have not run the library import block above correctly\\n\"*10)"
   ]
  },
  {
   "cell_type": "markdown",
   "metadata": {},
   "source": [
    "---\n",
    "## 1.45.2 Adding operations to the Quantum Circuit\n",
    "<strong style=\"color: orange;\">Secondly</strong>, we add the measurement operations again, along with an [H]-gate operation on one of the Quantum Registers."
   ]
  },
  {
   "cell_type": "code",
   "execution_count": null,
   "metadata": {},
   "outputs": [],
   "source": [
    "# Adding a single [H]-gate to one of the two Quantum Registers\n",
    "#TODO: ⚠️⚠️⚠️⚠️⚠️ Add a [H]-gate here acting on the first qubit  ⚠️⚠️⚠️⚠️⚠️\n",
    "#TODO: ⚠️⚠️⚠️⚠️⚠️ Add a [CX]-gate here: 1st qubit as our control qubit and 2nd qubit as target qubit  ⚠️⚠️⚠️⚠️⚠️\n",
    "\n",
    "# Adding a barrier for visualizing purposes\n",
    "circuit.barrier()\n",
    "\n",
    "# Adding the measurement operation to all Quantum Registers\n",
    "circuit.measure(qr, cr);"
   ]
  },
  {
   "cell_type": "markdown",
   "metadata": {},
   "source": [
    "---\n",
    "## 1.45.3 Visualizing the Quantum Circuit \n",
    "<strong style=\"color: orange;\">Thirdly</strong>, we want to **draw** our Quantum Circuit to see, if it resembles what we had in mind: One [H]-gate first, followed by two measurement operations."
   ]
  },
  {
   "cell_type": "code",
   "execution_count": null,
   "metadata": {},
   "outputs": [],
   "source": [
    "circuit.draw(output='mpl')"
   ]
  },
  {
   "cell_type": "markdown",
   "metadata": {},
   "source": [
    "---\n",
    "## 1.45.4 Run the Quantum Program\n",
    "<strong style=\"color: orange;\">Fourthly</strong>, we run our circuit as usual, but this time we are using 1024 shots to get a good statistically spread of the reading of the qubits. \n",
    "\n",
    "The number of shots is the number of times we want this code to run. This is useful as we want to demonstrate that by measuring two entangled qubits, we will get measurements of two qubits being in the same state."
   ]
  },
  {
   "cell_type": "code",
   "execution_count": null,
   "metadata": {},
   "outputs": [],
   "source": [
    "# We load the backend to run our Quantum Program, as we did in the last example\n",
    "backend = BasicAer.get_backend('qasm_simulator')\n",
    "\n",
    "# We execute the Quantum Programwe, but have added \"shots=1024, memory=True\" to the execute() function. \n",
    "job = qiskit.execute(circuit, backend, shots=1024, memory=True)\n",
    "\n",
    "# Get the results from the job\n",
    "result = job.result().get_counts(circuit)\n",
    "\n",
    "# A quick print out of our result\n",
    "print(result)"
   ]
  },
  {
   "cell_type": "markdown",
   "metadata": {},
   "source": [
    "---\n",
    "## 1.45.5 Visualize the Qubits and the Result!\n",
    "<strong style=\"color: orange;\">Lastly</strong>, we visualize our results. Above this cell, you should see some kind of result like: {'11': 540, '00': 484}. <br>\n",
    "In a case like that, there would be 540 readings with the result 11 and 484 readings with the result 00. \n",
    "\n",
    "To gain a better intuition and use some visualization, we need to import and execute the plot_histogram tool again:"
   ]
  },
  {
   "cell_type": "markdown",
   "metadata": {},
   "source": [
    "### Histogram style"
   ]
  },
  {
   "cell_type": "code",
   "execution_count": null,
   "metadata": {},
   "outputs": [],
   "source": [
    "plot_histogram(result)"
   ]
  },
  {
   "cell_type": "markdown",
   "metadata": {},
   "source": [
    "That's it, a simple demonstration of what results we can expect when measuring Qubits in the entangled state."
   ]
  },
  {
   "cell_type": "markdown",
   "metadata": {},
   "source": [
    "---\n",
    "# We will run our next notebook on our real quantum computer!\n",
    "[1.5 Exercise 5 - Run code on a quantum device with cloud platform IBM Q](1.5%20-%20Run%20on%20a%20real%20quantum%20computer.ipynb)"
   ]
  }
 ],
 "metadata": {
  "kernelspec": {
   "display_name": "Python 3",
   "language": "python",
   "name": "python3"
  },
  "language_info": {
   "codemirror_mode": {
    "name": "ipython",
    "version": 3
   },
   "file_extension": ".py",
   "mimetype": "text/x-python",
   "name": "python",
   "nbconvert_exporter": "python",
   "pygments_lexer": "ipython3",
   "version": "3.7.3"
  }
 },
 "nbformat": 4,
 "nbformat_minor": 2
}
